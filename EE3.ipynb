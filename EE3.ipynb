{
  "nbformat": 4,
  "nbformat_minor": 0,
  "metadata": {
    "colab": {
      "provenance": [],
      "gpuType": "T4",
      "include_colab_link": true
    },
    "kernelspec": {
      "name": "python3",
      "display_name": "Python 3"
    },
    "language_info": {
      "name": "python"
    },
    "widgets": {
      "application/vnd.jupyter.widget-state+json": {
        "4ea80f8403554f83aeae42d48d438bef": {
          "model_module": "@jupyter-widgets/controls",
          "model_name": "HBoxModel",
          "model_module_version": "1.5.0",
          "state": {
            "_dom_classes": [],
            "_model_module": "@jupyter-widgets/controls",
            "_model_module_version": "1.5.0",
            "_model_name": "HBoxModel",
            "_view_count": null,
            "_view_module": "@jupyter-widgets/controls",
            "_view_module_version": "1.5.0",
            "_view_name": "HBoxView",
            "box_style": "",
            "children": [
              "IPY_MODEL_73c4fb51d00c452da86248e523f833a0",
              "IPY_MODEL_bbae2a60c63442668c8725fe5ad61019",
              "IPY_MODEL_c65d43601ecc420f92174aba1133270c"
            ],
            "layout": "IPY_MODEL_9c030dd41baf422eacd3864917e86274"
          }
        },
        "73c4fb51d00c452da86248e523f833a0": {
          "model_module": "@jupyter-widgets/controls",
          "model_name": "HTMLModel",
          "model_module_version": "1.5.0",
          "state": {
            "_dom_classes": [],
            "_model_module": "@jupyter-widgets/controls",
            "_model_module_version": "1.5.0",
            "_model_name": "HTMLModel",
            "_view_count": null,
            "_view_module": "@jupyter-widgets/controls",
            "_view_module_version": "1.5.0",
            "_view_name": "HTMLView",
            "description": "",
            "description_tooltip": null,
            "layout": "IPY_MODEL_5c0c7bf91a0c4d4185cfa627bf822603",
            "placeholder": "​",
            "style": "IPY_MODEL_c274d6c51dcc4eabbca94355f3f84ad9",
            "value": "Processing:  75%"
          }
        },
        "bbae2a60c63442668c8725fe5ad61019": {
          "model_module": "@jupyter-widgets/controls",
          "model_name": "FloatProgressModel",
          "model_module_version": "1.5.0",
          "state": {
            "_dom_classes": [],
            "_model_module": "@jupyter-widgets/controls",
            "_model_module_version": "1.5.0",
            "_model_name": "FloatProgressModel",
            "_view_count": null,
            "_view_module": "@jupyter-widgets/controls",
            "_view_module_version": "1.5.0",
            "_view_name": "ProgressView",
            "bar_style": "danger",
            "description": "",
            "description_tooltip": null,
            "layout": "IPY_MODEL_465bbf702e7847789396c2e33c002a4f",
            "max": 4,
            "min": 0,
            "orientation": "horizontal",
            "style": "IPY_MODEL_964ab33d9c9e4971aa3d75ab8d1c0e20",
            "value": 3
          }
        },
        "c65d43601ecc420f92174aba1133270c": {
          "model_module": "@jupyter-widgets/controls",
          "model_name": "HTMLModel",
          "model_module_version": "1.5.0",
          "state": {
            "_dom_classes": [],
            "_model_module": "@jupyter-widgets/controls",
            "_model_module_version": "1.5.0",
            "_model_name": "HTMLModel",
            "_view_count": null,
            "_view_module": "@jupyter-widgets/controls",
            "_view_module_version": "1.5.0",
            "_view_name": "HTMLView",
            "description": "",
            "description_tooltip": null,
            "layout": "IPY_MODEL_bdcce3f26c0247cb9860752a32d6d3f7",
            "placeholder": "​",
            "style": "IPY_MODEL_ddd370abddd840418c1e0077700da8d9",
            "value": " 3/4 [00:01&lt;00:00,  1.67it/s]"
          }
        },
        "9c030dd41baf422eacd3864917e86274": {
          "model_module": "@jupyter-widgets/base",
          "model_name": "LayoutModel",
          "model_module_version": "1.2.0",
          "state": {
            "_model_module": "@jupyter-widgets/base",
            "_model_module_version": "1.2.0",
            "_model_name": "LayoutModel",
            "_view_count": null,
            "_view_module": "@jupyter-widgets/base",
            "_view_module_version": "1.2.0",
            "_view_name": "LayoutView",
            "align_content": null,
            "align_items": null,
            "align_self": null,
            "border": null,
            "bottom": null,
            "display": null,
            "flex": null,
            "flex_flow": null,
            "grid_area": null,
            "grid_auto_columns": null,
            "grid_auto_flow": null,
            "grid_auto_rows": null,
            "grid_column": null,
            "grid_gap": null,
            "grid_row": null,
            "grid_template_areas": null,
            "grid_template_columns": null,
            "grid_template_rows": null,
            "height": null,
            "justify_content": null,
            "justify_items": null,
            "left": null,
            "margin": null,
            "max_height": null,
            "max_width": null,
            "min_height": null,
            "min_width": null,
            "object_fit": null,
            "object_position": null,
            "order": null,
            "overflow": null,
            "overflow_x": null,
            "overflow_y": null,
            "padding": null,
            "right": null,
            "top": null,
            "visibility": null,
            "width": null
          }
        },
        "5c0c7bf91a0c4d4185cfa627bf822603": {
          "model_module": "@jupyter-widgets/base",
          "model_name": "LayoutModel",
          "model_module_version": "1.2.0",
          "state": {
            "_model_module": "@jupyter-widgets/base",
            "_model_module_version": "1.2.0",
            "_model_name": "LayoutModel",
            "_view_count": null,
            "_view_module": "@jupyter-widgets/base",
            "_view_module_version": "1.2.0",
            "_view_name": "LayoutView",
            "align_content": null,
            "align_items": null,
            "align_self": null,
            "border": null,
            "bottom": null,
            "display": null,
            "flex": null,
            "flex_flow": null,
            "grid_area": null,
            "grid_auto_columns": null,
            "grid_auto_flow": null,
            "grid_auto_rows": null,
            "grid_column": null,
            "grid_gap": null,
            "grid_row": null,
            "grid_template_areas": null,
            "grid_template_columns": null,
            "grid_template_rows": null,
            "height": null,
            "justify_content": null,
            "justify_items": null,
            "left": null,
            "margin": null,
            "max_height": null,
            "max_width": null,
            "min_height": null,
            "min_width": null,
            "object_fit": null,
            "object_position": null,
            "order": null,
            "overflow": null,
            "overflow_x": null,
            "overflow_y": null,
            "padding": null,
            "right": null,
            "top": null,
            "visibility": null,
            "width": null
          }
        },
        "c274d6c51dcc4eabbca94355f3f84ad9": {
          "model_module": "@jupyter-widgets/controls",
          "model_name": "DescriptionStyleModel",
          "model_module_version": "1.5.0",
          "state": {
            "_model_module": "@jupyter-widgets/controls",
            "_model_module_version": "1.5.0",
            "_model_name": "DescriptionStyleModel",
            "_view_count": null,
            "_view_module": "@jupyter-widgets/base",
            "_view_module_version": "1.2.0",
            "_view_name": "StyleView",
            "description_width": ""
          }
        },
        "465bbf702e7847789396c2e33c002a4f": {
          "model_module": "@jupyter-widgets/base",
          "model_name": "LayoutModel",
          "model_module_version": "1.2.0",
          "state": {
            "_model_module": "@jupyter-widgets/base",
            "_model_module_version": "1.2.0",
            "_model_name": "LayoutModel",
            "_view_count": null,
            "_view_module": "@jupyter-widgets/base",
            "_view_module_version": "1.2.0",
            "_view_name": "LayoutView",
            "align_content": null,
            "align_items": null,
            "align_self": null,
            "border": null,
            "bottom": null,
            "display": null,
            "flex": null,
            "flex_flow": null,
            "grid_area": null,
            "grid_auto_columns": null,
            "grid_auto_flow": null,
            "grid_auto_rows": null,
            "grid_column": null,
            "grid_gap": null,
            "grid_row": null,
            "grid_template_areas": null,
            "grid_template_columns": null,
            "grid_template_rows": null,
            "height": null,
            "justify_content": null,
            "justify_items": null,
            "left": null,
            "margin": null,
            "max_height": null,
            "max_width": null,
            "min_height": null,
            "min_width": null,
            "object_fit": null,
            "object_position": null,
            "order": null,
            "overflow": null,
            "overflow_x": null,
            "overflow_y": null,
            "padding": null,
            "right": null,
            "top": null,
            "visibility": null,
            "width": null
          }
        },
        "964ab33d9c9e4971aa3d75ab8d1c0e20": {
          "model_module": "@jupyter-widgets/controls",
          "model_name": "ProgressStyleModel",
          "model_module_version": "1.5.0",
          "state": {
            "_model_module": "@jupyter-widgets/controls",
            "_model_module_version": "1.5.0",
            "_model_name": "ProgressStyleModel",
            "_view_count": null,
            "_view_module": "@jupyter-widgets/base",
            "_view_module_version": "1.2.0",
            "_view_name": "StyleView",
            "bar_color": null,
            "description_width": ""
          }
        },
        "bdcce3f26c0247cb9860752a32d6d3f7": {
          "model_module": "@jupyter-widgets/base",
          "model_name": "LayoutModel",
          "model_module_version": "1.2.0",
          "state": {
            "_model_module": "@jupyter-widgets/base",
            "_model_module_version": "1.2.0",
            "_model_name": "LayoutModel",
            "_view_count": null,
            "_view_module": "@jupyter-widgets/base",
            "_view_module_version": "1.2.0",
            "_view_name": "LayoutView",
            "align_content": null,
            "align_items": null,
            "align_self": null,
            "border": null,
            "bottom": null,
            "display": null,
            "flex": null,
            "flex_flow": null,
            "grid_area": null,
            "grid_auto_columns": null,
            "grid_auto_flow": null,
            "grid_auto_rows": null,
            "grid_column": null,
            "grid_gap": null,
            "grid_row": null,
            "grid_template_areas": null,
            "grid_template_columns": null,
            "grid_template_rows": null,
            "height": null,
            "justify_content": null,
            "justify_items": null,
            "left": null,
            "margin": null,
            "max_height": null,
            "max_width": null,
            "min_height": null,
            "min_width": null,
            "object_fit": null,
            "object_position": null,
            "order": null,
            "overflow": null,
            "overflow_x": null,
            "overflow_y": null,
            "padding": null,
            "right": null,
            "top": null,
            "visibility": null,
            "width": null
          }
        },
        "ddd370abddd840418c1e0077700da8d9": {
          "model_module": "@jupyter-widgets/controls",
          "model_name": "DescriptionStyleModel",
          "model_module_version": "1.5.0",
          "state": {
            "_model_module": "@jupyter-widgets/controls",
            "_model_module_version": "1.5.0",
            "_model_name": "DescriptionStyleModel",
            "_view_count": null,
            "_view_module": "@jupyter-widgets/base",
            "_view_module_version": "1.2.0",
            "_view_name": "StyleView",
            "description_width": ""
          }
        },
        "b4dfe0da0bf1471891c11368fbb22197": {
          "model_module": "@jupyter-widgets/controls",
          "model_name": "HBoxModel",
          "model_module_version": "1.5.0",
          "state": {
            "_dom_classes": [],
            "_model_module": "@jupyter-widgets/controls",
            "_model_module_version": "1.5.0",
            "_model_name": "HBoxModel",
            "_view_count": null,
            "_view_module": "@jupyter-widgets/controls",
            "_view_module_version": "1.5.0",
            "_view_name": "HBoxView",
            "box_style": "",
            "children": [
              "IPY_MODEL_1e51542869a44f77979e9d2ab7b95a64",
              "IPY_MODEL_9ecdedc6b0fe454d915368f236df901a",
              "IPY_MODEL_3a09c946309243938a962977c903e1db"
            ],
            "layout": "IPY_MODEL_a13e0a04bd614f029ab0ab6b40916fbc"
          }
        },
        "1e51542869a44f77979e9d2ab7b95a64": {
          "model_module": "@jupyter-widgets/controls",
          "model_name": "HTMLModel",
          "model_module_version": "1.5.0",
          "state": {
            "_dom_classes": [],
            "_model_module": "@jupyter-widgets/controls",
            "_model_module_version": "1.5.0",
            "_model_name": "HTMLModel",
            "_view_count": null,
            "_view_module": "@jupyter-widgets/controls",
            "_view_module_version": "1.5.0",
            "_view_name": "HTMLView",
            "description": "",
            "description_tooltip": null,
            "layout": "IPY_MODEL_1bb62181eaff4faa9d0deffdd0f13e98",
            "placeholder": "​",
            "style": "IPY_MODEL_4e2919f4af58497ca8d9a4aceca9bd1e",
            "value": "Processing: 100%"
          }
        },
        "9ecdedc6b0fe454d915368f236df901a": {
          "model_module": "@jupyter-widgets/controls",
          "model_name": "FloatProgressModel",
          "model_module_version": "1.5.0",
          "state": {
            "_dom_classes": [],
            "_model_module": "@jupyter-widgets/controls",
            "_model_module_version": "1.5.0",
            "_model_name": "FloatProgressModel",
            "_view_count": null,
            "_view_module": "@jupyter-widgets/controls",
            "_view_module_version": "1.5.0",
            "_view_name": "ProgressView",
            "bar_style": "",
            "description": "",
            "description_tooltip": null,
            "layout": "IPY_MODEL_b46cf36fc69d4f58adc94dbd15be6cc6",
            "max": 4,
            "min": 0,
            "orientation": "horizontal",
            "style": "IPY_MODEL_cd630c1c9b0d4aeda9c94f7e960031d4",
            "value": 4
          }
        },
        "3a09c946309243938a962977c903e1db": {
          "model_module": "@jupyter-widgets/controls",
          "model_name": "HTMLModel",
          "model_module_version": "1.5.0",
          "state": {
            "_dom_classes": [],
            "_model_module": "@jupyter-widgets/controls",
            "_model_module_version": "1.5.0",
            "_model_name": "HTMLModel",
            "_view_count": null,
            "_view_module": "@jupyter-widgets/controls",
            "_view_module_version": "1.5.0",
            "_view_name": "HTMLView",
            "description": "",
            "description_tooltip": null,
            "layout": "IPY_MODEL_f3f6cc9204cb449aa21b5eb9e3c344d6",
            "placeholder": "​",
            "style": "IPY_MODEL_02693efa23014e1c90908a8b02b21b2e",
            "value": " 4/4 [00:33&lt;00:00,  8.07s/it]"
          }
        },
        "a13e0a04bd614f029ab0ab6b40916fbc": {
          "model_module": "@jupyter-widgets/base",
          "model_name": "LayoutModel",
          "model_module_version": "1.2.0",
          "state": {
            "_model_module": "@jupyter-widgets/base",
            "_model_module_version": "1.2.0",
            "_model_name": "LayoutModel",
            "_view_count": null,
            "_view_module": "@jupyter-widgets/base",
            "_view_module_version": "1.2.0",
            "_view_name": "LayoutView",
            "align_content": null,
            "align_items": null,
            "align_self": null,
            "border": null,
            "bottom": null,
            "display": null,
            "flex": null,
            "flex_flow": null,
            "grid_area": null,
            "grid_auto_columns": null,
            "grid_auto_flow": null,
            "grid_auto_rows": null,
            "grid_column": null,
            "grid_gap": null,
            "grid_row": null,
            "grid_template_areas": null,
            "grid_template_columns": null,
            "grid_template_rows": null,
            "height": null,
            "justify_content": null,
            "justify_items": null,
            "left": null,
            "margin": null,
            "max_height": null,
            "max_width": null,
            "min_height": null,
            "min_width": null,
            "object_fit": null,
            "object_position": null,
            "order": null,
            "overflow": null,
            "overflow_x": null,
            "overflow_y": null,
            "padding": null,
            "right": null,
            "top": null,
            "visibility": "hidden",
            "width": null
          }
        },
        "1bb62181eaff4faa9d0deffdd0f13e98": {
          "model_module": "@jupyter-widgets/base",
          "model_name": "LayoutModel",
          "model_module_version": "1.2.0",
          "state": {
            "_model_module": "@jupyter-widgets/base",
            "_model_module_version": "1.2.0",
            "_model_name": "LayoutModel",
            "_view_count": null,
            "_view_module": "@jupyter-widgets/base",
            "_view_module_version": "1.2.0",
            "_view_name": "LayoutView",
            "align_content": null,
            "align_items": null,
            "align_self": null,
            "border": null,
            "bottom": null,
            "display": null,
            "flex": null,
            "flex_flow": null,
            "grid_area": null,
            "grid_auto_columns": null,
            "grid_auto_flow": null,
            "grid_auto_rows": null,
            "grid_column": null,
            "grid_gap": null,
            "grid_row": null,
            "grid_template_areas": null,
            "grid_template_columns": null,
            "grid_template_rows": null,
            "height": null,
            "justify_content": null,
            "justify_items": null,
            "left": null,
            "margin": null,
            "max_height": null,
            "max_width": null,
            "min_height": null,
            "min_width": null,
            "object_fit": null,
            "object_position": null,
            "order": null,
            "overflow": null,
            "overflow_x": null,
            "overflow_y": null,
            "padding": null,
            "right": null,
            "top": null,
            "visibility": null,
            "width": null
          }
        },
        "4e2919f4af58497ca8d9a4aceca9bd1e": {
          "model_module": "@jupyter-widgets/controls",
          "model_name": "DescriptionStyleModel",
          "model_module_version": "1.5.0",
          "state": {
            "_model_module": "@jupyter-widgets/controls",
            "_model_module_version": "1.5.0",
            "_model_name": "DescriptionStyleModel",
            "_view_count": null,
            "_view_module": "@jupyter-widgets/base",
            "_view_module_version": "1.2.0",
            "_view_name": "StyleView",
            "description_width": ""
          }
        },
        "b46cf36fc69d4f58adc94dbd15be6cc6": {
          "model_module": "@jupyter-widgets/base",
          "model_name": "LayoutModel",
          "model_module_version": "1.2.0",
          "state": {
            "_model_module": "@jupyter-widgets/base",
            "_model_module_version": "1.2.0",
            "_model_name": "LayoutModel",
            "_view_count": null,
            "_view_module": "@jupyter-widgets/base",
            "_view_module_version": "1.2.0",
            "_view_name": "LayoutView",
            "align_content": null,
            "align_items": null,
            "align_self": null,
            "border": null,
            "bottom": null,
            "display": null,
            "flex": null,
            "flex_flow": null,
            "grid_area": null,
            "grid_auto_columns": null,
            "grid_auto_flow": null,
            "grid_auto_rows": null,
            "grid_column": null,
            "grid_gap": null,
            "grid_row": null,
            "grid_template_areas": null,
            "grid_template_columns": null,
            "grid_template_rows": null,
            "height": null,
            "justify_content": null,
            "justify_items": null,
            "left": null,
            "margin": null,
            "max_height": null,
            "max_width": null,
            "min_height": null,
            "min_width": null,
            "object_fit": null,
            "object_position": null,
            "order": null,
            "overflow": null,
            "overflow_x": null,
            "overflow_y": null,
            "padding": null,
            "right": null,
            "top": null,
            "visibility": null,
            "width": null
          }
        },
        "cd630c1c9b0d4aeda9c94f7e960031d4": {
          "model_module": "@jupyter-widgets/controls",
          "model_name": "ProgressStyleModel",
          "model_module_version": "1.5.0",
          "state": {
            "_model_module": "@jupyter-widgets/controls",
            "_model_module_version": "1.5.0",
            "_model_name": "ProgressStyleModel",
            "_view_count": null,
            "_view_module": "@jupyter-widgets/base",
            "_view_module_version": "1.2.0",
            "_view_name": "StyleView",
            "bar_color": null,
            "description_width": ""
          }
        },
        "f3f6cc9204cb449aa21b5eb9e3c344d6": {
          "model_module": "@jupyter-widgets/base",
          "model_name": "LayoutModel",
          "model_module_version": "1.2.0",
          "state": {
            "_model_module": "@jupyter-widgets/base",
            "_model_module_version": "1.2.0",
            "_model_name": "LayoutModel",
            "_view_count": null,
            "_view_module": "@jupyter-widgets/base",
            "_view_module_version": "1.2.0",
            "_view_name": "LayoutView",
            "align_content": null,
            "align_items": null,
            "align_self": null,
            "border": null,
            "bottom": null,
            "display": null,
            "flex": null,
            "flex_flow": null,
            "grid_area": null,
            "grid_auto_columns": null,
            "grid_auto_flow": null,
            "grid_auto_rows": null,
            "grid_column": null,
            "grid_gap": null,
            "grid_row": null,
            "grid_template_areas": null,
            "grid_template_columns": null,
            "grid_template_rows": null,
            "height": null,
            "justify_content": null,
            "justify_items": null,
            "left": null,
            "margin": null,
            "max_height": null,
            "max_width": null,
            "min_height": null,
            "min_width": null,
            "object_fit": null,
            "object_position": null,
            "order": null,
            "overflow": null,
            "overflow_x": null,
            "overflow_y": null,
            "padding": null,
            "right": null,
            "top": null,
            "visibility": null,
            "width": null
          }
        },
        "02693efa23014e1c90908a8b02b21b2e": {
          "model_module": "@jupyter-widgets/controls",
          "model_name": "DescriptionStyleModel",
          "model_module_version": "1.5.0",
          "state": {
            "_model_module": "@jupyter-widgets/controls",
            "_model_module_version": "1.5.0",
            "_model_name": "DescriptionStyleModel",
            "_view_count": null,
            "_view_module": "@jupyter-widgets/base",
            "_view_module_version": "1.2.0",
            "_view_name": "StyleView",
            "description_width": ""
          }
        }
      }
    },
    "accelerator": "GPU"
  },
  "cells": [
    {
      "cell_type": "markdown",
      "metadata": {
        "id": "view-in-github",
        "colab_type": "text"
      },
      "source": [
        "<a href=\"https://colab.research.google.com/github/alexanderbandeiralira/EE3-Introducao_a_ciencia_de_dados/blob/main/EE3.ipynb\" target=\"_parent\"><img src=\"https://colab.research.google.com/assets/colab-badge.svg\" alt=\"Open In Colab\"/></a>"
      ]
    },
    {
      "cell_type": "markdown",
      "source": [
        "#**Introdução**\n",
        "\n",
        "Nesta análise, será realizado um estudo sobre inadimplência com o objetivo de identificar padrões e fatores que influenciam o comportamento dos clientes em relação ao pagamento de suas dívidas. Utilizando um conjunto de dados com variáveis socioeconômicas e comportamentais, vamos construir dois modelos de machine learning diferentes para prever a inadimplência. Os modelos serão comparados em termos de desempenho, permitindo avaliar qual deles oferece as melhores previsões e pode ser mais eficaz para tomada de decisões no contexto da análise de crédito.\n",
        "\n",
        "**Variáveis:**\n",
        "- **inadimplente**: variável de resposta do modelo, indicando se o cliente está inadimplente (1 para inadimplente, 0 para adimplente);\n",
        "- **util_linhas_inseguras**: percentual de utilização das linhas de crédito inseguras;\n",
        "- **idade**: idade do cliente;\n",
        "- **vezes_passou_de_30_59_dias**: número de vezes que o cliente passou de 30 a 59 dias em atraso no pagamento;\n",
        "- **razao_debito**: razão entre o valor do débito e o total do crédito disponível;\n",
        "- **salario_mensal**: salário mensal do cliente;\n",
        "- **numero_linhas_crdto_aberto**: número de linhas de crédito abertas atualmente em nome do cliente;\n",
        "- **numero_vezes_passou_90_dias**: número de vezes que o cliente passou 90 dias ou mais em atraso;\n",
        "- **numero_emprestimos_imobiliarios**: número de empréstimos imobiliários que o cliente possui;\n",
        "- **numero_de_vezes_que_passou_60_89_dias**: número de vezes que o cliente passou de 60 a 89 dias em atraso no pagamento;\n",
        "- **numero_de_dependentes**: número de dependentes do cliente.\n"
      ],
      "metadata": {
        "id": "1LE7zCaCiz-k"
      }
    },
    {
      "cell_type": "markdown",
      "source": [
        "# **Carregamento de Bibliotecas**"
      ],
      "metadata": {
        "id": "v1_4Ji_1hVzg"
      }
    },
    {
      "cell_type": "code",
      "source": [
        "%pip install scikit-learn==1.0.2"
      ],
      "metadata": {
        "id": "Q6d65qarvbXi",
        "colab": {
          "base_uri": "https://localhost:8080/"
        },
        "outputId": "5e5d7d56-c3e1-4fef-b1f8-d28eb62813b2"
      },
      "execution_count": 1,
      "outputs": [
        {
          "output_type": "stream",
          "name": "stdout",
          "text": [
            "Collecting scikit-learn==1.0.2\n",
            "  Downloading scikit_learn-1.0.2-cp310-cp310-manylinux_2_17_x86_64.manylinux2014_x86_64.whl.metadata (10 kB)\n",
            "Requirement already satisfied: numpy>=1.14.6 in /usr/local/lib/python3.10/dist-packages (from scikit-learn==1.0.2) (1.26.4)\n",
            "Requirement already satisfied: scipy>=1.1.0 in /usr/local/lib/python3.10/dist-packages (from scikit-learn==1.0.2) (1.13.1)\n",
            "Requirement already satisfied: joblib>=0.11 in /usr/local/lib/python3.10/dist-packages (from scikit-learn==1.0.2) (1.4.2)\n",
            "Requirement already satisfied: threadpoolctl>=2.0.0 in /usr/local/lib/python3.10/dist-packages (from scikit-learn==1.0.2) (3.5.0)\n",
            "Downloading scikit_learn-1.0.2-cp310-cp310-manylinux_2_17_x86_64.manylinux2014_x86_64.whl (26.5 MB)\n",
            "\u001b[2K   \u001b[90m━━━━━━━━━━━━━━━━━━━━━━━━━━━━━━━━━━━━━━━━\u001b[0m \u001b[32m26.5/26.5 MB\u001b[0m \u001b[31m15.0 MB/s\u001b[0m eta \u001b[36m0:00:00\u001b[0m\n",
            "\u001b[?25hInstalling collected packages: scikit-learn\n",
            "  Attempting uninstall: scikit-learn\n",
            "    Found existing installation: scikit-learn 1.3.2\n",
            "    Uninstalling scikit-learn-1.3.2:\n",
            "      Successfully uninstalled scikit-learn-1.3.2\n",
            "\u001b[31mERROR: pip's dependency resolver does not currently take into account all the packages that are installed. This behaviour is the source of the following dependency conflicts.\n",
            "bigframes 1.17.0 requires scikit-learn>=1.2.2, but you have scikit-learn 1.0.2 which is incompatible.\u001b[0m\u001b[31m\n",
            "\u001b[0mSuccessfully installed scikit-learn-1.0.2\n"
          ]
        }
      ]
    },
    {
      "cell_type": "code",
      "source": [
        "%pip install pycaret==3.3.2\n"
      ],
      "metadata": {
        "id": "KH8i6Ky6xZbb",
        "colab": {
          "base_uri": "https://localhost:8080/"
        },
        "outputId": "b605b95a-7105-4a3c-cb3e-40b8302bc265"
      },
      "execution_count": 2,
      "outputs": [
        {
          "output_type": "stream",
          "name": "stdout",
          "text": [
            "Collecting pycaret==3.3.2\n",
            "  Downloading pycaret-3.3.2-py3-none-any.whl.metadata (17 kB)\n",
            "Requirement already satisfied: ipython>=5.5.0 in /usr/local/lib/python3.10/dist-packages (from pycaret==3.3.2) (7.34.0)\n",
            "Requirement already satisfied: ipywidgets>=7.6.5 in /usr/local/lib/python3.10/dist-packages (from pycaret==3.3.2) (7.7.1)\n",
            "Requirement already satisfied: tqdm>=4.62.0 in /usr/local/lib/python3.10/dist-packages (from pycaret==3.3.2) (4.66.5)\n",
            "Requirement already satisfied: numpy<1.27,>=1.21 in /usr/local/lib/python3.10/dist-packages (from pycaret==3.3.2) (1.26.4)\n",
            "Requirement already satisfied: pandas<2.2.0 in /usr/local/lib/python3.10/dist-packages (from pycaret==3.3.2) (2.1.4)\n",
            "Requirement already satisfied: jinja2>=3 in /usr/local/lib/python3.10/dist-packages (from pycaret==3.3.2) (3.1.4)\n",
            "Collecting scipy<=1.11.4,>=1.6.1 (from pycaret==3.3.2)\n",
            "  Downloading scipy-1.11.4-cp310-cp310-manylinux_2_17_x86_64.manylinux2014_x86_64.whl.metadata (60 kB)\n",
            "\u001b[2K     \u001b[90m━━━━━━━━━━━━━━━━━━━━━━━━━━━━━━━━━━━━━━━━\u001b[0m \u001b[32m60.4/60.4 kB\u001b[0m \u001b[31m113.4 kB/s\u001b[0m eta \u001b[36m0:00:00\u001b[0m\n",
            "\u001b[?25hCollecting joblib<1.4,>=1.2.0 (from pycaret==3.3.2)\n",
            "  Downloading joblib-1.3.2-py3-none-any.whl.metadata (5.4 kB)\n",
            "Collecting scikit-learn>1.4.0 (from pycaret==3.3.2)\n",
            "  Downloading scikit_learn-1.5.2-cp310-cp310-manylinux_2_17_x86_64.manylinux2014_x86_64.whl.metadata (13 kB)\n",
            "Collecting pyod>=1.1.3 (from pycaret==3.3.2)\n",
            "  Downloading pyod-2.0.2.tar.gz (165 kB)\n",
            "\u001b[2K     \u001b[90m━━━━━━━━━━━━━━━━━━━━━━━━━━━━━━━━━━━━━━━━\u001b[0m \u001b[32m165.8/165.8 kB\u001b[0m \u001b[31m6.1 MB/s\u001b[0m eta \u001b[36m0:00:00\u001b[0m\n",
            "\u001b[?25h  Preparing metadata (setup.py) ... \u001b[?25l\u001b[?25hdone\n",
            "Requirement already satisfied: imbalanced-learn>=0.12.0 in /usr/local/lib/python3.10/dist-packages (from pycaret==3.3.2) (0.12.3)\n",
            "Collecting category-encoders>=2.4.0 (from pycaret==3.3.2)\n",
            "  Downloading category_encoders-2.6.3-py2.py3-none-any.whl.metadata (8.0 kB)\n",
            "Requirement already satisfied: lightgbm>=3.0.0 in /usr/local/lib/python3.10/dist-packages (from pycaret==3.3.2) (4.5.0)\n",
            "Requirement already satisfied: numba>=0.55.0 in /usr/local/lib/python3.10/dist-packages (from pycaret==3.3.2) (0.60.0)\n",
            "Requirement already satisfied: requests>=2.27.1 in /usr/local/lib/python3.10/dist-packages (from pycaret==3.3.2) (2.32.3)\n",
            "Requirement already satisfied: psutil>=5.9.0 in /usr/local/lib/python3.10/dist-packages (from pycaret==3.3.2) (5.9.5)\n",
            "Requirement already satisfied: markupsafe>=2.0.1 in /usr/local/lib/python3.10/dist-packages (from pycaret==3.3.2) (2.1.5)\n",
            "Requirement already satisfied: importlib-metadata>=4.12.0 in /usr/local/lib/python3.10/dist-packages (from pycaret==3.3.2) (8.5.0)\n",
            "Requirement already satisfied: nbformat>=4.2.0 in /usr/local/lib/python3.10/dist-packages (from pycaret==3.3.2) (5.10.4)\n",
            "Requirement already satisfied: cloudpickle in /usr/local/lib/python3.10/dist-packages (from pycaret==3.3.2) (2.2.1)\n",
            "Collecting deprecation>=2.1.0 (from pycaret==3.3.2)\n",
            "  Downloading deprecation-2.1.0-py2.py3-none-any.whl.metadata (4.6 kB)\n",
            "Collecting xxhash (from pycaret==3.3.2)\n",
            "  Downloading xxhash-3.5.0-cp310-cp310-manylinux_2_17_x86_64.manylinux2014_x86_64.whl.metadata (12 kB)\n",
            "Requirement already satisfied: matplotlib<3.8.0 in /usr/local/lib/python3.10/dist-packages (from pycaret==3.3.2) (3.7.1)\n",
            "Collecting scikit-plot>=0.3.7 (from pycaret==3.3.2)\n",
            "  Downloading scikit_plot-0.3.7-py3-none-any.whl.metadata (7.1 kB)\n",
            "Requirement already satisfied: yellowbrick>=1.4 in /usr/local/lib/python3.10/dist-packages (from pycaret==3.3.2) (1.5)\n",
            "Requirement already satisfied: plotly>=5.14.0 in /usr/local/lib/python3.10/dist-packages (from pycaret==3.3.2) (5.15.0)\n",
            "Collecting kaleido>=0.2.1 (from pycaret==3.3.2)\n",
            "  Downloading kaleido-0.2.1-py2.py3-none-manylinux1_x86_64.whl.metadata (15 kB)\n",
            "Collecting schemdraw==0.15 (from pycaret==3.3.2)\n",
            "  Downloading schemdraw-0.15-py3-none-any.whl.metadata (2.2 kB)\n",
            "Collecting plotly-resampler>=0.8.3.1 (from pycaret==3.3.2)\n",
            "  Downloading plotly_resampler-0.10.0-py3-none-any.whl.metadata (13 kB)\n",
            "Requirement already satisfied: statsmodels>=0.12.1 in /usr/local/lib/python3.10/dist-packages (from pycaret==3.3.2) (0.14.3)\n",
            "Collecting sktime==0.26.0 (from pycaret==3.3.2)\n",
            "  Downloading sktime-0.26.0-py3-none-any.whl.metadata (29 kB)\n",
            "Collecting tbats>=1.1.3 (from pycaret==3.3.2)\n",
            "  Downloading tbats-1.1.3-py3-none-any.whl.metadata (3.8 kB)\n",
            "Collecting pmdarima>=2.0.4 (from pycaret==3.3.2)\n",
            "  Downloading pmdarima-2.0.4-cp310-cp310-manylinux_2_17_x86_64.manylinux2014_x86_64.manylinux_2_28_x86_64.whl.metadata (7.8 kB)\n",
            "Collecting wurlitzer (from pycaret==3.3.2)\n",
            "  Downloading wurlitzer-3.1.1-py3-none-any.whl.metadata (2.5 kB)\n",
            "Requirement already satisfied: packaging in /usr/local/lib/python3.10/dist-packages (from sktime==0.26.0->pycaret==3.3.2) (24.1)\n",
            "Collecting scikit-base<0.8.0 (from sktime==0.26.0->pycaret==3.3.2)\n",
            "  Downloading scikit_base-0.7.8-py3-none-any.whl.metadata (8.8 kB)\n",
            "Collecting scikit-learn>1.4.0 (from pycaret==3.3.2)\n",
            "  Downloading scikit_learn-1.4.2-cp310-cp310-manylinux_2_17_x86_64.manylinux2014_x86_64.whl.metadata (11 kB)\n",
            "Requirement already satisfied: patsy>=0.5.1 in /usr/local/lib/python3.10/dist-packages (from category-encoders>=2.4.0->pycaret==3.3.2) (0.5.6)\n",
            "Requirement already satisfied: threadpoolctl>=2.0.0 in /usr/local/lib/python3.10/dist-packages (from imbalanced-learn>=0.12.0->pycaret==3.3.2) (3.5.0)\n",
            "Requirement already satisfied: zipp>=3.20 in /usr/local/lib/python3.10/dist-packages (from importlib-metadata>=4.12.0->pycaret==3.3.2) (3.20.2)\n",
            "Requirement already satisfied: setuptools>=18.5 in /usr/local/lib/python3.10/dist-packages (from ipython>=5.5.0->pycaret==3.3.2) (71.0.4)\n",
            "Collecting jedi>=0.16 (from ipython>=5.5.0->pycaret==3.3.2)\n",
            "  Using cached jedi-0.19.1-py2.py3-none-any.whl.metadata (22 kB)\n",
            "Requirement already satisfied: decorator in /usr/local/lib/python3.10/dist-packages (from ipython>=5.5.0->pycaret==3.3.2) (4.4.2)\n",
            "Requirement already satisfied: pickleshare in /usr/local/lib/python3.10/dist-packages (from ipython>=5.5.0->pycaret==3.3.2) (0.7.5)\n",
            "Requirement already satisfied: traitlets>=4.2 in /usr/local/lib/python3.10/dist-packages (from ipython>=5.5.0->pycaret==3.3.2) (5.7.1)\n",
            "Requirement already satisfied: prompt-toolkit!=3.0.0,!=3.0.1,<3.1.0,>=2.0.0 in /usr/local/lib/python3.10/dist-packages (from ipython>=5.5.0->pycaret==3.3.2) (3.0.47)\n",
            "Requirement already satisfied: pygments in /usr/local/lib/python3.10/dist-packages (from ipython>=5.5.0->pycaret==3.3.2) (2.18.0)\n",
            "Requirement already satisfied: backcall in /usr/local/lib/python3.10/dist-packages (from ipython>=5.5.0->pycaret==3.3.2) (0.2.0)\n",
            "Requirement already satisfied: matplotlib-inline in /usr/local/lib/python3.10/dist-packages (from ipython>=5.5.0->pycaret==3.3.2) (0.1.7)\n",
            "Requirement already satisfied: pexpect>4.3 in /usr/local/lib/python3.10/dist-packages (from ipython>=5.5.0->pycaret==3.3.2) (4.9.0)\n",
            "Requirement already satisfied: ipykernel>=4.5.1 in /usr/local/lib/python3.10/dist-packages (from ipywidgets>=7.6.5->pycaret==3.3.2) (5.5.6)\n",
            "Requirement already satisfied: ipython-genutils~=0.2.0 in /usr/local/lib/python3.10/dist-packages (from ipywidgets>=7.6.5->pycaret==3.3.2) (0.2.0)\n",
            "Requirement already satisfied: widgetsnbextension~=3.6.0 in /usr/local/lib/python3.10/dist-packages (from ipywidgets>=7.6.5->pycaret==3.3.2) (3.6.9)\n",
            "Requirement already satisfied: jupyterlab-widgets>=1.0.0 in /usr/local/lib/python3.10/dist-packages (from ipywidgets>=7.6.5->pycaret==3.3.2) (3.0.13)\n",
            "Requirement already satisfied: contourpy>=1.0.1 in /usr/local/lib/python3.10/dist-packages (from matplotlib<3.8.0->pycaret==3.3.2) (1.3.0)\n",
            "Requirement already satisfied: cycler>=0.10 in /usr/local/lib/python3.10/dist-packages (from matplotlib<3.8.0->pycaret==3.3.2) (0.12.1)\n",
            "Requirement already satisfied: fonttools>=4.22.0 in /usr/local/lib/python3.10/dist-packages (from matplotlib<3.8.0->pycaret==3.3.2) (4.53.1)\n",
            "Requirement already satisfied: kiwisolver>=1.0.1 in /usr/local/lib/python3.10/dist-packages (from matplotlib<3.8.0->pycaret==3.3.2) (1.4.7)\n",
            "Requirement already satisfied: pillow>=6.2.0 in /usr/local/lib/python3.10/dist-packages (from matplotlib<3.8.0->pycaret==3.3.2) (10.4.0)\n",
            "Requirement already satisfied: pyparsing>=2.3.1 in /usr/local/lib/python3.10/dist-packages (from matplotlib<3.8.0->pycaret==3.3.2) (3.1.4)\n",
            "Requirement already satisfied: python-dateutil>=2.7 in /usr/local/lib/python3.10/dist-packages (from matplotlib<3.8.0->pycaret==3.3.2) (2.8.2)\n",
            "Requirement already satisfied: fastjsonschema>=2.15 in /usr/local/lib/python3.10/dist-packages (from nbformat>=4.2.0->pycaret==3.3.2) (2.20.0)\n",
            "Requirement already satisfied: jsonschema>=2.6 in /usr/local/lib/python3.10/dist-packages (from nbformat>=4.2.0->pycaret==3.3.2) (4.23.0)\n",
            "Requirement already satisfied: jupyter-core!=5.0.*,>=4.12 in /usr/local/lib/python3.10/dist-packages (from nbformat>=4.2.0->pycaret==3.3.2) (5.7.2)\n",
            "Requirement already satisfied: llvmlite<0.44,>=0.43.0dev0 in /usr/local/lib/python3.10/dist-packages (from numba>=0.55.0->pycaret==3.3.2) (0.43.0)\n",
            "Requirement already satisfied: pytz>=2020.1 in /usr/local/lib/python3.10/dist-packages (from pandas<2.2.0->pycaret==3.3.2) (2024.2)\n",
            "Requirement already satisfied: tzdata>=2022.1 in /usr/local/lib/python3.10/dist-packages (from pandas<2.2.0->pycaret==3.3.2) (2024.1)\n",
            "Requirement already satisfied: tenacity>=6.2.0 in /usr/local/lib/python3.10/dist-packages (from plotly>=5.14.0->pycaret==3.3.2) (9.0.0)\n",
            "Collecting dash>=2.9.0 (from plotly-resampler>=0.8.3.1->pycaret==3.3.2)\n",
            "  Downloading dash-2.18.1-py3-none-any.whl.metadata (10 kB)\n",
            "Collecting orjson<4.0.0,>=3.8.0 (from plotly-resampler>=0.8.3.1->pycaret==3.3.2)\n",
            "  Downloading orjson-3.10.7-cp310-cp310-manylinux_2_17_x86_64.manylinux2014_x86_64.whl.metadata (50 kB)\n",
            "\u001b[2K     \u001b[90m━━━━━━━━━━━━━━━━━━━━━━━━━━━━━━━━━━━━━━━━\u001b[0m \u001b[32m50.4/50.4 kB\u001b[0m \u001b[31m3.6 MB/s\u001b[0m eta \u001b[36m0:00:00\u001b[0m\n",
            "\u001b[?25hCollecting tsdownsample>=0.1.3 (from plotly-resampler>=0.8.3.1->pycaret==3.3.2)\n",
            "  Downloading tsdownsample-0.1.3-cp310-cp310-manylinux_2_17_x86_64.manylinux2014_x86_64.whl.metadata (7.9 kB)\n",
            "Requirement already satisfied: Cython!=0.29.18,!=0.29.31,>=0.29 in /usr/local/lib/python3.10/dist-packages (from pmdarima>=2.0.4->pycaret==3.3.2) (3.0.11)\n",
            "Requirement already satisfied: urllib3 in /usr/local/lib/python3.10/dist-packages (from pmdarima>=2.0.4->pycaret==3.3.2) (2.0.7)\n",
            "Requirement already satisfied: charset-normalizer<4,>=2 in /usr/local/lib/python3.10/dist-packages (from requests>=2.27.1->pycaret==3.3.2) (3.3.2)\n",
            "Requirement already satisfied: idna<4,>=2.5 in /usr/local/lib/python3.10/dist-packages (from requests>=2.27.1->pycaret==3.3.2) (3.10)\n",
            "Requirement already satisfied: certifi>=2017.4.17 in /usr/local/lib/python3.10/dist-packages (from requests>=2.27.1->pycaret==3.3.2) (2024.8.30)\n",
            "Requirement already satisfied: Flask<3.1,>=1.0.4 in /usr/local/lib/python3.10/dist-packages (from dash>=2.9.0->plotly-resampler>=0.8.3.1->pycaret==3.3.2) (2.2.5)\n",
            "Requirement already satisfied: Werkzeug<3.1 in /usr/local/lib/python3.10/dist-packages (from dash>=2.9.0->plotly-resampler>=0.8.3.1->pycaret==3.3.2) (3.0.4)\n",
            "Collecting dash-html-components==2.0.0 (from dash>=2.9.0->plotly-resampler>=0.8.3.1->pycaret==3.3.2)\n",
            "  Downloading dash_html_components-2.0.0-py3-none-any.whl.metadata (3.8 kB)\n",
            "Collecting dash-core-components==2.0.0 (from dash>=2.9.0->plotly-resampler>=0.8.3.1->pycaret==3.3.2)\n",
            "  Downloading dash_core_components-2.0.0-py3-none-any.whl.metadata (2.9 kB)\n",
            "Collecting dash-table==5.0.0 (from dash>=2.9.0->plotly-resampler>=0.8.3.1->pycaret==3.3.2)\n",
            "  Downloading dash_table-5.0.0-py3-none-any.whl.metadata (2.4 kB)\n",
            "Requirement already satisfied: typing-extensions>=4.1.1 in /usr/local/lib/python3.10/dist-packages (from dash>=2.9.0->plotly-resampler>=0.8.3.1->pycaret==3.3.2) (4.12.2)\n",
            "Collecting retrying (from dash>=2.9.0->plotly-resampler>=0.8.3.1->pycaret==3.3.2)\n",
            "  Downloading retrying-1.3.4-py3-none-any.whl.metadata (6.9 kB)\n",
            "Requirement already satisfied: nest-asyncio in /usr/local/lib/python3.10/dist-packages (from dash>=2.9.0->plotly-resampler>=0.8.3.1->pycaret==3.3.2) (1.6.0)\n",
            "Requirement already satisfied: jupyter-client in /usr/local/lib/python3.10/dist-packages (from ipykernel>=4.5.1->ipywidgets>=7.6.5->pycaret==3.3.2) (6.1.12)\n",
            "Requirement already satisfied: tornado>=4.2 in /usr/local/lib/python3.10/dist-packages (from ipykernel>=4.5.1->ipywidgets>=7.6.5->pycaret==3.3.2) (6.3.3)\n",
            "Requirement already satisfied: parso<0.9.0,>=0.8.3 in /usr/local/lib/python3.10/dist-packages (from jedi>=0.16->ipython>=5.5.0->pycaret==3.3.2) (0.8.4)\n",
            "Requirement already satisfied: attrs>=22.2.0 in /usr/local/lib/python3.10/dist-packages (from jsonschema>=2.6->nbformat>=4.2.0->pycaret==3.3.2) (24.2.0)\n",
            "Requirement already satisfied: jsonschema-specifications>=2023.03.6 in /usr/local/lib/python3.10/dist-packages (from jsonschema>=2.6->nbformat>=4.2.0->pycaret==3.3.2) (2023.12.1)\n",
            "Requirement already satisfied: referencing>=0.28.4 in /usr/local/lib/python3.10/dist-packages (from jsonschema>=2.6->nbformat>=4.2.0->pycaret==3.3.2) (0.35.1)\n",
            "Requirement already satisfied: rpds-py>=0.7.1 in /usr/local/lib/python3.10/dist-packages (from jsonschema>=2.6->nbformat>=4.2.0->pycaret==3.3.2) (0.20.0)\n",
            "Requirement already satisfied: platformdirs>=2.5 in /usr/local/lib/python3.10/dist-packages (from jupyter-core!=5.0.*,>=4.12->nbformat>=4.2.0->pycaret==3.3.2) (4.3.6)\n",
            "Requirement already satisfied: six in /usr/local/lib/python3.10/dist-packages (from patsy>=0.5.1->category-encoders>=2.4.0->pycaret==3.3.2) (1.16.0)\n",
            "Requirement already satisfied: ptyprocess>=0.5 in /usr/local/lib/python3.10/dist-packages (from pexpect>4.3->ipython>=5.5.0->pycaret==3.3.2) (0.7.0)\n",
            "Requirement already satisfied: wcwidth in /usr/local/lib/python3.10/dist-packages (from prompt-toolkit!=3.0.0,!=3.0.1,<3.1.0,>=2.0.0->ipython>=5.5.0->pycaret==3.3.2) (0.2.13)\n",
            "Requirement already satisfied: notebook>=4.4.1 in /usr/local/lib/python3.10/dist-packages (from widgetsnbextension~=3.6.0->ipywidgets>=7.6.5->pycaret==3.3.2) (6.5.5)\n",
            "Requirement already satisfied: itsdangerous>=2.0 in /usr/local/lib/python3.10/dist-packages (from Flask<3.1,>=1.0.4->dash>=2.9.0->plotly-resampler>=0.8.3.1->pycaret==3.3.2) (2.2.0)\n",
            "Requirement already satisfied: click>=8.0 in /usr/local/lib/python3.10/dist-packages (from Flask<3.1,>=1.0.4->dash>=2.9.0->plotly-resampler>=0.8.3.1->pycaret==3.3.2) (8.1.7)\n",
            "Requirement already satisfied: pyzmq<25,>=17 in /usr/local/lib/python3.10/dist-packages (from notebook>=4.4.1->widgetsnbextension~=3.6.0->ipywidgets>=7.6.5->pycaret==3.3.2) (24.0.1)\n",
            "Requirement already satisfied: argon2-cffi in /usr/local/lib/python3.10/dist-packages (from notebook>=4.4.1->widgetsnbextension~=3.6.0->ipywidgets>=7.6.5->pycaret==3.3.2) (23.1.0)\n",
            "Requirement already satisfied: nbconvert>=5 in /usr/local/lib/python3.10/dist-packages (from notebook>=4.4.1->widgetsnbextension~=3.6.0->ipywidgets>=7.6.5->pycaret==3.3.2) (6.5.4)\n",
            "Requirement already satisfied: Send2Trash>=1.8.0 in /usr/local/lib/python3.10/dist-packages (from notebook>=4.4.1->widgetsnbextension~=3.6.0->ipywidgets>=7.6.5->pycaret==3.3.2) (1.8.3)\n",
            "Requirement already satisfied: terminado>=0.8.3 in /usr/local/lib/python3.10/dist-packages (from notebook>=4.4.1->widgetsnbextension~=3.6.0->ipywidgets>=7.6.5->pycaret==3.3.2) (0.18.1)\n",
            "Requirement already satisfied: prometheus-client in /usr/local/lib/python3.10/dist-packages (from notebook>=4.4.1->widgetsnbextension~=3.6.0->ipywidgets>=7.6.5->pycaret==3.3.2) (0.20.0)\n",
            "Requirement already satisfied: nbclassic>=0.4.7 in /usr/local/lib/python3.10/dist-packages (from notebook>=4.4.1->widgetsnbextension~=3.6.0->ipywidgets>=7.6.5->pycaret==3.3.2) (1.1.0)\n",
            "Requirement already satisfied: notebook-shim>=0.2.3 in /usr/local/lib/python3.10/dist-packages (from nbclassic>=0.4.7->notebook>=4.4.1->widgetsnbextension~=3.6.0->ipywidgets>=7.6.5->pycaret==3.3.2) (0.2.4)\n",
            "Requirement already satisfied: lxml in /usr/local/lib/python3.10/dist-packages (from nbconvert>=5->notebook>=4.4.1->widgetsnbextension~=3.6.0->ipywidgets>=7.6.5->pycaret==3.3.2) (4.9.4)\n",
            "Requirement already satisfied: beautifulsoup4 in /usr/local/lib/python3.10/dist-packages (from nbconvert>=5->notebook>=4.4.1->widgetsnbextension~=3.6.0->ipywidgets>=7.6.5->pycaret==3.3.2) (4.12.3)\n",
            "Requirement already satisfied: bleach in /usr/local/lib/python3.10/dist-packages (from nbconvert>=5->notebook>=4.4.1->widgetsnbextension~=3.6.0->ipywidgets>=7.6.5->pycaret==3.3.2) (6.1.0)\n",
            "Requirement already satisfied: defusedxml in /usr/local/lib/python3.10/dist-packages (from nbconvert>=5->notebook>=4.4.1->widgetsnbextension~=3.6.0->ipywidgets>=7.6.5->pycaret==3.3.2) (0.7.1)\n",
            "Requirement already satisfied: entrypoints>=0.2.2 in /usr/local/lib/python3.10/dist-packages (from nbconvert>=5->notebook>=4.4.1->widgetsnbextension~=3.6.0->ipywidgets>=7.6.5->pycaret==3.3.2) (0.4)\n",
            "Requirement already satisfied: jupyterlab-pygments in /usr/local/lib/python3.10/dist-packages (from nbconvert>=5->notebook>=4.4.1->widgetsnbextension~=3.6.0->ipywidgets>=7.6.5->pycaret==3.3.2) (0.3.0)\n",
            "Requirement already satisfied: mistune<2,>=0.8.1 in /usr/local/lib/python3.10/dist-packages (from nbconvert>=5->notebook>=4.4.1->widgetsnbextension~=3.6.0->ipywidgets>=7.6.5->pycaret==3.3.2) (0.8.4)\n",
            "Requirement already satisfied: nbclient>=0.5.0 in /usr/local/lib/python3.10/dist-packages (from nbconvert>=5->notebook>=4.4.1->widgetsnbextension~=3.6.0->ipywidgets>=7.6.5->pycaret==3.3.2) (0.10.0)\n",
            "Requirement already satisfied: pandocfilters>=1.4.1 in /usr/local/lib/python3.10/dist-packages (from nbconvert>=5->notebook>=4.4.1->widgetsnbextension~=3.6.0->ipywidgets>=7.6.5->pycaret==3.3.2) (1.5.1)\n",
            "Requirement already satisfied: tinycss2 in /usr/local/lib/python3.10/dist-packages (from nbconvert>=5->notebook>=4.4.1->widgetsnbextension~=3.6.0->ipywidgets>=7.6.5->pycaret==3.3.2) (1.3.0)\n",
            "Requirement already satisfied: argon2-cffi-bindings in /usr/local/lib/python3.10/dist-packages (from argon2-cffi->notebook>=4.4.1->widgetsnbextension~=3.6.0->ipywidgets>=7.6.5->pycaret==3.3.2) (21.2.0)\n",
            "Requirement already satisfied: jupyter-server<3,>=1.8 in /usr/local/lib/python3.10/dist-packages (from notebook-shim>=0.2.3->nbclassic>=0.4.7->notebook>=4.4.1->widgetsnbextension~=3.6.0->ipywidgets>=7.6.5->pycaret==3.3.2) (1.24.0)\n",
            "Requirement already satisfied: cffi>=1.0.1 in /usr/local/lib/python3.10/dist-packages (from argon2-cffi-bindings->argon2-cffi->notebook>=4.4.1->widgetsnbextension~=3.6.0->ipywidgets>=7.6.5->pycaret==3.3.2) (1.17.1)\n",
            "Requirement already satisfied: soupsieve>1.2 in /usr/local/lib/python3.10/dist-packages (from beautifulsoup4->nbconvert>=5->notebook>=4.4.1->widgetsnbextension~=3.6.0->ipywidgets>=7.6.5->pycaret==3.3.2) (2.6)\n",
            "Requirement already satisfied: webencodings in /usr/local/lib/python3.10/dist-packages (from bleach->nbconvert>=5->notebook>=4.4.1->widgetsnbextension~=3.6.0->ipywidgets>=7.6.5->pycaret==3.3.2) (0.5.1)\n",
            "Requirement already satisfied: pycparser in /usr/local/lib/python3.10/dist-packages (from cffi>=1.0.1->argon2-cffi-bindings->argon2-cffi->notebook>=4.4.1->widgetsnbextension~=3.6.0->ipywidgets>=7.6.5->pycaret==3.3.2) (2.22)\n",
            "Requirement already satisfied: anyio<4,>=3.1.0 in /usr/local/lib/python3.10/dist-packages (from jupyter-server<3,>=1.8->notebook-shim>=0.2.3->nbclassic>=0.4.7->notebook>=4.4.1->widgetsnbextension~=3.6.0->ipywidgets>=7.6.5->pycaret==3.3.2) (3.7.1)\n",
            "Requirement already satisfied: websocket-client in /usr/local/lib/python3.10/dist-packages (from jupyter-server<3,>=1.8->notebook-shim>=0.2.3->nbclassic>=0.4.7->notebook>=4.4.1->widgetsnbextension~=3.6.0->ipywidgets>=7.6.5->pycaret==3.3.2) (1.8.0)\n",
            "Requirement already satisfied: sniffio>=1.1 in /usr/local/lib/python3.10/dist-packages (from anyio<4,>=3.1.0->jupyter-server<3,>=1.8->notebook-shim>=0.2.3->nbclassic>=0.4.7->notebook>=4.4.1->widgetsnbextension~=3.6.0->ipywidgets>=7.6.5->pycaret==3.3.2) (1.3.1)\n",
            "Requirement already satisfied: exceptiongroup in /usr/local/lib/python3.10/dist-packages (from anyio<4,>=3.1.0->jupyter-server<3,>=1.8->notebook-shim>=0.2.3->nbclassic>=0.4.7->notebook>=4.4.1->widgetsnbextension~=3.6.0->ipywidgets>=7.6.5->pycaret==3.3.2) (1.2.2)\n",
            "Downloading pycaret-3.3.2-py3-none-any.whl (486 kB)\n",
            "\u001b[2K   \u001b[90m━━━━━━━━━━━━━━━━━━━━━━━━━━━━━━━━━━━━━━━━\u001b[0m \u001b[32m486.1/486.1 kB\u001b[0m \u001b[31m20.9 MB/s\u001b[0m eta \u001b[36m0:00:00\u001b[0m\n",
            "\u001b[?25hDownloading schemdraw-0.15-py3-none-any.whl (106 kB)\n",
            "\u001b[2K   \u001b[90m━━━━━━━━━━━━━━━━━━━━━━━━━━━━━━━━━━━━━━━━\u001b[0m \u001b[32m106.8/106.8 kB\u001b[0m \u001b[31m5.1 MB/s\u001b[0m eta \u001b[36m0:00:00\u001b[0m\n",
            "\u001b[?25hDownloading sktime-0.26.0-py3-none-any.whl (21.8 MB)\n",
            "\u001b[2K   \u001b[90m━━━━━━━━━━━━━━━━━━━━━━━━━━━━━━━━━━━━━━━━\u001b[0m \u001b[32m21.8/21.8 MB\u001b[0m \u001b[31m38.8 MB/s\u001b[0m eta \u001b[36m0:00:00\u001b[0m\n",
            "\u001b[?25hDownloading category_encoders-2.6.3-py2.py3-none-any.whl (81 kB)\n",
            "\u001b[2K   \u001b[90m━━━━━━━━━━━━━━━━━━━━━━━━━━━━━━━━━━━━━━━━\u001b[0m \u001b[32m81.9/81.9 kB\u001b[0m \u001b[31m6.6 MB/s\u001b[0m eta \u001b[36m0:00:00\u001b[0m\n",
            "\u001b[?25hDownloading deprecation-2.1.0-py2.py3-none-any.whl (11 kB)\n",
            "Downloading joblib-1.3.2-py3-none-any.whl (302 kB)\n",
            "\u001b[2K   \u001b[90m━━━━━━━━━━━━━━━━━━━━━━━━━━━━━━━━━━━━━━━━\u001b[0m \u001b[32m302.2/302.2 kB\u001b[0m \u001b[31m22.8 MB/s\u001b[0m eta \u001b[36m0:00:00\u001b[0m\n",
            "\u001b[?25hDownloading kaleido-0.2.1-py2.py3-none-manylinux1_x86_64.whl (79.9 MB)\n",
            "\u001b[2K   \u001b[90m━━━━━━━━━━━━━━━━━━━━━━━━━━━━━━━━━━━━━━━━\u001b[0m \u001b[32m79.9/79.9 MB\u001b[0m \u001b[31m7.5 MB/s\u001b[0m eta \u001b[36m0:00:00\u001b[0m\n",
            "\u001b[?25hDownloading plotly_resampler-0.10.0-py3-none-any.whl (80 kB)\n",
            "\u001b[2K   \u001b[90m━━━━━━━━━━━━━━━━━━━━━━━━━━━━━━━━━━━━━━━━\u001b[0m \u001b[32m80.7/80.7 kB\u001b[0m \u001b[31m7.3 MB/s\u001b[0m eta \u001b[36m0:00:00\u001b[0m\n",
            "\u001b[?25hDownloading pmdarima-2.0.4-cp310-cp310-manylinux_2_17_x86_64.manylinux2014_x86_64.manylinux_2_28_x86_64.whl (2.1 MB)\n",
            "\u001b[2K   \u001b[90m━━━━━━━━━━━━━━━━━━━━━━━━━━━━━━━━━━━━━━━━\u001b[0m \u001b[32m2.1/2.1 MB\u001b[0m \u001b[31m53.4 MB/s\u001b[0m eta \u001b[36m0:00:00\u001b[0m\n",
            "\u001b[?25hDownloading scikit_learn-1.4.2-cp310-cp310-manylinux_2_17_x86_64.manylinux2014_x86_64.whl (12.1 MB)\n",
            "\u001b[2K   \u001b[90m━━━━━━━━━━━━━━━━━━━━━━━━━━━━━━━━━━━━━━━━\u001b[0m \u001b[32m12.1/12.1 MB\u001b[0m \u001b[31m38.0 MB/s\u001b[0m eta \u001b[36m0:00:00\u001b[0m\n",
            "\u001b[?25hDownloading scikit_plot-0.3.7-py3-none-any.whl (33 kB)\n",
            "Downloading scipy-1.11.4-cp310-cp310-manylinux_2_17_x86_64.manylinux2014_x86_64.whl (36.4 MB)\n",
            "\u001b[2K   \u001b[90m━━━━━━━━━━━━━━━━━━━━━━━━━━━━━━━━━━━━━━━━\u001b[0m \u001b[32m36.4/36.4 MB\u001b[0m \u001b[31m18.2 MB/s\u001b[0m eta \u001b[36m0:00:00\u001b[0m\n",
            "\u001b[?25hDownloading tbats-1.1.3-py3-none-any.whl (44 kB)\n",
            "\u001b[2K   \u001b[90m━━━━━━━━━━━━━━━━━━━━━━━━━━━━━━━━━━━━━━━━\u001b[0m \u001b[32m44.0/44.0 kB\u001b[0m \u001b[31m2.8 MB/s\u001b[0m eta \u001b[36m0:00:00\u001b[0m\n",
            "\u001b[?25hDownloading wurlitzer-3.1.1-py3-none-any.whl (8.6 kB)\n",
            "Downloading xxhash-3.5.0-cp310-cp310-manylinux_2_17_x86_64.manylinux2014_x86_64.whl (194 kB)\n",
            "\u001b[2K   \u001b[90m━━━━━━━━━━━━━━━━━━━━━━━━━━━━━━━━━━━━━━━━\u001b[0m \u001b[32m194.1/194.1 kB\u001b[0m \u001b[31m11.0 MB/s\u001b[0m eta \u001b[36m0:00:00\u001b[0m\n",
            "\u001b[?25hDownloading dash-2.18.1-py3-none-any.whl (7.5 MB)\n",
            "\u001b[2K   \u001b[90m━━━━━━━━━━━━━━━━━━━━━━━━━━━━━━━━━━━━━━━━\u001b[0m \u001b[32m7.5/7.5 MB\u001b[0m \u001b[31m34.4 MB/s\u001b[0m eta \u001b[36m0:00:00\u001b[0m\n",
            "\u001b[?25hDownloading dash_core_components-2.0.0-py3-none-any.whl (3.8 kB)\n",
            "Downloading dash_html_components-2.0.0-py3-none-any.whl (4.1 kB)\n",
            "Downloading dash_table-5.0.0-py3-none-any.whl (3.9 kB)\n",
            "Using cached jedi-0.19.1-py2.py3-none-any.whl (1.6 MB)\n",
            "Downloading orjson-3.10.7-cp310-cp310-manylinux_2_17_x86_64.manylinux2014_x86_64.whl (141 kB)\n",
            "\u001b[2K   \u001b[90m━━━━━━━━━━━━━━━━━━━━━━━━━━━━━━━━━━━━━━━━\u001b[0m \u001b[32m141.9/141.9 kB\u001b[0m \u001b[31m6.2 MB/s\u001b[0m eta \u001b[36m0:00:00\u001b[0m\n",
            "\u001b[?25hDownloading scikit_base-0.7.8-py3-none-any.whl (130 kB)\n",
            "\u001b[2K   \u001b[90m━━━━━━━━━━━━━━━━━━━━━━━━━━━━━━━━━━━━━━━━\u001b[0m \u001b[32m130.1/130.1 kB\u001b[0m \u001b[31m9.7 MB/s\u001b[0m eta \u001b[36m0:00:00\u001b[0m\n",
            "\u001b[?25hDownloading tsdownsample-0.1.3-cp310-cp310-manylinux_2_17_x86_64.manylinux2014_x86_64.whl (2.1 MB)\n",
            "\u001b[2K   \u001b[90m━━━━━━━━━━━━━━━━━━━━━━━━━━━━━━━━━━━━━━━━\u001b[0m \u001b[32m2.1/2.1 MB\u001b[0m \u001b[31m35.7 MB/s\u001b[0m eta \u001b[36m0:00:00\u001b[0m\n",
            "\u001b[?25hDownloading retrying-1.3.4-py3-none-any.whl (11 kB)\n",
            "Building wheels for collected packages: pyod\n",
            "  Building wheel for pyod (setup.py) ... \u001b[?25l\u001b[?25hdone\n",
            "  Created wheel for pyod: filename=pyod-2.0.2-py3-none-any.whl size=198469 sha256=41a344d148effdc5eddc48badea44bd79ea03740bbed66f53efae0223574a489\n",
            "  Stored in directory: /root/.cache/pip/wheels/77/c2/20/34d1f15b41b701ba69f42a32304825810d680754d509f91391\n",
            "Successfully built pyod\n",
            "Installing collected packages: kaleido, dash-table, dash-html-components, dash-core-components, xxhash, wurlitzer, tsdownsample, scipy, scikit-base, schemdraw, retrying, orjson, joblib, jedi, deprecation, scikit-learn, sktime, scikit-plot, pyod, dash, pmdarima, plotly-resampler, category-encoders, tbats, pycaret\n",
            "  Attempting uninstall: scipy\n",
            "    Found existing installation: scipy 1.13.1\n",
            "    Uninstalling scipy-1.13.1:\n",
            "      Successfully uninstalled scipy-1.13.1\n",
            "  Attempting uninstall: joblib\n",
            "    Found existing installation: joblib 1.4.2\n",
            "    Uninstalling joblib-1.4.2:\n",
            "      Successfully uninstalled joblib-1.4.2\n",
            "  Attempting uninstall: scikit-learn\n",
            "    Found existing installation: scikit-learn 1.0.2\n",
            "    Uninstalling scikit-learn-1.0.2:\n",
            "      Successfully uninstalled scikit-learn-1.0.2\n",
            "Successfully installed category-encoders-2.6.3 dash-2.18.1 dash-core-components-2.0.0 dash-html-components-2.0.0 dash-table-5.0.0 deprecation-2.1.0 jedi-0.19.1 joblib-1.3.2 kaleido-0.2.1 orjson-3.10.7 plotly-resampler-0.10.0 pmdarima-2.0.4 pycaret-3.3.2 pyod-2.0.2 retrying-1.3.4 schemdraw-0.15 scikit-base-0.7.8 scikit-learn-1.4.2 scikit-plot-0.3.7 scipy-1.11.4 sktime-0.26.0 tbats-1.1.3 tsdownsample-0.1.3 wurlitzer-3.1.1 xxhash-3.5.0\n"
          ]
        }
      ]
    },
    {
      "cell_type": "code",
      "source": [
        "# <> -----------------------------------------------------\n",
        "# Lendo as bibliotecas necessárias\n",
        "\n",
        "# <> -----------------------------\n",
        "# <> Bibliotecas dos algoritmos\n",
        "from pycaret.classification import *\n",
        "from sklearn.tree import plot_tree\n",
        "from sklearn.metrics import confusion_matrix, accuracy_score, cohen_kappa_score, classification_report\n",
        "from sklearn.model_selection import train_test_split\n",
        "from sklearn.tree import export_text\n",
        "\n",
        "\n",
        "# <> Bibliotecas de Visualização\n",
        "import seaborn as sns\n",
        "import matplotlib.pyplot as plt\n",
        "\n",
        "# <> Biliotecas para manipulação com dados\n",
        "import pandas as pd\n",
        "import numpy as np"
      ],
      "metadata": {
        "id": "z4efTTQEi2eC"
      },
      "execution_count": 1,
      "outputs": []
    },
    {
      "cell_type": "markdown",
      "source": [
        "#**Carregamento dos Dados**"
      ],
      "metadata": {
        "id": "owAvJaj9he2y"
      }
    },
    {
      "cell_type": "code",
      "source": [
        "# <> ------------------------------------------------------\n",
        "# <> Lendo um dataset de exemplo separados por treino e teste\n",
        "# <> ------------------------------------------------------\n",
        "url_train = '/content/treino.csv'\n",
        "\n",
        "df = pd.read_csv(url_train, sep=\",\") #dados_"
      ],
      "metadata": {
        "id": "9G2d7RBGi8zg"
      },
      "execution_count": 2,
      "outputs": []
    },
    {
      "cell_type": "markdown",
      "source": [
        "#**Tratamento dos Dados**"
      ],
      "metadata": {
        "id": "5Q1UQEpWhjQb"
      }
    },
    {
      "cell_type": "code",
      "source": [
        "# <> ------------------------------------------------------\n",
        "# <> Verificando se os tipos foram lidos corretamente\n",
        "df.info()"
      ],
      "metadata": {
        "colab": {
          "base_uri": "https://localhost:8080/"
        },
        "id": "5fzjYBaEi8sA",
        "outputId": "290c80fb-e771-4936-9c90-5fe10f46a510"
      },
      "execution_count": 3,
      "outputs": [
        {
          "output_type": "stream",
          "name": "stdout",
          "text": [
            "<class 'pandas.core.frame.DataFrame'>\n",
            "RangeIndex: 110000 entries, 0 to 109999\n",
            "Data columns (total 11 columns):\n",
            " #   Column                                 Non-Null Count   Dtype  \n",
            "---  ------                                 --------------   -----  \n",
            " 0   inadimplente                           110000 non-null  int64  \n",
            " 1   util_linhas_inseguras                  110000 non-null  float64\n",
            " 2   idade                                  110000 non-null  int64  \n",
            " 3   vezes_passou_de_30_59_dias             110000 non-null  int64  \n",
            " 4   razao_debito                           110000 non-null  float64\n",
            " 5   salario_mensal                         88237 non-null   float64\n",
            " 6   numero_linhas_crdto_aberto             110000 non-null  int64  \n",
            " 7   numero_vezes_passou_90_dias            110000 non-null  int64  \n",
            " 8   numero_emprestimos_imobiliarios        110000 non-null  int64  \n",
            " 9   numero_de_vezes_que_passou_60_89_dias  110000 non-null  int64  \n",
            " 10  numero_de_dependentes                  107122 non-null  float64\n",
            "dtypes: float64(4), int64(7)\n",
            "memory usage: 9.2 MB\n"
          ]
        }
      ]
    },
    {
      "cell_type": "code",
      "source": [
        "df.head()"
      ],
      "metadata": {
        "colab": {
          "base_uri": "https://localhost:8080/",
          "height": 226
        },
        "id": "32vu6fG5i8gG",
        "outputId": "15823ec0-c9ad-4c46-af28-dc02b6cf5601"
      },
      "execution_count": 4,
      "outputs": [
        {
          "output_type": "execute_result",
          "data": {
            "text/plain": [
              "   inadimplente  util_linhas_inseguras  idade  vezes_passou_de_30_59_dias  \\\n",
              "0             1               0.766127     45                           2   \n",
              "1             0               0.957151     40                           0   \n",
              "2             0               0.658180     38                           1   \n",
              "3             0               0.233810     30                           0   \n",
              "4             0               0.907239     49                           1   \n",
              "\n",
              "   razao_debito  salario_mensal  numero_linhas_crdto_aberto  \\\n",
              "0      0.802982          9120.0                          13   \n",
              "1      0.121876          2600.0                           4   \n",
              "2      0.085113          3042.0                           2   \n",
              "3      0.036050          3300.0                           5   \n",
              "4      0.024926         63588.0                           7   \n",
              "\n",
              "   numero_vezes_passou_90_dias  numero_emprestimos_imobiliarios  \\\n",
              "0                            0                                6   \n",
              "1                            0                                0   \n",
              "2                            1                                0   \n",
              "3                            0                                0   \n",
              "4                            0                                1   \n",
              "\n",
              "   numero_de_vezes_que_passou_60_89_dias  numero_de_dependentes  \n",
              "0                                      0                    2.0  \n",
              "1                                      0                    1.0  \n",
              "2                                      0                    0.0  \n",
              "3                                      0                    0.0  \n",
              "4                                      0                    0.0  "
            ],
            "text/html": [
              "\n",
              "  <div id=\"df-bd637e28-2051-49f6-b877-dc6e587a4e65\" class=\"colab-df-container\">\n",
              "    <div>\n",
              "<style scoped>\n",
              "    .dataframe tbody tr th:only-of-type {\n",
              "        vertical-align: middle;\n",
              "    }\n",
              "\n",
              "    .dataframe tbody tr th {\n",
              "        vertical-align: top;\n",
              "    }\n",
              "\n",
              "    .dataframe thead th {\n",
              "        text-align: right;\n",
              "    }\n",
              "</style>\n",
              "<table border=\"1\" class=\"dataframe\">\n",
              "  <thead>\n",
              "    <tr style=\"text-align: right;\">\n",
              "      <th></th>\n",
              "      <th>inadimplente</th>\n",
              "      <th>util_linhas_inseguras</th>\n",
              "      <th>idade</th>\n",
              "      <th>vezes_passou_de_30_59_dias</th>\n",
              "      <th>razao_debito</th>\n",
              "      <th>salario_mensal</th>\n",
              "      <th>numero_linhas_crdto_aberto</th>\n",
              "      <th>numero_vezes_passou_90_dias</th>\n",
              "      <th>numero_emprestimos_imobiliarios</th>\n",
              "      <th>numero_de_vezes_que_passou_60_89_dias</th>\n",
              "      <th>numero_de_dependentes</th>\n",
              "    </tr>\n",
              "  </thead>\n",
              "  <tbody>\n",
              "    <tr>\n",
              "      <th>0</th>\n",
              "      <td>1</td>\n",
              "      <td>0.766127</td>\n",
              "      <td>45</td>\n",
              "      <td>2</td>\n",
              "      <td>0.802982</td>\n",
              "      <td>9120.0</td>\n",
              "      <td>13</td>\n",
              "      <td>0</td>\n",
              "      <td>6</td>\n",
              "      <td>0</td>\n",
              "      <td>2.0</td>\n",
              "    </tr>\n",
              "    <tr>\n",
              "      <th>1</th>\n",
              "      <td>0</td>\n",
              "      <td>0.957151</td>\n",
              "      <td>40</td>\n",
              "      <td>0</td>\n",
              "      <td>0.121876</td>\n",
              "      <td>2600.0</td>\n",
              "      <td>4</td>\n",
              "      <td>0</td>\n",
              "      <td>0</td>\n",
              "      <td>0</td>\n",
              "      <td>1.0</td>\n",
              "    </tr>\n",
              "    <tr>\n",
              "      <th>2</th>\n",
              "      <td>0</td>\n",
              "      <td>0.658180</td>\n",
              "      <td>38</td>\n",
              "      <td>1</td>\n",
              "      <td>0.085113</td>\n",
              "      <td>3042.0</td>\n",
              "      <td>2</td>\n",
              "      <td>1</td>\n",
              "      <td>0</td>\n",
              "      <td>0</td>\n",
              "      <td>0.0</td>\n",
              "    </tr>\n",
              "    <tr>\n",
              "      <th>3</th>\n",
              "      <td>0</td>\n",
              "      <td>0.233810</td>\n",
              "      <td>30</td>\n",
              "      <td>0</td>\n",
              "      <td>0.036050</td>\n",
              "      <td>3300.0</td>\n",
              "      <td>5</td>\n",
              "      <td>0</td>\n",
              "      <td>0</td>\n",
              "      <td>0</td>\n",
              "      <td>0.0</td>\n",
              "    </tr>\n",
              "    <tr>\n",
              "      <th>4</th>\n",
              "      <td>0</td>\n",
              "      <td>0.907239</td>\n",
              "      <td>49</td>\n",
              "      <td>1</td>\n",
              "      <td>0.024926</td>\n",
              "      <td>63588.0</td>\n",
              "      <td>7</td>\n",
              "      <td>0</td>\n",
              "      <td>1</td>\n",
              "      <td>0</td>\n",
              "      <td>0.0</td>\n",
              "    </tr>\n",
              "  </tbody>\n",
              "</table>\n",
              "</div>\n",
              "    <div class=\"colab-df-buttons\">\n",
              "\n",
              "  <div class=\"colab-df-container\">\n",
              "    <button class=\"colab-df-convert\" onclick=\"convertToInteractive('df-bd637e28-2051-49f6-b877-dc6e587a4e65')\"\n",
              "            title=\"Convert this dataframe to an interactive table.\"\n",
              "            style=\"display:none;\">\n",
              "\n",
              "  <svg xmlns=\"http://www.w3.org/2000/svg\" height=\"24px\" viewBox=\"0 -960 960 960\">\n",
              "    <path d=\"M120-120v-720h720v720H120Zm60-500h600v-160H180v160Zm220 220h160v-160H400v160Zm0 220h160v-160H400v160ZM180-400h160v-160H180v160Zm440 0h160v-160H620v160ZM180-180h160v-160H180v160Zm440 0h160v-160H620v160Z\"/>\n",
              "  </svg>\n",
              "    </button>\n",
              "\n",
              "  <style>\n",
              "    .colab-df-container {\n",
              "      display:flex;\n",
              "      gap: 12px;\n",
              "    }\n",
              "\n",
              "    .colab-df-convert {\n",
              "      background-color: #E8F0FE;\n",
              "      border: none;\n",
              "      border-radius: 50%;\n",
              "      cursor: pointer;\n",
              "      display: none;\n",
              "      fill: #1967D2;\n",
              "      height: 32px;\n",
              "      padding: 0 0 0 0;\n",
              "      width: 32px;\n",
              "    }\n",
              "\n",
              "    .colab-df-convert:hover {\n",
              "      background-color: #E2EBFA;\n",
              "      box-shadow: 0px 1px 2px rgba(60, 64, 67, 0.3), 0px 1px 3px 1px rgba(60, 64, 67, 0.15);\n",
              "      fill: #174EA6;\n",
              "    }\n",
              "\n",
              "    .colab-df-buttons div {\n",
              "      margin-bottom: 4px;\n",
              "    }\n",
              "\n",
              "    [theme=dark] .colab-df-convert {\n",
              "      background-color: #3B4455;\n",
              "      fill: #D2E3FC;\n",
              "    }\n",
              "\n",
              "    [theme=dark] .colab-df-convert:hover {\n",
              "      background-color: #434B5C;\n",
              "      box-shadow: 0px 1px 3px 1px rgba(0, 0, 0, 0.15);\n",
              "      filter: drop-shadow(0px 1px 2px rgba(0, 0, 0, 0.3));\n",
              "      fill: #FFFFFF;\n",
              "    }\n",
              "  </style>\n",
              "\n",
              "    <script>\n",
              "      const buttonEl =\n",
              "        document.querySelector('#df-bd637e28-2051-49f6-b877-dc6e587a4e65 button.colab-df-convert');\n",
              "      buttonEl.style.display =\n",
              "        google.colab.kernel.accessAllowed ? 'block' : 'none';\n",
              "\n",
              "      async function convertToInteractive(key) {\n",
              "        const element = document.querySelector('#df-bd637e28-2051-49f6-b877-dc6e587a4e65');\n",
              "        const dataTable =\n",
              "          await google.colab.kernel.invokeFunction('convertToInteractive',\n",
              "                                                    [key], {});\n",
              "        if (!dataTable) return;\n",
              "\n",
              "        const docLinkHtml = 'Like what you see? Visit the ' +\n",
              "          '<a target=\"_blank\" href=https://colab.research.google.com/notebooks/data_table.ipynb>data table notebook</a>'\n",
              "          + ' to learn more about interactive tables.';\n",
              "        element.innerHTML = '';\n",
              "        dataTable['output_type'] = 'display_data';\n",
              "        await google.colab.output.renderOutput(dataTable, element);\n",
              "        const docLink = document.createElement('div');\n",
              "        docLink.innerHTML = docLinkHtml;\n",
              "        element.appendChild(docLink);\n",
              "      }\n",
              "    </script>\n",
              "  </div>\n",
              "\n",
              "\n",
              "<div id=\"df-ecc4e4ec-162f-4208-a6f0-508f1d012df2\">\n",
              "  <button class=\"colab-df-quickchart\" onclick=\"quickchart('df-ecc4e4ec-162f-4208-a6f0-508f1d012df2')\"\n",
              "            title=\"Suggest charts\"\n",
              "            style=\"display:none;\">\n",
              "\n",
              "<svg xmlns=\"http://www.w3.org/2000/svg\" height=\"24px\"viewBox=\"0 0 24 24\"\n",
              "     width=\"24px\">\n",
              "    <g>\n",
              "        <path d=\"M19 3H5c-1.1 0-2 .9-2 2v14c0 1.1.9 2 2 2h14c1.1 0 2-.9 2-2V5c0-1.1-.9-2-2-2zM9 17H7v-7h2v7zm4 0h-2V7h2v10zm4 0h-2v-4h2v4z\"/>\n",
              "    </g>\n",
              "</svg>\n",
              "  </button>\n",
              "\n",
              "<style>\n",
              "  .colab-df-quickchart {\n",
              "      --bg-color: #E8F0FE;\n",
              "      --fill-color: #1967D2;\n",
              "      --hover-bg-color: #E2EBFA;\n",
              "      --hover-fill-color: #174EA6;\n",
              "      --disabled-fill-color: #AAA;\n",
              "      --disabled-bg-color: #DDD;\n",
              "  }\n",
              "\n",
              "  [theme=dark] .colab-df-quickchart {\n",
              "      --bg-color: #3B4455;\n",
              "      --fill-color: #D2E3FC;\n",
              "      --hover-bg-color: #434B5C;\n",
              "      --hover-fill-color: #FFFFFF;\n",
              "      --disabled-bg-color: #3B4455;\n",
              "      --disabled-fill-color: #666;\n",
              "  }\n",
              "\n",
              "  .colab-df-quickchart {\n",
              "    background-color: var(--bg-color);\n",
              "    border: none;\n",
              "    border-radius: 50%;\n",
              "    cursor: pointer;\n",
              "    display: none;\n",
              "    fill: var(--fill-color);\n",
              "    height: 32px;\n",
              "    padding: 0;\n",
              "    width: 32px;\n",
              "  }\n",
              "\n",
              "  .colab-df-quickchart:hover {\n",
              "    background-color: var(--hover-bg-color);\n",
              "    box-shadow: 0 1px 2px rgba(60, 64, 67, 0.3), 0 1px 3px 1px rgba(60, 64, 67, 0.15);\n",
              "    fill: var(--button-hover-fill-color);\n",
              "  }\n",
              "\n",
              "  .colab-df-quickchart-complete:disabled,\n",
              "  .colab-df-quickchart-complete:disabled:hover {\n",
              "    background-color: var(--disabled-bg-color);\n",
              "    fill: var(--disabled-fill-color);\n",
              "    box-shadow: none;\n",
              "  }\n",
              "\n",
              "  .colab-df-spinner {\n",
              "    border: 2px solid var(--fill-color);\n",
              "    border-color: transparent;\n",
              "    border-bottom-color: var(--fill-color);\n",
              "    animation:\n",
              "      spin 1s steps(1) infinite;\n",
              "  }\n",
              "\n",
              "  @keyframes spin {\n",
              "    0% {\n",
              "      border-color: transparent;\n",
              "      border-bottom-color: var(--fill-color);\n",
              "      border-left-color: var(--fill-color);\n",
              "    }\n",
              "    20% {\n",
              "      border-color: transparent;\n",
              "      border-left-color: var(--fill-color);\n",
              "      border-top-color: var(--fill-color);\n",
              "    }\n",
              "    30% {\n",
              "      border-color: transparent;\n",
              "      border-left-color: var(--fill-color);\n",
              "      border-top-color: var(--fill-color);\n",
              "      border-right-color: var(--fill-color);\n",
              "    }\n",
              "    40% {\n",
              "      border-color: transparent;\n",
              "      border-right-color: var(--fill-color);\n",
              "      border-top-color: var(--fill-color);\n",
              "    }\n",
              "    60% {\n",
              "      border-color: transparent;\n",
              "      border-right-color: var(--fill-color);\n",
              "    }\n",
              "    80% {\n",
              "      border-color: transparent;\n",
              "      border-right-color: var(--fill-color);\n",
              "      border-bottom-color: var(--fill-color);\n",
              "    }\n",
              "    90% {\n",
              "      border-color: transparent;\n",
              "      border-bottom-color: var(--fill-color);\n",
              "    }\n",
              "  }\n",
              "</style>\n",
              "\n",
              "  <script>\n",
              "    async function quickchart(key) {\n",
              "      const quickchartButtonEl =\n",
              "        document.querySelector('#' + key + ' button');\n",
              "      quickchartButtonEl.disabled = true;  // To prevent multiple clicks.\n",
              "      quickchartButtonEl.classList.add('colab-df-spinner');\n",
              "      try {\n",
              "        const charts = await google.colab.kernel.invokeFunction(\n",
              "            'suggestCharts', [key], {});\n",
              "      } catch (error) {\n",
              "        console.error('Error during call to suggestCharts:', error);\n",
              "      }\n",
              "      quickchartButtonEl.classList.remove('colab-df-spinner');\n",
              "      quickchartButtonEl.classList.add('colab-df-quickchart-complete');\n",
              "    }\n",
              "    (() => {\n",
              "      let quickchartButtonEl =\n",
              "        document.querySelector('#df-ecc4e4ec-162f-4208-a6f0-508f1d012df2 button');\n",
              "      quickchartButtonEl.style.display =\n",
              "        google.colab.kernel.accessAllowed ? 'block' : 'none';\n",
              "    })();\n",
              "  </script>\n",
              "</div>\n",
              "\n",
              "    </div>\n",
              "  </div>\n"
            ],
            "application/vnd.google.colaboratory.intrinsic+json": {
              "type": "dataframe",
              "variable_name": "df"
            }
          },
          "metadata": {},
          "execution_count": 4
        }
      ]
    },
    {
      "cell_type": "code",
      "source": [
        "# Gerando o histograma da variável numero_de_dependentes\n",
        "plt.hist(df['numero_de_dependentes'], bins=20, color='lightgreen', edgecolor='black')\n",
        "plt.title('Histograma de Número de Dependentes')\n",
        "plt.xlabel('Número de Dependentes')\n",
        "plt.ylabel('Frequência')\n",
        "plt.show()"
      ],
      "metadata": {
        "colab": {
          "base_uri": "https://localhost:8080/",
          "height": 524
        },
        "id": "H6_o-4ShbpjY",
        "outputId": "31e686d8-1e56-454a-8069-3f9601ef500d"
      },
      "execution_count": 5,
      "outputs": [
        {
          "output_type": "display_data",
          "data": {
            "text/plain": [
              "<Figure size 800x550 with 1 Axes>"
            ],
            "image/png": "[encoded data removed]"
          },
          "metadata": {}
        }
      ]
    },
    {
      "cell_type": "code",
      "source": [
        "# Verificando os percentis para limitar valores extremos\n",
        "numero_de_dependentes_limite_superior = df['numero_de_dependentes'].quantile(0.95)\n",
        "numero_de_dependentes_limite_superior_filtrado = df[df['numero_de_dependentes'] <= numero_de_dependentes_limite_superior]['numero_de_dependentes']\n",
        "\n",
        "# Gerando o histograma da variável numero_de_dependentes\n",
        "plt.hist(numero_de_dependentes_limite_superior_filtrado, bins=5, color='lightgreen', edgecolor='black')\n",
        "plt.title('Histograma de Número de Dependentes (sem outliers)')\n",
        "plt.xlabel('Número de Dependentes')\n",
        "plt.ylabel('Frequência')\n",
        "plt.show()"
      ],
      "metadata": {
        "colab": {
          "base_uri": "https://localhost:8080/",
          "height": 524
        },
        "id": "fZ2h7ahtfOR8",
        "outputId": "219d5603-2636-4321-e11e-bf2f46714c15"
      },
      "execution_count": 6,
      "outputs": [
        {
          "output_type": "display_data",
          "data": {
            "text/plain": [
              "<Figure size 800x550 with 1 Axes>"
            ],
            "image/png": "[encoded data removed]"
          },
          "metadata": {}
        }
      ]
    },
    {
      "cell_type": "code",
      "source": [
        "# Gerando o histograma da variável salario_mensal\n",
        "plt.hist(df['salario_mensal'], bins=20, color='skyblue', edgecolor='black')\n",
        "plt.title('Histograma de Salário Mensal')\n",
        "plt.xlabel('Salário Mensal')\n",
        "plt.ylabel('Frequência')\n",
        "plt.show()"
      ],
      "metadata": {
        "colab": {
          "base_uri": "https://localhost:8080/",
          "height": 524
        },
        "id": "1jiGny1-bntO",
        "outputId": "3a080275-72fb-48f0-c5f3-2a68cedbe086"
      },
      "execution_count": 7,
      "outputs": [
        {
          "output_type": "display_data",
          "data": {
            "text/plain": [
              "<Figure size 800x550 with 1 Axes>"
            ],
            "image/png": "[encoded data removed]"
          },
          "metadata": {}
        }
      ]
    },
    {
      "cell_type": "code",
      "source": [
        "# Verificando os percentis para limitar valores extremos\n",
        "salario_limite_superior = df['salario_mensal'].quantile(0.95)\n",
        "salario_mensal_filtrado = df[df['salario_mensal'] <= salario_limite_superior]['salario_mensal']\n",
        "\n",
        "# Gerando o histograma da variável salario_mensal com valores filtrados\n",
        "plt.hist(salario_mensal_filtrado, bins=30, color='skyblue', edgecolor='black')\n",
        "plt.title('Histograma de Salário Mensal (sem outliers)')\n",
        "plt.xlabel('Salário Mensal')\n",
        "plt.ylabel('Frequência')\n",
        "plt.show()\n"
      ],
      "metadata": {
        "colab": {
          "base_uri": "https://localhost:8080/",
          "height": 524
        },
        "id": "uvFFP8h7ds9_",
        "outputId": "2c6a12e9-53a9-4bc3-ad25-a6f977f6857c"
      },
      "execution_count": 8,
      "outputs": [
        {
          "output_type": "display_data",
          "data": {
            "text/plain": [
              "<Figure size 800x550 with 1 Axes>"
            ],
            "image/png": "[encoded data removed]"
          },
          "metadata": {}
        }
      ]
    },
    {
      "cell_type": "markdown",
      "source": [
        "### A partir da distribuição dos dados é possível que na variável salario mensal possamos utilizar para substituir os valores nulos tanto a média como a mediana categorizado por idade por conta de termos uma distribuição aparentemente normal, mas como alcançamos isso apenas com a retirada dos outliers, verificaremos a performance primeiro com a mediana.\n",
        "\n",
        "### Já o número de dependentes mediana provavelmente será uma opção melhor por conta da assimetria encontrada."
      ],
      "metadata": {
        "id": "n6bf3ty9eJNB"
      }
    },
    {
      "cell_type": "code",
      "source": [
        "# Calculando a média de salário por idade e preenchendo os valores nulos\n",
        "#df['salario_mensal'] = df.groupby('idade')['salario_mensal'].transform(lambda x: x.fillna(x.mean()))\n",
        "df['salario_mensal'] = df.groupby('idade')['salario_mensal'].transform(lambda x: x.fillna(x.median()))\n",
        "\n",
        "# Calculando o numero_de_dependentes e preenchendo os valores nulos\n",
        "#df['numero_de_dependentes'] = df['numero_de_dependentes'].fillna(df['numero_de_dependentes'].mean())\n",
        "df['numero_de_dependentes'] = df['numero_de_dependentes'].fillna(df['numero_de_dependentes'].median())\n",
        "\n",
        "\n",
        "# Verificando se os valores nulos foram preenchidos\n",
        "df.isnull().sum()"
      ],
      "metadata": {
        "colab": {
          "base_uri": "https://localhost:8080/",
          "height": 429
        },
        "id": "aMZAgaXkVrwn",
        "outputId": "e2e9ede0-2fab-4ef6-ca7b-20c56eea6e8d"
      },
      "execution_count": 9,
      "outputs": [
        {
          "output_type": "execute_result",
          "data": {
            "text/plain": [
              "inadimplente                             0\n",
              "util_linhas_inseguras                    0\n",
              "idade                                    0\n",
              "vezes_passou_de_30_59_dias               0\n",
              "razao_debito                             0\n",
              "salario_mensal                           3\n",
              "numero_linhas_crdto_aberto               0\n",
              "numero_vezes_passou_90_dias              0\n",
              "numero_emprestimos_imobiliarios          0\n",
              "numero_de_vezes_que_passou_60_89_dias    0\n",
              "numero_de_dependentes                    0\n",
              "dtype: int64"
            ],
            "text/html": [
              "<div>\n",
              "<style scoped>\n",
              "    .dataframe tbody tr th:only-of-type {\n",
              "        vertical-align: middle;\n",
              "    }\n",
              "\n",
              "    .dataframe tbody tr th {\n",
              "        vertical-align: top;\n",
              "    }\n",
              "\n",
              "    .dataframe thead th {\n",
              "        text-align: right;\n",
              "    }\n",
              "</style>\n",
              "<table border=\"1\" class=\"dataframe\">\n",
              "  <thead>\n",
              "    <tr style=\"text-align: right;\">\n",
              "      <th></th>\n",
              "      <th>0</th>\n",
              "    </tr>\n",
              "  </thead>\n",
              "  <tbody>\n",
              "    <tr>\n",
              "      <th>inadimplente</th>\n",
              "      <td>0</td>\n",
              "    </tr>\n",
              "    <tr>\n",
              "      <th>util_linhas_inseguras</th>\n",
              "      <td>0</td>\n",
              "    </tr>\n",
              "    <tr>\n",
              "      <th>idade</th>\n",
              "      <td>0</td>\n",
              "    </tr>\n",
              "    <tr>\n",
              "      <th>vezes_passou_de_30_59_dias</th>\n",
              "      <td>0</td>\n",
              "    </tr>\n",
              "    <tr>\n",
              "      <th>razao_debito</th>\n",
              "      <td>0</td>\n",
              "    </tr>\n",
              "    <tr>\n",
              "      <th>salario_mensal</th>\n",
              "      <td>3</td>\n",
              "    </tr>\n",
              "    <tr>\n",
              "      <th>numero_linhas_crdto_aberto</th>\n",
              "      <td>0</td>\n",
              "    </tr>\n",
              "    <tr>\n",
              "      <th>numero_vezes_passou_90_dias</th>\n",
              "      <td>0</td>\n",
              "    </tr>\n",
              "    <tr>\n",
              "      <th>numero_emprestimos_imobiliarios</th>\n",
              "      <td>0</td>\n",
              "    </tr>\n",
              "    <tr>\n",
              "      <th>numero_de_vezes_que_passou_60_89_dias</th>\n",
              "      <td>0</td>\n",
              "    </tr>\n",
              "    <tr>\n",
              "      <th>numero_de_dependentes</th>\n",
              "      <td>0</td>\n",
              "    </tr>\n",
              "  </tbody>\n",
              "</table>\n",
              "</div><br><label><b>dtype:</b> int64</label>"
            ]
          },
          "metadata": {},
          "execution_count": 9
        }
      ]
    },
    {
      "cell_type": "code",
      "source": [
        "df[df['salario_mensal'].isnull()]"
      ],
      "metadata": {
        "colab": {
          "base_uri": "https://localhost:8080/",
          "height": 163
        },
        "id": "2ot9JQO1WX2B",
        "outputId": "eaa0f043-a575-49dc-bcd1-ef65dc03837b"
      },
      "execution_count": 10,
      "outputs": [
        {
          "output_type": "execute_result",
          "data": {
            "text/plain": [
              "        inadimplente  util_linhas_inseguras  idade  \\\n",
              "40007              0               0.064748    107   \n",
              "56761              0               0.003469    105   \n",
              "105790             0               0.109307    109   \n",
              "\n",
              "        vezes_passou_de_30_59_dias  razao_debito  salario_mensal  \\\n",
              "40007                            0         939.0             NaN   \n",
              "56761                            0           2.0             NaN   \n",
              "105790                           0        2141.0             NaN   \n",
              "\n",
              "        numero_linhas_crdto_aberto  numero_vezes_passou_90_dias  \\\n",
              "40007                            9                            0   \n",
              "56761                            4                            0   \n",
              "105790                          17                            0   \n",
              "\n",
              "        numero_emprestimos_imobiliarios  \\\n",
              "40007                                 1   \n",
              "56761                                 0   \n",
              "105790                                1   \n",
              "\n",
              "        numero_de_vezes_que_passou_60_89_dias  numero_de_dependentes  \n",
              "40007                                       0                    0.0  \n",
              "56761                                       0                    0.0  \n",
              "105790                                      0                    0.0  "
            ],
            "text/html": [
              "\n",
              "  <div id=\"df-45b26aa6-bbf8-4e8a-b5a6-6d18c3bf82aa\" class=\"colab-df-container\">\n",
              "    <div>\n",
              "<style scoped>\n",
              "    .dataframe tbody tr th:only-of-type {\n",
              "        vertical-align: middle;\n",
              "    }\n",
              "\n",
              "    .dataframe tbody tr th {\n",
              "        vertical-align: top;\n",
              "    }\n",
              "\n",
              "    .dataframe thead th {\n",
              "        text-align: right;\n",
              "    }\n",
              "</style>\n",
              "<table border=\"1\" class=\"dataframe\">\n",
              "  <thead>\n",
              "    <tr style=\"text-align: right;\">\n",
              "      <th></th>\n",
              "      <th>inadimplente</th>\n",
              "      <th>util_linhas_inseguras</th>\n",
              "      <th>idade</th>\n",
              "      <th>vezes_passou_de_30_59_dias</th>\n",
              "      <th>razao_debito</th>\n",
              "      <th>salario_mensal</th>\n",
              "      <th>numero_linhas_crdto_aberto</th>\n",
              "      <th>numero_vezes_passou_90_dias</th>\n",
              "      <th>numero_emprestimos_imobiliarios</th>\n",
              "      <th>numero_de_vezes_que_passou_60_89_dias</th>\n",
              "      <th>numero_de_dependentes</th>\n",
              "    </tr>\n",
              "  </thead>\n",
              "  <tbody>\n",
              "    <tr>\n",
              "      <th>40007</th>\n",
              "      <td>0</td>\n",
              "      <td>0.064748</td>\n",
              "      <td>107</td>\n",
              "      <td>0</td>\n",
              "      <td>939.0</td>\n",
              "      <td>NaN</td>\n",
              "      <td>9</td>\n",
              "      <td>0</td>\n",
              "      <td>1</td>\n",
              "      <td>0</td>\n",
              "      <td>0.0</td>\n",
              "    </tr>\n",
              "    <tr>\n",
              "      <th>56761</th>\n",
              "      <td>0</td>\n",
              "      <td>0.003469</td>\n",
              "      <td>105</td>\n",
              "      <td>0</td>\n",
              "      <td>2.0</td>\n",
              "      <td>NaN</td>\n",
              "      <td>4</td>\n",
              "      <td>0</td>\n",
              "      <td>0</td>\n",
              "      <td>0</td>\n",
              "      <td>0.0</td>\n",
              "    </tr>\n",
              "    <tr>\n",
              "      <th>105790</th>\n",
              "      <td>0</td>\n",
              "      <td>0.109307</td>\n",
              "      <td>109</td>\n",
              "      <td>0</td>\n",
              "      <td>2141.0</td>\n",
              "      <td>NaN</td>\n",
              "      <td>17</td>\n",
              "      <td>0</td>\n",
              "      <td>1</td>\n",
              "      <td>0</td>\n",
              "      <td>0.0</td>\n",
              "    </tr>\n",
              "  </tbody>\n",
              "</table>\n",
              "</div>\n",
              "    <div class=\"colab-df-buttons\">\n",
              "\n",
              "  <div class=\"colab-df-container\">\n",
              "    <button class=\"colab-df-convert\" onclick=\"convertToInteractive('df-45b26aa6-bbf8-4e8a-b5a6-6d18c3bf82aa')\"\n",
              "            title=\"Convert this dataframe to an interactive table.\"\n",
              "            style=\"display:none;\">\n",
              "\n",
              "  <svg xmlns=\"http://www.w3.org/2000/svg\" height=\"24px\" viewBox=\"0 -960 960 960\">\n",
              "    <path d=\"M120-120v-720h720v720H120Zm60-500h600v-160H180v160Zm220 220h160v-160H400v160Zm0 220h160v-160H400v160ZM180-400h160v-160H180v160Zm440 0h160v-160H620v160ZM180-180h160v-160H180v160Zm440 0h160v-160H620v160Z\"/>\n",
              "  </svg>\n",
              "    </button>\n",
              "\n",
              "  <style>\n",
              "    .colab-df-container {\n",
              "      display:flex;\n",
              "      gap: 12px;\n",
              "    }\n",
              "\n",
              "    .colab-df-convert {\n",
              "      background-color: #E8F0FE;\n",
              "      border: none;\n",
              "      border-radius: 50%;\n",
              "      cursor: pointer;\n",
              "      display: none;\n",
              "      fill: #1967D2;\n",
              "      height: 32px;\n",
              "      padding: 0 0 0 0;\n",
              "      width: 32px;\n",
              "    }\n",
              "\n",
              "    .colab-df-convert:hover {\n",
              "      background-color: #E2EBFA;\n",
              "      box-shadow: 0px 1px 2px rgba(60, 64, 67, 0.3), 0px 1px 3px 1px rgba(60, 64, 67, 0.15);\n",
              "      fill: #174EA6;\n",
              "    }\n",
              "\n",
              "    .colab-df-buttons div {\n",
              "      margin-bottom: 4px;\n",
              "    }\n",
              "\n",
              "    [theme=dark] .colab-df-convert {\n",
              "      background-color: #3B4455;\n",
              "      fill: #D2E3FC;\n",
              "    }\n",
              "\n",
              "    [theme=dark] .colab-df-convert:hover {\n",
              "      background-color: #434B5C;\n",
              "      box-shadow: 0px 1px 3px 1px rgba(0, 0, 0, 0.15);\n",
              "      filter: drop-shadow(0px 1px 2px rgba(0, 0, 0, 0.3));\n",
              "      fill: #FFFFFF;\n",
              "    }\n",
              "  </style>\n",
              "\n",
              "    <script>\n",
              "      const buttonEl =\n",
              "        document.querySelector('#df-45b26aa6-bbf8-4e8a-b5a6-6d18c3bf82aa button.colab-df-convert');\n",
              "      buttonEl.style.display =\n",
              "        google.colab.kernel.accessAllowed ? 'block' : 'none';\n",
              "\n",
              "      async function convertToInteractive(key) {\n",
              "        const element = document.querySelector('#df-45b26aa6-bbf8-4e8a-b5a6-6d18c3bf82aa');\n",
              "        const dataTable =\n",
              "          await google.colab.kernel.invokeFunction('convertToInteractive',\n",
              "                                                    [key], {});\n",
              "        if (!dataTable) return;\n",
              "\n",
              "        const docLinkHtml = 'Like what you see? Visit the ' +\n",
              "          '<a target=\"_blank\" href=https://colab.research.google.com/notebooks/data_table.ipynb>data table notebook</a>'\n",
              "          + ' to learn more about interactive tables.';\n",
              "        element.innerHTML = '';\n",
              "        dataTable['output_type'] = 'display_data';\n",
              "        await google.colab.output.renderOutput(dataTable, element);\n",
              "        const docLink = document.createElement('div');\n",
              "        docLink.innerHTML = docLinkHtml;\n",
              "        element.appendChild(docLink);\n",
              "      }\n",
              "    </script>\n",
              "  </div>\n",
              "\n",
              "\n",
              "<div id=\"df-635293fc-5480-46f0-b1ba-d169a40132ff\">\n",
              "  <button class=\"colab-df-quickchart\" onclick=\"quickchart('df-635293fc-5480-46f0-b1ba-d169a40132ff')\"\n",
              "            title=\"Suggest charts\"\n",
              "            style=\"display:none;\">\n",
              "\n",
              "<svg xmlns=\"http://www.w3.org/2000/svg\" height=\"24px\"viewBox=\"0 0 24 24\"\n",
              "     width=\"24px\">\n",
              "    <g>\n",
              "        <path d=\"M19 3H5c-1.1 0-2 .9-2 2v14c0 1.1.9 2 2 2h14c1.1 0 2-.9 2-2V5c0-1.1-.9-2-2-2zM9 17H7v-7h2v7zm4 0h-2V7h2v10zm4 0h-2v-4h2v4z\"/>\n",
              "    </g>\n",
              "</svg>\n",
              "  </button>\n",
              "\n",
              "<style>\n",
              "  .colab-df-quickchart {\n",
              "      --bg-color: #E8F0FE;\n",
              "      --fill-color: #1967D2;\n",
              "      --hover-bg-color: #E2EBFA;\n",
              "      --hover-fill-color: #174EA6;\n",
              "      --disabled-fill-color: #AAA;\n",
              "      --disabled-bg-color: #DDD;\n",
              "  }\n",
              "\n",
              "  [theme=dark] .colab-df-quickchart {\n",
              "      --bg-color: #3B4455;\n",
              "      --fill-color: #D2E3FC;\n",
              "      --hover-bg-color: #434B5C;\n",
              "      --hover-fill-color: #FFFFFF;\n",
              "      --disabled-bg-color: #3B4455;\n",
              "      --disabled-fill-color: #666;\n",
              "  }\n",
              "\n",
              "  .colab-df-quickchart {\n",
              "    background-color: var(--bg-color);\n",
              "    border: none;\n",
              "    border-radius: 50%;\n",
              "    cursor: pointer;\n",
              "    display: none;\n",
              "    fill: var(--fill-color);\n",
              "    height: 32px;\n",
              "    padding: 0;\n",
              "    width: 32px;\n",
              "  }\n",
              "\n",
              "  .colab-df-quickchart:hover {\n",
              "    background-color: var(--hover-bg-color);\n",
              "    box-shadow: 0 1px 2px rgba(60, 64, 67, 0.3), 0 1px 3px 1px rgba(60, 64, 67, 0.15);\n",
              "    fill: var(--button-hover-fill-color);\n",
              "  }\n",
              "\n",
              "  .colab-df-quickchart-complete:disabled,\n",
              "  .colab-df-quickchart-complete:disabled:hover {\n",
              "    background-color: var(--disabled-bg-color);\n",
              "    fill: var(--disabled-fill-color);\n",
              "    box-shadow: none;\n",
              "  }\n",
              "\n",
              "  .colab-df-spinner {\n",
              "    border: 2px solid var(--fill-color);\n",
              "    border-color: transparent;\n",
              "    border-bottom-color: var(--fill-color);\n",
              "    animation:\n",
              "      spin 1s steps(1) infinite;\n",
              "  }\n",
              "\n",
              "  @keyframes spin {\n",
              "    0% {\n",
              "      border-color: transparent;\n",
              "      border-bottom-color: var(--fill-color);\n",
              "      border-left-color: var(--fill-color);\n",
              "    }\n",
              "    20% {\n",
              "      border-color: transparent;\n",
              "      border-left-color: var(--fill-color);\n",
              "      border-top-color: var(--fill-color);\n",
              "    }\n",
              "    30% {\n",
              "      border-color: transparent;\n",
              "      border-left-color: var(--fill-color);\n",
              "      border-top-color: var(--fill-color);\n",
              "      border-right-color: var(--fill-color);\n",
              "    }\n",
              "    40% {\n",
              "      border-color: transparent;\n",
              "      border-right-color: var(--fill-color);\n",
              "      border-top-color: var(--fill-color);\n",
              "    }\n",
              "    60% {\n",
              "      border-color: transparent;\n",
              "      border-right-color: var(--fill-color);\n",
              "    }\n",
              "    80% {\n",
              "      border-color: transparent;\n",
              "      border-right-color: var(--fill-color);\n",
              "      border-bottom-color: var(--fill-color);\n",
              "    }\n",
              "    90% {\n",
              "      border-color: transparent;\n",
              "      border-bottom-color: var(--fill-color);\n",
              "    }\n",
              "  }\n",
              "</style>\n",
              "\n",
              "  <script>\n",
              "    async function quickchart(key) {\n",
              "      const quickchartButtonEl =\n",
              "        document.querySelector('#' + key + ' button');\n",
              "      quickchartButtonEl.disabled = true;  // To prevent multiple clicks.\n",
              "      quickchartButtonEl.classList.add('colab-df-spinner');\n",
              "      try {\n",
              "        const charts = await google.colab.kernel.invokeFunction(\n",
              "            'suggestCharts', [key], {});\n",
              "      } catch (error) {\n",
              "        console.error('Error during call to suggestCharts:', error);\n",
              "      }\n",
              "      quickchartButtonEl.classList.remove('colab-df-spinner');\n",
              "      quickchartButtonEl.classList.add('colab-df-quickchart-complete');\n",
              "    }\n",
              "    (() => {\n",
              "      let quickchartButtonEl =\n",
              "        document.querySelector('#df-635293fc-5480-46f0-b1ba-d169a40132ff button');\n",
              "      quickchartButtonEl.style.display =\n",
              "        google.colab.kernel.accessAllowed ? 'block' : 'none';\n",
              "    })();\n",
              "  </script>\n",
              "</div>\n",
              "\n",
              "    </div>\n",
              "  </div>\n"
            ],
            "application/vnd.google.colaboratory.intrinsic+json": {
              "type": "dataframe",
              "summary": "{\n  \"name\": \"df[df['salario_mensal']\",\n  \"rows\": 3,\n  \"fields\": [\n    {\n      \"column\": \"inadimplente\",\n      \"properties\": {\n        \"dtype\": \"number\",\n        \"std\": 0,\n        \"min\": 0,\n        \"max\": 0,\n        \"num_unique_values\": 1,\n        \"samples\": [\n          0\n        ],\n        \"semantic_type\": \"\",\n        \"description\": \"\"\n      }\n    },\n    {\n      \"column\": \"util_linhas_inseguras\",\n      \"properties\": {\n        \"dtype\": \"number\",\n        \"std\": 0.053138626677353175,\n        \"min\": 0.0034692459999999,\n        \"max\": 0.109307222,\n        \"num_unique_values\": 3,\n        \"samples\": [\n          0.064747843\n        ],\n        \"semantic_type\": \"\",\n        \"description\": \"\"\n      }\n    },\n    {\n      \"column\": \"idade\",\n      \"properties\": {\n        \"dtype\": \"number\",\n        \"std\": 2,\n        \"min\": 105,\n        \"max\": 109,\n        \"num_unique_values\": 3,\n        \"samples\": [\n          107\n        ],\n        \"semantic_type\": \"\",\n        \"description\": \"\"\n      }\n    },\n    {\n      \"column\": \"vezes_passou_de_30_59_dias\",\n      \"properties\": {\n        \"dtype\": \"number\",\n        \"std\": 0,\n        \"min\": 0,\n        \"max\": 0,\n        \"num_unique_values\": 1,\n        \"samples\": [\n          0\n        ],\n        \"semantic_type\": \"\",\n        \"description\": \"\"\n      }\n    },\n    {\n      \"column\": \"razao_debito\",\n      \"properties\": {\n        \"dtype\": \"number\",\n        \"std\": 1072.2324063995331,\n        \"min\": 2.0,\n        \"max\": 2141.0,\n        \"num_unique_values\": 3,\n        \"samples\": [\n          939.0\n        ],\n        \"semantic_type\": \"\",\n        \"description\": \"\"\n      }\n    },\n    {\n      \"column\": \"salario_mensal\",\n      \"properties\": {\n        \"dtype\": \"number\",\n        \"std\": null,\n        \"min\": null,\n        \"max\": null,\n        \"num_unique_values\": 0,\n        \"samples\": [],\n        \"semantic_type\": \"\",\n        \"description\": \"\"\n      }\n    },\n    {\n      \"column\": \"numero_linhas_crdto_aberto\",\n      \"properties\": {\n        \"dtype\": \"number\",\n        \"std\": 6,\n        \"min\": 4,\n        \"max\": 17,\n        \"num_unique_values\": 3,\n        \"samples\": [],\n        \"semantic_type\": \"\",\n        \"description\": \"\"\n      }\n    },\n    {\n      \"column\": \"numero_vezes_passou_90_dias\",\n      \"properties\": {\n        \"dtype\": \"number\",\n        \"std\": 0,\n        \"min\": 0,\n        \"max\": 0,\n        \"num_unique_values\": 1,\n        \"samples\": [],\n        \"semantic_type\": \"\",\n        \"description\": \"\"\n      }\n    },\n    {\n      \"column\": \"numero_emprestimos_imobiliarios\",\n      \"properties\": {\n        \"dtype\": \"number\",\n        \"std\": 0,\n        \"min\": 0,\n        \"max\": 1,\n        \"num_unique_values\": 2,\n        \"samples\": [],\n        \"semantic_type\": \"\",\n        \"description\": \"\"\n      }\n    },\n    {\n      \"column\": \"numero_de_vezes_que_passou_60_89_dias\",\n      \"properties\": {\n        \"dtype\": \"number\",\n        \"std\": 0,\n        \"min\": 0,\n        \"max\": 0,\n        \"num_unique_values\": 1,\n        \"samples\": [],\n        \"semantic_type\": \"\",\n        \"description\": \"\"\n      }\n    },\n    {\n      \"column\": \"numero_de_dependentes\",\n      \"properties\": {\n        \"dtype\": \"number\",\n        \"std\": 0.0,\n        \"min\": 0.0,\n        \"max\": 0.0,\n        \"num_unique_values\": 1,\n        \"samples\": [],\n        \"semantic_type\": \"\",\n        \"description\": \"\"\n      }\n    }\n  ]\n}"
            }
          },
          "metadata": {},
          "execution_count": 10
        }
      ]
    },
    {
      "cell_type": "code",
      "source": [
        "# Criando o boxplot da variável 'idade'\n",
        "plt.boxplot(df['idade'])\n",
        "plt.title('Boxplot da variável Idade')\n",
        "plt.ylabel('Idade')\n",
        "plt.show()\n"
      ],
      "metadata": {
        "colab": {
          "base_uri": "https://localhost:8080/",
          "height": 504
        },
        "id": "iP_JDnbVWwtc",
        "outputId": "dd7b1583-8425-4abc-dc8e-c23d3276813c"
      },
      "execution_count": 11,
      "outputs": [
        {
          "output_type": "display_data",
          "data": {
            "text/plain": [
              "<Figure size 800x550 with 1 Axes>"
            ],
            "image/png": "[encoded data removed]"
          },
          "metadata": {}
        }
      ]
    },
    {
      "cell_type": "markdown",
      "source": [
        "### São Outliers na idade, por isso serão excluídos."
      ],
      "metadata": {
        "id": "Y-QwPtpFWgBp"
      }
    },
    {
      "cell_type": "code",
      "source": [
        "df = df.dropna(subset=['salario_mensal'])"
      ],
      "metadata": {
        "id": "kwBO1hOTgp0N"
      },
      "execution_count": 12,
      "outputs": []
    },
    {
      "cell_type": "code",
      "source": [
        "df.info()"
      ],
      "metadata": {
        "colab": {
          "base_uri": "https://localhost:8080/"
        },
        "id": "xUUM0gCxhBnJ",
        "outputId": "8824a079-0f77-47af-e188-0f5c5bee904b"
      },
      "execution_count": 13,
      "outputs": [
        {
          "output_type": "stream",
          "name": "stdout",
          "text": [
            "<class 'pandas.core.frame.DataFrame'>\n",
            "Index: 109997 entries, 0 to 109999\n",
            "Data columns (total 11 columns):\n",
            " #   Column                                 Non-Null Count   Dtype  \n",
            "---  ------                                 --------------   -----  \n",
            " 0   inadimplente                           109997 non-null  int64  \n",
            " 1   util_linhas_inseguras                  109997 non-null  float64\n",
            " 2   idade                                  109997 non-null  int64  \n",
            " 3   vezes_passou_de_30_59_dias             109997 non-null  int64  \n",
            " 4   razao_debito                           109997 non-null  float64\n",
            " 5   salario_mensal                         109997 non-null  float64\n",
            " 6   numero_linhas_crdto_aberto             109997 non-null  int64  \n",
            " 7   numero_vezes_passou_90_dias            109997 non-null  int64  \n",
            " 8   numero_emprestimos_imobiliarios        109997 non-null  int64  \n",
            " 9   numero_de_vezes_que_passou_60_89_dias  109997 non-null  int64  \n",
            " 10  numero_de_dependentes                  109997 non-null  float64\n",
            "dtypes: float64(4), int64(7)\n",
            "memory usage: 10.1 MB\n"
          ]
        }
      ]
    },
    {
      "cell_type": "markdown",
      "source": [
        "#**Análise Exploratória**"
      ],
      "metadata": {
        "id": "fWVGd0H-hrF5"
      }
    },
    {
      "cell_type": "code",
      "source": [
        "df['inadimplente'].value_counts()"
      ],
      "metadata": {
        "colab": {
          "base_uri": "https://localhost:8080/",
          "height": 178
        },
        "id": "dBrRWyNuhroj",
        "outputId": "40d7ba67-0c39-48f0-91e7-a57c9a53728b"
      },
      "execution_count": 14,
      "outputs": [
        {
          "output_type": "execute_result",
          "data": {
            "text/plain": [
              "inadimplente\n",
              "0    102666\n",
              "1      7331\n",
              "Name: count, dtype: int64"
            ],
            "text/html": [
              "<div>\n",
              "<style scoped>\n",
              "    .dataframe tbody tr th:only-of-type {\n",
              "        vertical-align: middle;\n",
              "    }\n",
              "\n",
              "    .dataframe tbody tr th {\n",
              "        vertical-align: top;\n",
              "    }\n",
              "\n",
              "    .dataframe thead th {\n",
              "        text-align: right;\n",
              "    }\n",
              "</style>\n",
              "<table border=\"1\" class=\"dataframe\">\n",
              "  <thead>\n",
              "    <tr style=\"text-align: right;\">\n",
              "      <th></th>\n",
              "      <th>count</th>\n",
              "    </tr>\n",
              "    <tr>\n",
              "      <th>inadimplente</th>\n",
              "      <th></th>\n",
              "    </tr>\n",
              "  </thead>\n",
              "  <tbody>\n",
              "    <tr>\n",
              "      <th>0</th>\n",
              "      <td>102666</td>\n",
              "    </tr>\n",
              "    <tr>\n",
              "      <th>1</th>\n",
              "      <td>7331</td>\n",
              "    </tr>\n",
              "  </tbody>\n",
              "</table>\n",
              "</div><br><label><b>dtype:</b> int64</label>"
            ]
          },
          "metadata": {},
          "execution_count": 14
        }
      ]
    },
    {
      "cell_type": "code",
      "source": [
        "sns.countplot(x=df['inadimplente'])"
      ],
      "metadata": {
        "colab": {
          "base_uri": "https://localhost:8080/",
          "height": 520
        },
        "id": "I4XM5TcfhswJ",
        "outputId": "c7f81ba4-76d2-4906-b857-07af8b3d952d"
      },
      "execution_count": 15,
      "outputs": [
        {
          "output_type": "execute_result",
          "data": {
            "text/plain": [
              "<Axes: xlabel='inadimplente', ylabel='count'>"
            ]
          },
          "metadata": {},
          "execution_count": 15
        },
        {
          "output_type": "display_data",
          "data": {
            "text/plain": [
              "<Figure size 800x550 with 1 Axes>"
            ],
            "image/png": "[encoded data removed]"
          },
          "metadata": {}
        }
      ]
    },
    {
      "cell_type": "code",
      "source": [
        "df.describe()"
      ],
      "metadata": {
        "colab": {
          "base_uri": "https://localhost:8080/",
          "height": 320
        },
        "id": "lSUyL6wphsoT",
        "outputId": "be04228a-7cd0-4f26-c48a-d850e3800164"
      },
      "execution_count": 16,
      "outputs": [
        {
          "output_type": "execute_result",
          "data": {
            "text/plain": [
              "        inadimplente  util_linhas_inseguras          idade  \\\n",
              "count  109997.000000          109997.000000  109997.000000   \n",
              "mean        0.066647               5.930140      52.254143   \n",
              "std         0.249411             252.305404      14.765672   \n",
              "min         0.000000               0.000000       0.000000   \n",
              "25%         0.000000               0.030054      41.000000   \n",
              "50%         0.000000               0.155940      52.000000   \n",
              "75%         0.000000               0.562812      63.000000   \n",
              "max         1.000000           50708.000000     103.000000   \n",
              "\n",
              "       vezes_passou_de_30_59_dias   razao_debito  salario_mensal  \\\n",
              "count               109997.000000  109997.000000    1.099970e+05   \n",
              "mean                     0.424066     354.805247    6.400301e+03   \n",
              "std                      4.240837    2074.160693    1.200565e+04   \n",
              "min                      0.000000       0.000000    0.000000e+00   \n",
              "25%                      0.000000       0.175013    3.776000e+03   \n",
              "50%                      0.000000       0.366667    5.552000e+03   \n",
              "75%                      0.000000       0.866815    7.380000e+03   \n",
              "max                     98.000000  329664.000000    3.008750e+06   \n",
              "\n",
              "       numero_linhas_crdto_aberto  numero_vezes_passou_90_dias  \\\n",
              "count               109997.000000                109997.000000   \n",
              "mean                     8.445530                     0.269962   \n",
              "std                      5.139013                     4.217384   \n",
              "min                      0.000000                     0.000000   \n",
              "25%                      5.000000                     0.000000   \n",
              "50%                      8.000000                     0.000000   \n",
              "75%                     11.000000                     0.000000   \n",
              "max                     58.000000                    98.000000   \n",
              "\n",
              "       numero_emprestimos_imobiliarios  numero_de_vezes_que_passou_60_89_dias  \\\n",
              "count                    109997.000000                          109997.000000   \n",
              "mean                          1.019901                               0.243898   \n",
              "std                           1.136000                               4.204194   \n",
              "min                           0.000000                               0.000000   \n",
              "25%                           0.000000                               0.000000   \n",
              "50%                           1.000000                               0.000000   \n",
              "75%                           2.000000                               0.000000   \n",
              "max                          54.000000                              98.000000   \n",
              "\n",
              "       numero_de_dependentes  \n",
              "count          109997.000000  \n",
              "mean                0.737684  \n",
              "std                 1.106625  \n",
              "min                 0.000000  \n",
              "25%                 0.000000  \n",
              "50%                 0.000000  \n",
              "75%                 1.000000  \n",
              "max                20.000000  "
            ],
            "text/html": [
              "\n",
              "  <div id=\"df-e5cc4ce8-da51-4927-8bbd-605a8c6edd48\" class=\"colab-df-container\">\n",
              "    <div>\n",
              "<style scoped>\n",
              "    .dataframe tbody tr th:only-of-type {\n",
              "        vertical-align: middle;\n",
              "    }\n",
              "\n",
              "    .dataframe tbody tr th {\n",
              "        vertical-align: top;\n",
              "    }\n",
              "\n",
              "    .dataframe thead th {\n",
              "        text-align: right;\n",
              "    }\n",
              "</style>\n",
              "<table border=\"1\" class=\"dataframe\">\n",
              "  <thead>\n",
              "    <tr style=\"text-align: right;\">\n",
              "      <th></th>\n",
              "      <th>inadimplente</th>\n",
              "      <th>util_linhas_inseguras</th>\n",
              "      <th>idade</th>\n",
              "      <th>vezes_passou_de_30_59_dias</th>\n",
              "      <th>razao_debito</th>\n",
              "      <th>salario_mensal</th>\n",
              "      <th>numero_linhas_crdto_aberto</th>\n",
              "      <th>numero_vezes_passou_90_dias</th>\n",
              "      <th>numero_emprestimos_imobiliarios</th>\n",
              "      <th>numero_de_vezes_que_passou_60_89_dias</th>\n",
              "      <th>numero_de_dependentes</th>\n",
              "    </tr>\n",
              "  </thead>\n",
              "  <tbody>\n",
              "    <tr>\n",
              "      <th>count</th>\n",
              "      <td>109997.000000</td>\n",
              "      <td>109997.000000</td>\n",
              "      <td>109997.000000</td>\n",
              "      <td>109997.000000</td>\n",
              "      <td>109997.000000</td>\n",
              "      <td>1.099970e+05</td>\n",
              "      <td>109997.000000</td>\n",
              "      <td>109997.000000</td>\n",
              "      <td>109997.000000</td>\n",
              "      <td>109997.000000</td>\n",
              "      <td>109997.000000</td>\n",
              "    </tr>\n",
              "    <tr>\n",
              "      <th>mean</th>\n",
              "      <td>0.066647</td>\n",
              "      <td>5.930140</td>\n",
              "      <td>52.254143</td>\n",
              "      <td>0.424066</td>\n",
              "      <td>354.805247</td>\n",
              "      <td>6.400301e+03</td>\n",
              "      <td>8.445530</td>\n",
              "      <td>0.269962</td>\n",
              "      <td>1.019901</td>\n",
              "      <td>0.243898</td>\n",
              "      <td>0.737684</td>\n",
              "    </tr>\n",
              "    <tr>\n",
              "      <th>std</th>\n",
              "      <td>0.249411</td>\n",
              "      <td>252.305404</td>\n",
              "      <td>14.765672</td>\n",
              "      <td>4.240837</td>\n",
              "      <td>2074.160693</td>\n",
              "      <td>1.200565e+04</td>\n",
              "      <td>5.139013</td>\n",
              "      <td>4.217384</td>\n",
              "      <td>1.136000</td>\n",
              "      <td>4.204194</td>\n",
              "      <td>1.106625</td>\n",
              "    </tr>\n",
              "    <tr>\n",
              "      <th>min</th>\n",
              "      <td>0.000000</td>\n",
              "      <td>0.000000</td>\n",
              "      <td>0.000000</td>\n",
              "      <td>0.000000</td>\n",
              "      <td>0.000000</td>\n",
              "      <td>0.000000e+00</td>\n",
              "      <td>0.000000</td>\n",
              "      <td>0.000000</td>\n",
              "      <td>0.000000</td>\n",
              "      <td>0.000000</td>\n",
              "      <td>0.000000</td>\n",
              "    </tr>\n",
              "    <tr>\n",
              "      <th>25%</th>\n",
              "      <td>0.000000</td>\n",
              "      <td>0.030054</td>\n",
              "      <td>41.000000</td>\n",
              "      <td>0.000000</td>\n",
              "      <td>0.175013</td>\n",
              "      <td>3.776000e+03</td>\n",
              "      <td>5.000000</td>\n",
              "      <td>0.000000</td>\n",
              "      <td>0.000000</td>\n",
              "      <td>0.000000</td>\n",
              "      <td>0.000000</td>\n",
              "    </tr>\n",
              "    <tr>\n",
              "      <th>50%</th>\n",
              "      <td>0.000000</td>\n",
              "      <td>0.155940</td>\n",
              "      <td>52.000000</td>\n",
              "      <td>0.000000</td>\n",
              "      <td>0.366667</td>\n",
              "      <td>5.552000e+03</td>\n",
              "      <td>8.000000</td>\n",
              "      <td>0.000000</td>\n",
              "      <td>1.000000</td>\n",
              "      <td>0.000000</td>\n",
              "      <td>0.000000</td>\n",
              "    </tr>\n",
              "    <tr>\n",
              "      <th>75%</th>\n",
              "      <td>0.000000</td>\n",
              "      <td>0.562812</td>\n",
              "      <td>63.000000</td>\n",
              "      <td>0.000000</td>\n",
              "      <td>0.866815</td>\n",
              "      <td>7.380000e+03</td>\n",
              "      <td>11.000000</td>\n",
              "      <td>0.000000</td>\n",
              "      <td>2.000000</td>\n",
              "      <td>0.000000</td>\n",
              "      <td>1.000000</td>\n",
              "    </tr>\n",
              "    <tr>\n",
              "      <th>max</th>\n",
              "      <td>1.000000</td>\n",
              "      <td>50708.000000</td>\n",
              "      <td>103.000000</td>\n",
              "      <td>98.000000</td>\n",
              "      <td>329664.000000</td>\n",
              "      <td>3.008750e+06</td>\n",
              "      <td>58.000000</td>\n",
              "      <td>98.000000</td>\n",
              "      <td>54.000000</td>\n",
              "      <td>98.000000</td>\n",
              "      <td>20.000000</td>\n",
              "    </tr>\n",
              "  </tbody>\n",
              "</table>\n",
              "</div>\n",
              "    <div class=\"colab-df-buttons\">\n",
              "\n",
              "  <div class=\"colab-df-container\">\n",
              "    <button class=\"colab-df-convert\" onclick=\"convertToInteractive('df-e5cc4ce8-da51-4927-8bbd-605a8c6edd48')\"\n",
              "            title=\"Convert this dataframe to an interactive table.\"\n",
              "            style=\"display:none;\">\n",
              "\n",
              "  <svg xmlns=\"http://www.w3.org/2000/svg\" height=\"24px\" viewBox=\"0 -960 960 960\">\n",
              "    <path d=\"M120-120v-720h720v720H120Zm60-500h600v-160H180v160Zm220 220h160v-160H400v160Zm0 220h160v-160H400v160ZM180-400h160v-160H180v160Zm440 0h160v-160H620v160ZM180-180h160v-160H180v160Zm440 0h160v-160H620v160Z\"/>\n",
              "  </svg>\n",
              "    </button>\n",
              "\n",
              "  <style>\n",
              "    .colab-df-container {\n",
              "      display:flex;\n",
              "      gap: 12px;\n",
              "    }\n",
              "\n",
              "    .colab-df-convert {\n",
              "      background-color: #E8F0FE;\n",
              "      border: none;\n",
              "      border-radius: 50%;\n",
              "      cursor: pointer;\n",
              "      display: none;\n",
              "      fill: #1967D2;\n",
              "      height: 32px;\n",
              "      padding: 0 0 0 0;\n",
              "      width: 32px;\n",
              "    }\n",
              "\n",
              "    .colab-df-convert:hover {\n",
              "      background-color: #E2EBFA;\n",
              "      box-shadow: 0px 1px 2px rgba(60, 64, 67, 0.3), 0px 1px 3px 1px rgba(60, 64, 67, 0.15);\n",
              "      fill: #174EA6;\n",
              "    }\n",
              "\n",
              "    .colab-df-buttons div {\n",
              "      margin-bottom: 4px;\n",
              "    }\n",
              "\n",
              "    [theme=dark] .colab-df-convert {\n",
              "      background-color: #3B4455;\n",
              "      fill: #D2E3FC;\n",
              "    }\n",
              "\n",
              "    [theme=dark] .colab-df-convert:hover {\n",
              "      background-color: #434B5C;\n",
              "      box-shadow: 0px 1px 3px 1px rgba(0, 0, 0, 0.15);\n",
              "      filter: drop-shadow(0px 1px 2px rgba(0, 0, 0, 0.3));\n",
              "      fill: #FFFFFF;\n",
              "    }\n",
              "  </style>\n",
              "\n",
              "    <script>\n",
              "      const buttonEl =\n",
              "        document.querySelector('#df-e5cc4ce8-da51-4927-8bbd-605a8c6edd48 button.colab-df-convert');\n",
              "      buttonEl.style.display =\n",
              "        google.colab.kernel.accessAllowed ? 'block' : 'none';\n",
              "\n",
              "      async function convertToInteractive(key) {\n",
              "        const element = document.querySelector('#df-e5cc4ce8-da51-4927-8bbd-605a8c6edd48');\n",
              "        const dataTable =\n",
              "          await google.colab.kernel.invokeFunction('convertToInteractive',\n",
              "                                                    [key], {});\n",
              "        if (!dataTable) return;\n",
              "\n",
              "        const docLinkHtml = 'Like what you see? Visit the ' +\n",
              "          '<a target=\"_blank\" href=https://colab.research.google.com/notebooks/data_table.ipynb>data table notebook</a>'\n",
              "          + ' to learn more about interactive tables.';\n",
              "        element.innerHTML = '';\n",
              "        dataTable['output_type'] = 'display_data';\n",
              "        await google.colab.output.renderOutput(dataTable, element);\n",
              "        const docLink = document.createElement('div');\n",
              "        docLink.innerHTML = docLinkHtml;\n",
              "        element.appendChild(docLink);\n",
              "      }\n",
              "    </script>\n",
              "  </div>\n",
              "\n",
              "\n",
              "<div id=\"df-bebb4a15-7f5d-4236-93b8-6270cb51f8c0\">\n",
              "  <button class=\"colab-df-quickchart\" onclick=\"quickchart('df-bebb4a15-7f5d-4236-93b8-6270cb51f8c0')\"\n",
              "            title=\"Suggest charts\"\n",
              "            style=\"display:none;\">\n",
              "\n",
              "<svg xmlns=\"http://www.w3.org/2000/svg\" height=\"24px\"viewBox=\"0 0 24 24\"\n",
              "     width=\"24px\">\n",
              "    <g>\n",
              "        <path d=\"M19 3H5c-1.1 0-2 .9-2 2v14c0 1.1.9 2 2 2h14c1.1 0 2-.9 2-2V5c0-1.1-.9-2-2-2zM9 17H7v-7h2v7zm4 0h-2V7h2v10zm4 0h-2v-4h2v4z\"/>\n",
              "    </g>\n",
              "</svg>\n",
              "  </button>\n",
              "\n",
              "<style>\n",
              "  .colab-df-quickchart {\n",
              "      --bg-color: #E8F0FE;\n",
              "      --fill-color: #1967D2;\n",
              "      --hover-bg-color: #E2EBFA;\n",
              "      --hover-fill-color: #174EA6;\n",
              "      --disabled-fill-color: #AAA;\n",
              "      --disabled-bg-color: #DDD;\n",
              "  }\n",
              "\n",
              "  [theme=dark] .colab-df-quickchart {\n",
              "      --bg-color: #3B4455;\n",
              "      --fill-color: #D2E3FC;\n",
              "      --hover-bg-color: #434B5C;\n",
              "      --hover-fill-color: #FFFFFF;\n",
              "      --disabled-bg-color: #3B4455;\n",
              "      --disabled-fill-color: #666;\n",
              "  }\n",
              "\n",
              "  .colab-df-quickchart {\n",
              "    background-color: var(--bg-color);\n",
              "    border: none;\n",
              "    border-radius: 50%;\n",
              "    cursor: pointer;\n",
              "    display: none;\n",
              "    fill: var(--fill-color);\n",
              "    height: 32px;\n",
              "    padding: 0;\n",
              "    width: 32px;\n",
              "  }\n",
              "\n",
              "  .colab-df-quickchart:hover {\n",
              "    background-color: var(--hover-bg-color);\n",
              "    box-shadow: 0 1px 2px rgba(60, 64, 67, 0.3), 0 1px 3px 1px rgba(60, 64, 67, 0.15);\n",
              "    fill: var(--button-hover-fill-color);\n",
              "  }\n",
              "\n",
              "  .colab-df-quickchart-complete:disabled,\n",
              "  .colab-df-quickchart-complete:disabled:hover {\n",
              "    background-color: var(--disabled-bg-color);\n",
              "    fill: var(--disabled-fill-color);\n",
              "    box-shadow: none;\n",
              "  }\n",
              "\n",
              "  .colab-df-spinner {\n",
              "    border: 2px solid var(--fill-color);\n",
              "    border-color: transparent;\n",
              "    border-bottom-color: var(--fill-color);\n",
              "    animation:\n",
              "      spin 1s steps(1) infinite;\n",
              "  }\n",
              "\n",
              "  @keyframes spin {\n",
              "    0% {\n",
              "      border-color: transparent;\n",
              "      border-bottom-color: var(--fill-color);\n",
              "      border-left-color: var(--fill-color);\n",
              "    }\n",
              "    20% {\n",
              "      border-color: transparent;\n",
              "      border-left-color: var(--fill-color);\n",
              "      border-top-color: var(--fill-color);\n",
              "    }\n",
              "    30% {\n",
              "      border-color: transparent;\n",
              "      border-left-color: var(--fill-color);\n",
              "      border-top-color: var(--fill-color);\n",
              "      border-right-color: var(--fill-color);\n",
              "    }\n",
              "    40% {\n",
              "      border-color: transparent;\n",
              "      border-right-color: var(--fill-color);\n",
              "      border-top-color: var(--fill-color);\n",
              "    }\n",
              "    60% {\n",
              "      border-color: transparent;\n",
              "      border-right-color: var(--fill-color);\n",
              "    }\n",
              "    80% {\n",
              "      border-color: transparent;\n",
              "      border-right-color: var(--fill-color);\n",
              "      border-bottom-color: var(--fill-color);\n",
              "    }\n",
              "    90% {\n",
              "      border-color: transparent;\n",
              "      border-bottom-color: var(--fill-color);\n",
              "    }\n",
              "  }\n",
              "</style>\n",
              "\n",
              "  <script>\n",
              "    async function quickchart(key) {\n",
              "      const quickchartButtonEl =\n",
              "        document.querySelector('#' + key + ' button');\n",
              "      quickchartButtonEl.disabled = true;  // To prevent multiple clicks.\n",
              "      quickchartButtonEl.classList.add('colab-df-spinner');\n",
              "      try {\n",
              "        const charts = await google.colab.kernel.invokeFunction(\n",
              "            'suggestCharts', [key], {});\n",
              "      } catch (error) {\n",
              "        console.error('Error during call to suggestCharts:', error);\n",
              "      }\n",
              "      quickchartButtonEl.classList.remove('colab-df-spinner');\n",
              "      quickchartButtonEl.classList.add('colab-df-quickchart-complete');\n",
              "    }\n",
              "    (() => {\n",
              "      let quickchartButtonEl =\n",
              "        document.querySelector('#df-bebb4a15-7f5d-4236-93b8-6270cb51f8c0 button');\n",
              "      quickchartButtonEl.style.display =\n",
              "        google.colab.kernel.accessAllowed ? 'block' : 'none';\n",
              "    })();\n",
              "  </script>\n",
              "</div>\n",
              "\n",
              "    </div>\n",
              "  </div>\n"
            ],
            "application/vnd.google.colaboratory.intrinsic+json": {
              "type": "dataframe",
              "summary": "{\n  \"name\": \"df\",\n  \"rows\": 8,\n  \"fields\": [\n    {\n      \"column\": \"inadimplente\",\n      \"properties\": {\n        \"dtype\": \"number\",\n        \"std\": 38889.74583559901,\n        \"min\": 0.0,\n        \"max\": 109997.0,\n        \"num_unique_values\": 5,\n        \"samples\": [\n          0.06664727219833268,\n          1.0,\n          0.24941126444324022\n        ],\n        \"semantic_type\": \"\",\n        \"description\": \"\"\n      }\n    },\n    {\n      \"column\": \"util_linhas_inseguras\",\n      \"properties\": {\n        \"dtype\": \"number\",\n        \"std\": 40412.21426799063,\n        \"min\": 0.0,\n        \"max\": 109997.0,\n        \"num_unique_values\": 8,\n        \"samples\": [\n          5.930139551133094,\n          0.155940299,\n          109997.0\n        ],\n        \"semantic_type\": \"\",\n        \"description\": \"\"\n      }\n    },\n    {\n      \"column\": \"idade\",\n      \"properties\": {\n        \"dtype\": \"number\",\n        \"std\": 38873.358179142735,\n        \"min\": 0.0,\n        \"max\": 109997.0,\n        \"num_unique_values\": 8,\n        \"samples\": [\n          52.25414329481713,\n          52.0,\n          109997.0\n        ],\n        \"semantic_type\": \"\",\n        \"description\": \"\"\n      }\n    },\n    {\n      \"column\": \"vezes_passou_de_30_59_dias\",\n      \"properties\": {\n        \"dtype\": \"number\",\n        \"std\": 38884.64185380139,\n        \"min\": 0.0,\n        \"max\": 109997.0,\n        \"num_unique_values\": 5,\n        \"samples\": [\n          0.4240661108939335,\n          98.0,\n          4.240837128969897\n        ],\n        \"semantic_type\": \"\",\n        \"description\": \"\"\n      }\n    },\n    {\n      \"column\": \"razao_debito\",\n      \"properties\": {\n        \"dtype\": \"number\",\n        \"std\": 117322.21992483207,\n        \"min\": 0.0,\n        \"max\": 329664.0,\n        \"num_unique_values\": 8,\n        \"samples\": [\n          354.8052468675683,\n          0.366666667,\n          109997.0\n        ],\n        \"semantic_type\": \"\",\n        \"description\": \"\"\n      }\n    },\n    {\n      \"column\": \"salario_mensal\",\n      \"properties\": {\n        \"dtype\": \"number\",\n        \"std\": 1057058.295926325,\n        \"min\": 0.0,\n        \"max\": 3008750.0,\n        \"num_unique_values\": 8,\n        \"samples\": [\n          6400.300940025637,\n          5552.0,\n          109997.0\n        ],\n        \"semantic_type\": \"\",\n        \"description\": \"\"\n      }\n    },\n    {\n      \"column\": \"numero_linhas_crdto_aberto\",\n      \"properties\": {\n        \"dtype\": \"number\",\n        \"std\": 38884.988903715974,\n        \"min\": 0.0,\n        \"max\": 109997.0,\n        \"num_unique_values\": 8,\n        \"samples\": [\n          8.445530332645436,\n          8.0,\n          109997.0\n        ],\n        \"semantic_type\": \"\",\n        \"description\": \"\"\n      }\n    },\n    {\n      \"column\": \"numero_vezes_passou_90_dias\",\n      \"properties\": {\n        \"dtype\": \"number\",\n        \"std\": 38884.650830819104,\n        \"min\": 0.0,\n        \"max\": 109997.0,\n        \"num_unique_values\": 5,\n        \"samples\": [\n          0.2699619080520378,\n          98.0,\n          4.217383534454746\n        ],\n        \"semantic_type\": \"\",\n        \"description\": \"\"\n      }\n    },\n    {\n      \"column\": \"numero_emprestimos_imobiliarios\",\n      \"properties\": {\n        \"dtype\": \"number\",\n        \"std\": 38886.82893231102,\n        \"min\": 0.0,\n        \"max\": 109997.0,\n        \"num_unique_values\": 7,\n        \"samples\": [\n          109997.0,\n          1.0199005427420749,\n          2.0\n        ],\n        \"semantic_type\": \"\",\n        \"description\": \"\"\n      }\n    },\n    {\n      \"column\": \"numero_de_vezes_que_passou_60_89_dias\",\n      \"properties\": {\n        \"dtype\": \"number\",\n        \"std\": 38884.652815308786,\n        \"min\": 0.0,\n        \"max\": 109997.0,\n        \"num_unique_values\": 5,\n        \"samples\": [\n          0.24389756084256844,\n          98.0,\n          4.204194244749907\n        ],\n        \"semantic_type\": \"\",\n        \"description\": \"\"\n      }\n    },\n    {\n      \"column\": \"numero_de_dependentes\",\n      \"properties\": {\n        \"dtype\": \"number\",\n        \"std\": 38888.659096119496,\n        \"min\": 0.0,\n        \"max\": 109997.0,\n        \"num_unique_values\": 6,\n        \"samples\": [\n          109997.0,\n          0.7376837550115003,\n          20.0\n        ],\n        \"semantic_type\": \"\",\n        \"description\": \"\"\n      }\n    }\n  ]\n}"
            }
          },
          "metadata": {},
          "execution_count": 16
        }
      ]
    },
    {
      "cell_type": "markdown",
      "source": [
        "Informações que podem ser consideradas mais para frente na análise\n",
        "\n",
        "1. **Desbalanceamento da Classe**: A variável `inadimplente` apresenta um valor médio de 0.066, indicando que apenas cerca de 6,7% dos registros são de inadimplentes. Isso pode causar problemas de desbalanceamento na modelagem. Técnicas de balanceamento, como oversampling ou undersampling, podem ser necessárias.\n",
        "\n",
        "2. **Idade**: A média de idade (52.25 anos) e a faixa (0 a 103 anos) sugerem uma distribuição possivelmente assimétrica. É possível que testemos alguma transformações, como logaritmo, tratar ou excluir os outliers.\n",
        "\n",
        "3. **Variáveis com Alto Desvio Padrão**: Variáveis como `salario_mensal` e `numero_linhas_crdto_aberto` têm altos desvios padrão em relação à média. Isso pode indicar a presença de outliers que podem afetar a modelagem. É possível que testemos alguma transformações, como logaritmo, tratar ou excluir os outliers.\n",
        "\n",
        "4. **Dependentes**: A média de dependentes é relativamente baixa (0.74), com um máximo de 20. Pode ser interessante analisar como a quantidade de dependentes influencia a inadimplência."
      ],
      "metadata": {
        "id": "Zv_zCduMkj5X"
      }
    },
    {
      "cell_type": "markdown",
      "source": [
        "# **Modelagem**"
      ],
      "metadata": {
        "id": "X4YI3-VDpdk8"
      }
    },
    {
      "cell_type": "code",
      "source": [
        "##### Balancendo a variável inadimplente #####\n",
        "\n",
        "from imblearn.over_sampling import SMOTE\n",
        "from sklearn.model_selection import train_test_split\n",
        "\n",
        "# Dividindo em treino e teste\n",
        "df_train, df_test = train_test_split(df, test_size=0.2, stratify=df['inadimplente'])\n",
        "\n",
        "# Separando as variáveis independentes e a variável resposta no conjunto de treino\n",
        "X_train = df_train.drop(columns=['inadimplente'])\n",
        "y_train = df_train['inadimplente']\n",
        "\n",
        "# Aplicando SMOTE no conjunto de treino\n",
        "smote = SMOTE(random_state=42)\n",
        "X_resampled, y_resampled = smote.fit_resample(X_train, y_train)\n",
        "df_train_balanced = pd.DataFrame(X_resampled, columns=X_train.columns)\n",
        "df_train_balanced['inadimplente'] = y_resampled\n",
        "\n",
        "# Verificando a nova contagem das classes no conjunto de treino balanceado\n",
        "print(df_train_balanced['inadimplente'].value_counts())\n"
      ],
      "metadata": {
        "colab": {
          "base_uri": "https://localhost:8080/"
        },
        "id": "cLwaqLpGCEX3",
        "outputId": "225fab25-56fb-41a6-83da-21e121f278f4"
      },
      "execution_count": 17,
      "outputs": [
        {
          "output_type": "stream",
          "name": "stdout",
          "text": [
            "inadimplente\n",
            "0    82132\n",
            "1    82132\n",
            "Name: count, dtype: int64\n"
          ]
        }
      ]
    },
    {
      "cell_type": "code",
      "source": [
        "sns.countplot(x=df_train_balanced['inadimplente'])"
      ],
      "metadata": {
        "colab": {
          "base_uri": "https://localhost:8080/",
          "height": 520
        },
        "id": "CKhcE77wkiPg",
        "outputId": "0cbf81fe-9e41-4251-ff23-a982aa55047d"
      },
      "execution_count": 18,
      "outputs": [
        {
          "output_type": "execute_result",
          "data": {
            "text/plain": [
              "<Axes: xlabel='inadimplente', ylabel='count'>"
            ]
          },
          "metadata": {},
          "execution_count": 18
        },
        {
          "output_type": "display_data",
          "data": {
            "text/plain": [
              "<Figure size 800x550 with 1 Axes>"
            ],
            "image/png": "[encoded data removed]"
          },
          "metadata": {}
        }
      ]
    },
    {
      "cell_type": "markdown",
      "source": [
        "Esse balanceamento é necessário porque como estamos lidando com inadimplencia, nosso maior interesse de termos maior acerto é justamente aqueles que tem chance de inadimplencia pois trazem prejuízo."
      ],
      "metadata": {
        "id": "pS0rNSbjJ_AR"
      }
    },
    {
      "cell_type": "code",
      "source": [
        "# <> ------------------------------------------------------\n",
        "# <> Dividindo em treino e teste\n",
        "df_train, df_test = train_test_split(df_train_balanced,test_size=.2)"
      ],
      "metadata": {
        "id": "ZE3iBFRh2xSY"
      },
      "execution_count": 19,
      "outputs": []
    },
    {
      "cell_type": "markdown",
      "source": [
        "### **Decision Tree**"
      ],
      "metadata": {
        "id": "pCLpYvqcpj1x"
      }
    },
    {
      "cell_type": "code",
      "source": [
        "# <> ------------------------------------------------------\n",
        "# <> Configurar o ambiente PyCaret com dados de treino e teste informados manualmente\n",
        "cdt = setup(data = df_train,\n",
        "            target = 'inadimplente', # Nome da coluna de classes\n",
        "            test_data = df_test,\n",
        "            session_id = 123, # session_id para reprodutibilidade\n",
        "            index = False)"
      ],
      "metadata": {
        "colab": {
          "base_uri": "https://localhost:8080/",
          "height": 645
        },
        "id": "hQtrATo22mDU",
        "outputId": "e2739887-5f33-4f48-8121-78d23ee821a2"
      },
      "execution_count": 20,
      "outputs": [
        {
          "output_type": "display_data",
          "data": {
            "text/plain": [
              "<pandas.io.formats.style.Styler at 0x7897cf32ada0>"
            ],
            "text/html": [
              "<style type=\"text/css\">\n",
              "#T_d18c3_row8_col1 {\n",
              "  background-color: lightgreen;\n",
              "}\n",
              "</style>\n",
              "<table id=\"T_d18c3\" class=\"dataframe\">\n",
              "  <thead>\n",
              "    <tr>\n",
              "      <th class=\"blank level0\" >&nbsp;</th>\n",
              "      <th id=\"T_d18c3_level0_col0\" class=\"col_heading level0 col0\" >Description</th>\n",
              "      <th id=\"T_d18c3_level0_col1\" class=\"col_heading level0 col1\" >Value</th>\n",
              "    </tr>\n",
              "  </thead>\n",
              "  <tbody>\n",
              "    <tr>\n",
              "      <th id=\"T_d18c3_level0_row0\" class=\"row_heading level0 row0\" >0</th>\n",
              "      <td id=\"T_d18c3_row0_col0\" class=\"data row0 col0\" >Session id</td>\n",
              "      <td id=\"T_d18c3_row0_col1\" class=\"data row0 col1\" >123</td>\n",
              "    </tr>\n",
              "    <tr>\n",
              "      <th id=\"T_d18c3_level0_row1\" class=\"row_heading level0 row1\" >1</th>\n",
              "      <td id=\"T_d18c3_row1_col0\" class=\"data row1 col0\" >Target</td>\n",
              "      <td id=\"T_d18c3_row1_col1\" class=\"data row1 col1\" >inadimplente</td>\n",
              "    </tr>\n",
              "    <tr>\n",
              "      <th id=\"T_d18c3_level0_row2\" class=\"row_heading level0 row2\" >2</th>\n",
              "      <td id=\"T_d18c3_row2_col0\" class=\"data row2 col0\" >Target type</td>\n",
              "      <td id=\"T_d18c3_row2_col1\" class=\"data row2 col1\" >Binary</td>\n",
              "    </tr>\n",
              "    <tr>\n",
              "      <th id=\"T_d18c3_level0_row3\" class=\"row_heading level0 row3\" >3</th>\n",
              "      <td id=\"T_d18c3_row3_col0\" class=\"data row3 col0\" >Original data shape</td>\n",
              "      <td id=\"T_d18c3_row3_col1\" class=\"data row3 col1\" >(164264, 11)</td>\n",
              "    </tr>\n",
              "    <tr>\n",
              "      <th id=\"T_d18c3_level0_row4\" class=\"row_heading level0 row4\" >4</th>\n",
              "      <td id=\"T_d18c3_row4_col0\" class=\"data row4 col0\" >Transformed data shape</td>\n",
              "      <td id=\"T_d18c3_row4_col1\" class=\"data row4 col1\" >(164264, 11)</td>\n",
              "    </tr>\n",
              "    <tr>\n",
              "      <th id=\"T_d18c3_level0_row5\" class=\"row_heading level0 row5\" >5</th>\n",
              "      <td id=\"T_d18c3_row5_col0\" class=\"data row5 col0\" >Transformed train set shape</td>\n",
              "      <td id=\"T_d18c3_row5_col1\" class=\"data row5 col1\" >(131411, 11)</td>\n",
              "    </tr>\n",
              "    <tr>\n",
              "      <th id=\"T_d18c3_level0_row6\" class=\"row_heading level0 row6\" >6</th>\n",
              "      <td id=\"T_d18c3_row6_col0\" class=\"data row6 col0\" >Transformed test set shape</td>\n",
              "      <td id=\"T_d18c3_row6_col1\" class=\"data row6 col1\" >(32853, 11)</td>\n",
              "    </tr>\n",
              "    <tr>\n",
              "      <th id=\"T_d18c3_level0_row7\" class=\"row_heading level0 row7\" >7</th>\n",
              "      <td id=\"T_d18c3_row7_col0\" class=\"data row7 col0\" >Numeric features</td>\n",
              "      <td id=\"T_d18c3_row7_col1\" class=\"data row7 col1\" >10</td>\n",
              "    </tr>\n",
              "    <tr>\n",
              "      <th id=\"T_d18c3_level0_row8\" class=\"row_heading level0 row8\" >8</th>\n",
              "      <td id=\"T_d18c3_row8_col0\" class=\"data row8 col0\" >Preprocess</td>\n",
              "      <td id=\"T_d18c3_row8_col1\" class=\"data row8 col1\" >True</td>\n",
              "    </tr>\n",
              "    <tr>\n",
              "      <th id=\"T_d18c3_level0_row9\" class=\"row_heading level0 row9\" >9</th>\n",
              "      <td id=\"T_d18c3_row9_col0\" class=\"data row9 col0\" >Imputation type</td>\n",
              "      <td id=\"T_d18c3_row9_col1\" class=\"data row9 col1\" >simple</td>\n",
              "    </tr>\n",
              "    <tr>\n",
              "      <th id=\"T_d18c3_level0_row10\" class=\"row_heading level0 row10\" >10</th>\n",
              "      <td id=\"T_d18c3_row10_col0\" class=\"data row10 col0\" >Numeric imputation</td>\n",
              "      <td id=\"T_d18c3_row10_col1\" class=\"data row10 col1\" >mean</td>\n",
              "    </tr>\n",
              "    <tr>\n",
              "      <th id=\"T_d18c3_level0_row11\" class=\"row_heading level0 row11\" >11</th>\n",
              "      <td id=\"T_d18c3_row11_col0\" class=\"data row11 col0\" >Categorical imputation</td>\n",
              "      <td id=\"T_d18c3_row11_col1\" class=\"data row11 col1\" >mode</td>\n",
              "    </tr>\n",
              "    <tr>\n",
              "      <th id=\"T_d18c3_level0_row12\" class=\"row_heading level0 row12\" >12</th>\n",
              "      <td id=\"T_d18c3_row12_col0\" class=\"data row12 col0\" >Fold Generator</td>\n",
              "      <td id=\"T_d18c3_row12_col1\" class=\"data row12 col1\" >StratifiedKFold</td>\n",
              "    </tr>\n",
              "    <tr>\n",
              "      <th id=\"T_d18c3_level0_row13\" class=\"row_heading level0 row13\" >13</th>\n",
              "      <td id=\"T_d18c3_row13_col0\" class=\"data row13 col0\" >Fold Number</td>\n",
              "      <td id=\"T_d18c3_row13_col1\" class=\"data row13 col1\" >10</td>\n",
              "    </tr>\n",
              "    <tr>\n",
              "      <th id=\"T_d18c3_level0_row14\" class=\"row_heading level0 row14\" >14</th>\n",
              "      <td id=\"T_d18c3_row14_col0\" class=\"data row14 col0\" >CPU Jobs</td>\n",
              "      <td id=\"T_d18c3_row14_col1\" class=\"data row14 col1\" >-1</td>\n",
              "    </tr>\n",
              "    <tr>\n",
              "      <th id=\"T_d18c3_level0_row15\" class=\"row_heading level0 row15\" >15</th>\n",
              "      <td id=\"T_d18c3_row15_col0\" class=\"data row15 col0\" >Use GPU</td>\n",
              "      <td id=\"T_d18c3_row15_col1\" class=\"data row15 col1\" >False</td>\n",
              "    </tr>\n",
              "    <tr>\n",
              "      <th id=\"T_d18c3_level0_row16\" class=\"row_heading level0 row16\" >16</th>\n",
              "      <td id=\"T_d18c3_row16_col0\" class=\"data row16 col0\" >Log Experiment</td>\n",
              "      <td id=\"T_d18c3_row16_col1\" class=\"data row16 col1\" >False</td>\n",
              "    </tr>\n",
              "    <tr>\n",
              "      <th id=\"T_d18c3_level0_row17\" class=\"row_heading level0 row17\" >17</th>\n",
              "      <td id=\"T_d18c3_row17_col0\" class=\"data row17 col0\" >Experiment Name</td>\n",
              "      <td id=\"T_d18c3_row17_col1\" class=\"data row17 col1\" >clf-default-name</td>\n",
              "    </tr>\n",
              "    <tr>\n",
              "      <th id=\"T_d18c3_level0_row18\" class=\"row_heading level0 row18\" >18</th>\n",
              "      <td id=\"T_d18c3_row18_col0\" class=\"data row18 col0\" >USI</td>\n",
              "      <td id=\"T_d18c3_row18_col1\" class=\"data row18 col1\" >ec66</td>\n",
              "    </tr>\n",
              "  </tbody>\n",
              "</table>\n"
            ]
          },
          "metadata": {}
        }
      ]
    },
    {
      "cell_type": "code",
      "source": [
        "# <> ------------------------------------------------------\n",
        "# <> Criando o modelo 'dt': Decision Tree\n",
        "dt_model = create_model('dt', max_depth = 3, min_samples_split = 2, cross_validation = False)"
      ],
      "metadata": {
        "colab": {
          "base_uri": "https://localhost:8080/",
          "height": 81,
          "referenced_widgets": [
            "4ea80f8403554f83aeae42d48d438bef",
            "73c4fb51d00c452da86248e523f833a0",
            "bbae2a60c63442668c8725fe5ad61019",
            "c65d43601ecc420f92174aba1133270c",
            "9c030dd41baf422eacd3864917e86274",
            "5c0c7bf91a0c4d4185cfa627bf822603",
            "c274d6c51dcc4eabbca94355f3f84ad9",
            "465bbf702e7847789396c2e33c002a4f",
            "964ab33d9c9e4971aa3d75ab8d1c0e20",
            "bdcce3f26c0247cb9860752a32d6d3f7",
            "ddd370abddd840418c1e0077700da8d9"
          ]
        },
        "id": "jO7fRRlppbm0",
        "outputId": "95cdd5e9-8f7f-4cd7-ba43-87da381c9f3b"
      },
      "execution_count": 21,
      "outputs": [
        {
          "output_type": "display_data",
          "data": {
            "text/plain": [
              "<IPython.core.display.HTML object>"
            ],
            "text/html": []
          },
          "metadata": {}
        },
        {
          "output_type": "display_data",
          "data": {
            "text/plain": [
              "<pandas.io.formats.style.Styler at 0x7897c7de1cf0>"
            ],
            "text/html": [
              "<style type=\"text/css\">\n",
              "</style>\n",
              "<table id=\"T_75a5a\" class=\"dataframe\">\n",
              "  <thead>\n",
              "    <tr>\n",
              "      <th class=\"blank level0\" >&nbsp;</th>\n",
              "      <th id=\"T_75a5a_level0_col0\" class=\"col_heading level0 col0\" >Accuracy</th>\n",
              "      <th id=\"T_75a5a_level0_col1\" class=\"col_heading level0 col1\" >AUC</th>\n",
              "      <th id=\"T_75a5a_level0_col2\" class=\"col_heading level0 col2\" >Recall</th>\n",
              "      <th id=\"T_75a5a_level0_col3\" class=\"col_heading level0 col3\" >Prec.</th>\n",
              "      <th id=\"T_75a5a_level0_col4\" class=\"col_heading level0 col4\" >F1</th>\n",
              "      <th id=\"T_75a5a_level0_col5\" class=\"col_heading level0 col5\" >Kappa</th>\n",
              "      <th id=\"T_75a5a_level0_col6\" class=\"col_heading level0 col6\" >MCC</th>\n",
              "    </tr>\n",
              "  </thead>\n",
              "  <tbody>\n",
              "    <tr>\n",
              "      <th id=\"T_75a5a_level0_row0\" class=\"row_heading level0 row0\" >Test</th>\n",
              "      <td id=\"T_75a5a_row0_col0\" class=\"data row0 col0\" >0.7564</td>\n",
              "      <td id=\"T_75a5a_row0_col1\" class=\"data row0 col1\" >0.8318</td>\n",
              "      <td id=\"T_75a5a_row0_col2\" class=\"data row0 col2\" >0.8551</td>\n",
              "      <td id=\"T_75a5a_row0_col3\" class=\"data row0 col3\" >0.7160</td>\n",
              "      <td id=\"T_75a5a_row0_col4\" class=\"data row0 col4\" >0.7794</td>\n",
              "      <td id=\"T_75a5a_row0_col5\" class=\"data row0 col5\" >0.5121</td>\n",
              "      <td id=\"T_75a5a_row0_col6\" class=\"data row0 col6\" >0.5222</td>\n",
              "    </tr>\n",
              "  </tbody>\n",
              "</table>\n"
            ]
          },
          "metadata": {}
        },
        {
          "output_type": "display_data",
          "data": {
            "text/plain": [
              "Processing:   0%|          | 0/4 [00:00<?, ?it/s]"
            ],
            "application/vnd.jupyter.widget-view+json": {
              "version_major": 2,
              "version_minor": 0,
              "model_id": "4ea80f8403554f83aeae42d48d438bef"
            }
          },
          "metadata": {
            "application/vnd.jupyter.widget-view+json": {
              "colab": {
                "custom_widget_manager": {
                  "url": "https://ssl.gstatic.com/colaboratory-static/widgets/colab-cdn-widget-manager/2b70e893a8ba7c0f/manager.min.js"
                }
              }
            }
          }
        },
        {
          "output_type": "display_data",
          "data": {
            "text/plain": [
              "<IPython.core.display.HTML object>"
            ],
            "text/html": []
          },
          "metadata": {}
        }
      ]
    },
    {
      "cell_type": "code",
      "source": [
        "# <> -----------------------------\n",
        "# <> Visualizando o modelo\n",
        "print(dt_model)"
      ],
      "metadata": {
        "id": "ay0KLur4pdEi",
        "colab": {
          "base_uri": "https://localhost:8080/"
        },
        "outputId": "eccda876-b1b0-47c9-c10c-c2dc43e7f92e"
      },
      "execution_count": 22,
      "outputs": [
        {
          "output_type": "stream",
          "name": "stdout",
          "text": [
            "DecisionTreeClassifier(ccp_alpha=0.0, class_weight=None, criterion='gini',\n",
            "                       max_depth=3, max_features=None, max_leaf_nodes=None,\n",
            "                       min_impurity_decrease=0.0, min_samples_leaf=1,\n",
            "                       min_samples_split=2, min_weight_fraction_leaf=0.0,\n",
            "                       monotonic_cst=None, random_state=123, splitter='best')\n"
          ]
        }
      ]
    },
    {
      "cell_type": "code",
      "source": [
        "# <> -----------------------------------\n",
        "# <> Fazendo predição do modelo\n",
        "rt_testing_pred = predict_model(dt_model, data = df_test)"
      ],
      "metadata": {
        "colab": {
          "base_uri": "https://localhost:8080/",
          "height": 81
        },
        "id": "-k_164oR7drX",
        "outputId": "99c87c7f-378c-4948-f702-834dec8bfc89"
      },
      "execution_count": 23,
      "outputs": [
        {
          "output_type": "display_data",
          "data": {
            "text/plain": [
              "<pandas.io.formats.style.Styler at 0x789830f2ba90>"
            ],
            "text/html": [
              "<style type=\"text/css\">\n",
              "</style>\n",
              "<table id=\"T_59ee7\" class=\"dataframe\">\n",
              "  <thead>\n",
              "    <tr>\n",
              "      <th class=\"blank level0\" >&nbsp;</th>\n",
              "      <th id=\"T_59ee7_level0_col0\" class=\"col_heading level0 col0\" >Model</th>\n",
              "      <th id=\"T_59ee7_level0_col1\" class=\"col_heading level0 col1\" >Accuracy</th>\n",
              "      <th id=\"T_59ee7_level0_col2\" class=\"col_heading level0 col2\" >AUC</th>\n",
              "      <th id=\"T_59ee7_level0_col3\" class=\"col_heading level0 col3\" >Recall</th>\n",
              "      <th id=\"T_59ee7_level0_col4\" class=\"col_heading level0 col4\" >Prec.</th>\n",
              "      <th id=\"T_59ee7_level0_col5\" class=\"col_heading level0 col5\" >F1</th>\n",
              "      <th id=\"T_59ee7_level0_col6\" class=\"col_heading level0 col6\" >Kappa</th>\n",
              "      <th id=\"T_59ee7_level0_col7\" class=\"col_heading level0 col7\" >MCC</th>\n",
              "    </tr>\n",
              "  </thead>\n",
              "  <tbody>\n",
              "    <tr>\n",
              "      <th id=\"T_59ee7_level0_row0\" class=\"row_heading level0 row0\" >0</th>\n",
              "      <td id=\"T_59ee7_row0_col0\" class=\"data row0 col0\" >Decision Tree Classifier</td>\n",
              "      <td id=\"T_59ee7_row0_col1\" class=\"data row0 col1\" >0.7564</td>\n",
              "      <td id=\"T_59ee7_row0_col2\" class=\"data row0 col2\" >0.8318</td>\n",
              "      <td id=\"T_59ee7_row0_col3\" class=\"data row0 col3\" >0.8551</td>\n",
              "      <td id=\"T_59ee7_row0_col4\" class=\"data row0 col4\" >0.7160</td>\n",
              "      <td id=\"T_59ee7_row0_col5\" class=\"data row0 col5\" >0.7794</td>\n",
              "      <td id=\"T_59ee7_row0_col6\" class=\"data row0 col6\" >0.5121</td>\n",
              "      <td id=\"T_59ee7_row0_col7\" class=\"data row0 col7\" >0.5222</td>\n",
              "    </tr>\n",
              "  </tbody>\n",
              "</table>\n"
            ]
          },
          "metadata": {}
        }
      ]
    },
    {
      "cell_type": "code",
      "source": [
        "# <> -------------------------------------------\n",
        "# <> Visualizando em forma de Gráfico\n",
        "plot_model(dt_model, plot = 'boundary')"
      ],
      "metadata": {
        "colab": {
          "base_uri": "https://localhost:8080/",
          "height": 503
        },
        "id": "_-LwWHuy7dVT",
        "outputId": "e69449c3-ae90-400b-ce78-58b2c3b44ffe"
      },
      "execution_count": 24,
      "outputs": [
        {
          "output_type": "display_data",
          "data": {
            "text/plain": [
              "<IPython.core.display.HTML object>"
            ],
            "text/html": []
          },
          "metadata": {}
        },
        {
          "output_type": "display_data",
          "data": {
            "text/plain": [
              "<Figure size 800x550 with 1 Axes>"
            ],
            "image/png": "[encoded data removed]"
          },
          "metadata": {}
        }
      ]
    },
    {
      "cell_type": "code",
      "source": [
        "# <> -------------------------------------------\n",
        "# <> Visualizando em forma de Gráfico\n",
        "# <> as variáveis mais importantes\n",
        "plot_model(dt_model, plot = 'feature')"
      ],
      "metadata": {
        "colab": {
          "base_uri": "https://localhost:8080/",
          "height": 485
        },
        "id": "CgdnX5NL7k26",
        "outputId": "8f6d707d-d0b8-4838-ef96-af84b4ca76b8"
      },
      "execution_count": 25,
      "outputs": [
        {
          "output_type": "display_data",
          "data": {
            "text/plain": [
              "<IPython.core.display.HTML object>"
            ],
            "text/html": []
          },
          "metadata": {}
        },
        {
          "output_type": "display_data",
          "data": {
            "text/plain": [
              "<Figure size 800x500 with 1 Axes>"
            ],
            "image/png": "[encoded data removed]"
          },
          "metadata": {}
        }
      ]
    },
    {
      "cell_type": "code",
      "source": [
        "# <> -------------------------------------------\n",
        "# <> Visualizando em forma de Gráfico\n",
        "plot_model(dt_model, plot = 'learning')"
      ],
      "metadata": {
        "colab": {
          "base_uri": "https://localhost:8080/",
          "height": 524
        },
        "id": "05eUld849r1L",
        "outputId": "19bbbb87-6b90-4302-d396-08707fa8d781"
      },
      "execution_count": 26,
      "outputs": [
        {
          "output_type": "display_data",
          "data": {
            "text/plain": [
              "<IPython.core.display.HTML object>"
            ],
            "text/html": []
          },
          "metadata": {}
        },
        {
          "output_type": "display_data",
          "data": {
            "text/plain": [
              "<Figure size 800x550 with 1 Axes>"
            ],
            "image/png": "[encoded data removed]"
          },
          "metadata": {}
        }
      ]
    },
    {
      "cell_type": "code",
      "source": [
        "# <> -------------------------------------------\n",
        "# <> Visualizando a estrutura da Árvore\n",
        "estrutura_DT = export_text(dt_model)\n",
        "print(estrutura_DT)"
      ],
      "metadata": {
        "colab": {
          "base_uri": "https://localhost:8080/"
        },
        "id": "a71t3W4b7kFy",
        "outputId": "18917699-433c-40df-e6d6-e2d6847f8d68"
      },
      "execution_count": 27,
      "outputs": [
        {
          "output_type": "stream",
          "name": "stdout",
          "text": [
            "|--- feature_0 <= 0.31\n",
            "|   |--- feature_0 <= 0.11\n",
            "|   |   |--- feature_6 <= 0.50\n",
            "|   |   |   |--- class: 0\n",
            "|   |   |--- feature_6 >  0.50\n",
            "|   |   |   |--- class: 1\n",
            "|   |--- feature_0 >  0.11\n",
            "|   |   |--- feature_9 <= 0.00\n",
            "|   |   |   |--- class: 0\n",
            "|   |   |--- feature_9 >  0.00\n",
            "|   |   |   |--- class: 0\n",
            "|--- feature_0 >  0.31\n",
            "|   |--- feature_6 <= 0.50\n",
            "|   |   |--- feature_9 <= 0.00\n",
            "|   |   |   |--- class: 1\n",
            "|   |   |--- feature_9 >  0.00\n",
            "|   |   |   |--- class: 1\n",
            "|   |--- feature_6 >  0.50\n",
            "|   |   |--- feature_9 <= 0.00\n",
            "|   |   |   |--- class: 1\n",
            "|   |   |--- feature_9 >  0.00\n",
            "|   |   |   |--- class: 1\n",
            "\n"
          ]
        }
      ]
    },
    {
      "cell_type": "code",
      "source": [
        "# <> -------------------------------------------\n",
        "# <> Plotar a árvore de decisão\n",
        "plt.figure(figsize=(10,10))\n",
        "plot_tree(dt_model, filled=True, feature_names=df_train.columns,\n",
        "          class_names=['Classe 1', 'Classe 2'])  # Ajuste os nomes das classes conforme necessário\n",
        "plt.show()"
      ],
      "metadata": {
        "colab": {
          "base_uri": "https://localhost:8080/",
          "height": 807
        },
        "id": "db7FMw-l8i-U",
        "outputId": "139b995a-0248-4706-a83a-24398a6c5023"
      },
      "execution_count": 28,
      "outputs": [
        {
          "output_type": "display_data",
          "data": {
            "text/plain": [
              "<Figure size 1000x1000 with 1 Axes>"
            ],
            "image/png": "[encoded data removed]"
          },
          "metadata": {}
        }
      ]
    },
    {
      "cell_type": "code",
      "source": [
        "# <> -----------------------------------\n",
        "# <> Fazendo predição do modelo\n",
        "dt_testing_pred = predict_model(dt_model, data = df_test)"
      ],
      "metadata": {
        "colab": {
          "base_uri": "https://localhost:8080/",
          "height": 81
        },
        "id": "wNWk82NB8i6T",
        "outputId": "d55a4042-cfb2-4386-99b9-5fc49f74aac9"
      },
      "execution_count": 29,
      "outputs": [
        {
          "output_type": "display_data",
          "data": {
            "text/plain": [
              "<pandas.io.formats.style.Styler at 0x7897cf302620>"
            ],
            "text/html": [
              "<style type=\"text/css\">\n",
              "</style>\n",
              "<table id=\"T_ca7a4\" class=\"dataframe\">\n",
              "  <thead>\n",
              "    <tr>\n",
              "      <th class=\"blank level0\" >&nbsp;</th>\n",
              "      <th id=\"T_ca7a4_level0_col0\" class=\"col_heading level0 col0\" >Model</th>\n",
              "      <th id=\"T_ca7a4_level0_col1\" class=\"col_heading level0 col1\" >Accuracy</th>\n",
              "      <th id=\"T_ca7a4_level0_col2\" class=\"col_heading level0 col2\" >AUC</th>\n",
              "      <th id=\"T_ca7a4_level0_col3\" class=\"col_heading level0 col3\" >Recall</th>\n",
              "      <th id=\"T_ca7a4_level0_col4\" class=\"col_heading level0 col4\" >Prec.</th>\n",
              "      <th id=\"T_ca7a4_level0_col5\" class=\"col_heading level0 col5\" >F1</th>\n",
              "      <th id=\"T_ca7a4_level0_col6\" class=\"col_heading level0 col6\" >Kappa</th>\n",
              "      <th id=\"T_ca7a4_level0_col7\" class=\"col_heading level0 col7\" >MCC</th>\n",
              "    </tr>\n",
              "  </thead>\n",
              "  <tbody>\n",
              "    <tr>\n",
              "      <th id=\"T_ca7a4_level0_row0\" class=\"row_heading level0 row0\" >0</th>\n",
              "      <td id=\"T_ca7a4_row0_col0\" class=\"data row0 col0\" >Decision Tree Classifier</td>\n",
              "      <td id=\"T_ca7a4_row0_col1\" class=\"data row0 col1\" >0.7564</td>\n",
              "      <td id=\"T_ca7a4_row0_col2\" class=\"data row0 col2\" >0.8318</td>\n",
              "      <td id=\"T_ca7a4_row0_col3\" class=\"data row0 col3\" >0.8551</td>\n",
              "      <td id=\"T_ca7a4_row0_col4\" class=\"data row0 col4\" >0.7160</td>\n",
              "      <td id=\"T_ca7a4_row0_col5\" class=\"data row0 col5\" >0.7794</td>\n",
              "      <td id=\"T_ca7a4_row0_col6\" class=\"data row0 col6\" >0.5121</td>\n",
              "      <td id=\"T_ca7a4_row0_col7\" class=\"data row0 col7\" >0.5222</td>\n",
              "    </tr>\n",
              "  </tbody>\n",
              "</table>\n"
            ]
          },
          "metadata": {}
        }
      ]
    },
    {
      "cell_type": "code",
      "source": [
        "# Supondo que 'true_labels' seja a coluna de rótulos verdadeiros e 'predicted_labels' a coluna de rótulos previstos\n",
        "true_labels = dt_testing_pred['inadimplente']\n",
        "predicted_labels = dt_testing_pred['prediction_label']\n",
        "\n",
        "# Calcular a matriz de confusão\n",
        "conf_matrix = confusion_matrix(true_labels, predicted_labels)\n",
        "\n",
        "# Plotar a matriz de confusão\n",
        "plt.figure(figsize=(10,7))\n",
        "sns.heatmap(conf_matrix, annot=True, fmt='d', cmap='Blues')\n",
        "plt.xlabel('Predicted Labels')\n",
        "plt.ylabel('True Labels')\n",
        "plt.title('Confusion Matrix')\n",
        "plt.show()\n",
        "\n",
        "# Calcular acurácia\n",
        "accuracy = accuracy_score(true_labels, predicted_labels)\n",
        "\n",
        "# Calcular coeficiente Kappa\n",
        "kappa = cohen_kappa_score(true_labels, predicted_labels)\n",
        "\n",
        "# Gerar relatório de classificação\n",
        "classification_rep = classification_report(true_labels, predicted_labels)\n",
        "\n",
        "# Exibir as métricas\n",
        "print(f'Accuracy: {accuracy}')\n",
        "print(f'Kappa: {kappa}')\n",
        "print('Classification Report:')\n",
        "print(classification_rep)"
      ],
      "metadata": {
        "colab": {
          "base_uri": "https://localhost:8080/",
          "height": 847
        },
        "id": "rXi5bdUw8ivx",
        "outputId": "b0b8c3c9-bf88-4454-fefd-75c3be5793f8"
      },
      "execution_count": 30,
      "outputs": [
        {
          "output_type": "display_data",
          "data": {
            "text/plain": [
              "<Figure size 1000x700 with 2 Axes>"
            ],
            "image/png": "[encoded data removed]"
          },
          "metadata": {}
        },
        {
          "output_type": "stream",
          "name": "stdout",
          "text": [
            "Accuracy: 0.7563692813441695\n",
            "Kappa: 0.5120871061580269\n",
            "Classification Report:\n",
            "              precision    recall  f1-score   support\n",
            "\n",
            "           0       0.82      0.66      0.73     16318\n",
            "           1       0.72      0.86      0.78     16535\n",
            "\n",
            "    accuracy                           0.76     32853\n",
            "   macro avg       0.77      0.76      0.75     32853\n",
            "weighted avg       0.77      0.76      0.75     32853\n",
            "\n"
          ]
        }
      ]
    },
    {
      "cell_type": "markdown",
      "source": [
        "### **Random Forest**"
      ],
      "metadata": {
        "id": "rxoum1ldpomL"
      }
    },
    {
      "cell_type": "code",
      "source": [
        "# <> ------------------------------------------------------\n",
        "# <> Configurar o ambiente PyCaret com dados de treino e teste informados manualmente\n",
        "cdt = setup(data = df_train,\n",
        "            target = 'inadimplente', # Nome da coluna de classes\n",
        "            test_data = df_test,\n",
        "            #session_id = 123, # session_id para reprodutibilidade\n",
        "            index = False)"
      ],
      "metadata": {
        "colab": {
          "base_uri": "https://localhost:8080/",
          "height": 645
        },
        "id": "dWqqKljs-0Yy",
        "outputId": "94d30f7b-486f-424b-9468-af6806c79ef0"
      },
      "execution_count": 31,
      "outputs": [
        {
          "output_type": "display_data",
          "data": {
            "text/plain": [
              "<pandas.io.formats.style.Styler at 0x7897c75ab9d0>"
            ],
            "text/html": [
              "<style type=\"text/css\">\n",
              "#T_c9b47_row8_col1 {\n",
              "  background-color: lightgreen;\n",
              "}\n",
              "</style>\n",
              "<table id=\"T_c9b47\" class=\"dataframe\">\n",
              "  <thead>\n",
              "    <tr>\n",
              "      <th class=\"blank level0\" >&nbsp;</th>\n",
              "      <th id=\"T_c9b47_level0_col0\" class=\"col_heading level0 col0\" >Description</th>\n",
              "      <th id=\"T_c9b47_level0_col1\" class=\"col_heading level0 col1\" >Value</th>\n",
              "    </tr>\n",
              "  </thead>\n",
              "  <tbody>\n",
              "    <tr>\n",
              "      <th id=\"T_c9b47_level0_row0\" class=\"row_heading level0 row0\" >0</th>\n",
              "      <td id=\"T_c9b47_row0_col0\" class=\"data row0 col0\" >Session id</td>\n",
              "      <td id=\"T_c9b47_row0_col1\" class=\"data row0 col1\" >7637</td>\n",
              "    </tr>\n",
              "    <tr>\n",
              "      <th id=\"T_c9b47_level0_row1\" class=\"row_heading level0 row1\" >1</th>\n",
              "      <td id=\"T_c9b47_row1_col0\" class=\"data row1 col0\" >Target</td>\n",
              "      <td id=\"T_c9b47_row1_col1\" class=\"data row1 col1\" >inadimplente</td>\n",
              "    </tr>\n",
              "    <tr>\n",
              "      <th id=\"T_c9b47_level0_row2\" class=\"row_heading level0 row2\" >2</th>\n",
              "      <td id=\"T_c9b47_row2_col0\" class=\"data row2 col0\" >Target type</td>\n",
              "      <td id=\"T_c9b47_row2_col1\" class=\"data row2 col1\" >Binary</td>\n",
              "    </tr>\n",
              "    <tr>\n",
              "      <th id=\"T_c9b47_level0_row3\" class=\"row_heading level0 row3\" >3</th>\n",
              "      <td id=\"T_c9b47_row3_col0\" class=\"data row3 col0\" >Original data shape</td>\n",
              "      <td id=\"T_c9b47_row3_col1\" class=\"data row3 col1\" >(164264, 11)</td>\n",
              "    </tr>\n",
              "    <tr>\n",
              "      <th id=\"T_c9b47_level0_row4\" class=\"row_heading level0 row4\" >4</th>\n",
              "      <td id=\"T_c9b47_row4_col0\" class=\"data row4 col0\" >Transformed data shape</td>\n",
              "      <td id=\"T_c9b47_row4_col1\" class=\"data row4 col1\" >(164264, 11)</td>\n",
              "    </tr>\n",
              "    <tr>\n",
              "      <th id=\"T_c9b47_level0_row5\" class=\"row_heading level0 row5\" >5</th>\n",
              "      <td id=\"T_c9b47_row5_col0\" class=\"data row5 col0\" >Transformed train set shape</td>\n",
              "      <td id=\"T_c9b47_row5_col1\" class=\"data row5 col1\" >(131411, 11)</td>\n",
              "    </tr>\n",
              "    <tr>\n",
              "      <th id=\"T_c9b47_level0_row6\" class=\"row_heading level0 row6\" >6</th>\n",
              "      <td id=\"T_c9b47_row6_col0\" class=\"data row6 col0\" >Transformed test set shape</td>\n",
              "      <td id=\"T_c9b47_row6_col1\" class=\"data row6 col1\" >(32853, 11)</td>\n",
              "    </tr>\n",
              "    <tr>\n",
              "      <th id=\"T_c9b47_level0_row7\" class=\"row_heading level0 row7\" >7</th>\n",
              "      <td id=\"T_c9b47_row7_col0\" class=\"data row7 col0\" >Numeric features</td>\n",
              "      <td id=\"T_c9b47_row7_col1\" class=\"data row7 col1\" >10</td>\n",
              "    </tr>\n",
              "    <tr>\n",
              "      <th id=\"T_c9b47_level0_row8\" class=\"row_heading level0 row8\" >8</th>\n",
              "      <td id=\"T_c9b47_row8_col0\" class=\"data row8 col0\" >Preprocess</td>\n",
              "      <td id=\"T_c9b47_row8_col1\" class=\"data row8 col1\" >True</td>\n",
              "    </tr>\n",
              "    <tr>\n",
              "      <th id=\"T_c9b47_level0_row9\" class=\"row_heading level0 row9\" >9</th>\n",
              "      <td id=\"T_c9b47_row9_col0\" class=\"data row9 col0\" >Imputation type</td>\n",
              "      <td id=\"T_c9b47_row9_col1\" class=\"data row9 col1\" >simple</td>\n",
              "    </tr>\n",
              "    <tr>\n",
              "      <th id=\"T_c9b47_level0_row10\" class=\"row_heading level0 row10\" >10</th>\n",
              "      <td id=\"T_c9b47_row10_col0\" class=\"data row10 col0\" >Numeric imputation</td>\n",
              "      <td id=\"T_c9b47_row10_col1\" class=\"data row10 col1\" >mean</td>\n",
              "    </tr>\n",
              "    <tr>\n",
              "      <th id=\"T_c9b47_level0_row11\" class=\"row_heading level0 row11\" >11</th>\n",
              "      <td id=\"T_c9b47_row11_col0\" class=\"data row11 col0\" >Categorical imputation</td>\n",
              "      <td id=\"T_c9b47_row11_col1\" class=\"data row11 col1\" >mode</td>\n",
              "    </tr>\n",
              "    <tr>\n",
              "      <th id=\"T_c9b47_level0_row12\" class=\"row_heading level0 row12\" >12</th>\n",
              "      <td id=\"T_c9b47_row12_col0\" class=\"data row12 col0\" >Fold Generator</td>\n",
              "      <td id=\"T_c9b47_row12_col1\" class=\"data row12 col1\" >StratifiedKFold</td>\n",
              "    </tr>\n",
              "    <tr>\n",
              "      <th id=\"T_c9b47_level0_row13\" class=\"row_heading level0 row13\" >13</th>\n",
              "      <td id=\"T_c9b47_row13_col0\" class=\"data row13 col0\" >Fold Number</td>\n",
              "      <td id=\"T_c9b47_row13_col1\" class=\"data row13 col1\" >10</td>\n",
              "    </tr>\n",
              "    <tr>\n",
              "      <th id=\"T_c9b47_level0_row14\" class=\"row_heading level0 row14\" >14</th>\n",
              "      <td id=\"T_c9b47_row14_col0\" class=\"data row14 col0\" >CPU Jobs</td>\n",
              "      <td id=\"T_c9b47_row14_col1\" class=\"data row14 col1\" >-1</td>\n",
              "    </tr>\n",
              "    <tr>\n",
              "      <th id=\"T_c9b47_level0_row15\" class=\"row_heading level0 row15\" >15</th>\n",
              "      <td id=\"T_c9b47_row15_col0\" class=\"data row15 col0\" >Use GPU</td>\n",
              "      <td id=\"T_c9b47_row15_col1\" class=\"data row15 col1\" >False</td>\n",
              "    </tr>\n",
              "    <tr>\n",
              "      <th id=\"T_c9b47_level0_row16\" class=\"row_heading level0 row16\" >16</th>\n",
              "      <td id=\"T_c9b47_row16_col0\" class=\"data row16 col0\" >Log Experiment</td>\n",
              "      <td id=\"T_c9b47_row16_col1\" class=\"data row16 col1\" >False</td>\n",
              "    </tr>\n",
              "    <tr>\n",
              "      <th id=\"T_c9b47_level0_row17\" class=\"row_heading level0 row17\" >17</th>\n",
              "      <td id=\"T_c9b47_row17_col0\" class=\"data row17 col0\" >Experiment Name</td>\n",
              "      <td id=\"T_c9b47_row17_col1\" class=\"data row17 col1\" >clf-default-name</td>\n",
              "    </tr>\n",
              "    <tr>\n",
              "      <th id=\"T_c9b47_level0_row18\" class=\"row_heading level0 row18\" >18</th>\n",
              "      <td id=\"T_c9b47_row18_col0\" class=\"data row18 col0\" >USI</td>\n",
              "      <td id=\"T_c9b47_row18_col1\" class=\"data row18 col1\" >d07c</td>\n",
              "    </tr>\n",
              "  </tbody>\n",
              "</table>\n"
            ]
          },
          "metadata": {}
        }
      ]
    },
    {
      "cell_type": "code",
      "source": [
        "rf_model = create_model('rf', n_estimators = 100, max_depth = 3, min_samples_split = 2, fold = 5)"
      ],
      "metadata": {
        "id": "qkG1GVhJpn3I",
        "colab": {
          "base_uri": "https://localhost:8080/",
          "height": 300,
          "referenced_widgets": [
            "b4dfe0da0bf1471891c11368fbb22197",
            "1e51542869a44f77979e9d2ab7b95a64",
            "9ecdedc6b0fe454d915368f236df901a",
            "3a09c946309243938a962977c903e1db",
            "a13e0a04bd614f029ab0ab6b40916fbc",
            "1bb62181eaff4faa9d0deffdd0f13e98",
            "4e2919f4af58497ca8d9a4aceca9bd1e",
            "b46cf36fc69d4f58adc94dbd15be6cc6",
            "cd630c1c9b0d4aeda9c94f7e960031d4",
            "f3f6cc9204cb449aa21b5eb9e3c344d6",
            "02693efa23014e1c90908a8b02b21b2e"
          ]
        },
        "outputId": "ad64c116-a6b3-4642-8f4c-242ebaa29150"
      },
      "execution_count": 32,
      "outputs": [
        {
          "output_type": "display_data",
          "data": {
            "text/plain": [
              "<IPython.core.display.HTML object>"
            ],
            "text/html": []
          },
          "metadata": {}
        },
        {
          "output_type": "display_data",
          "data": {
            "text/plain": [
              "<pandas.io.formats.style.Styler at 0x7897c7de3b80>"
            ],
            "text/html": [
              "<style type=\"text/css\">\n",
              "#T_a6583_row5_col0, #T_a6583_row5_col1, #T_a6583_row5_col2, #T_a6583_row5_col3, #T_a6583_row5_col4, #T_a6583_row5_col5, #T_a6583_row5_col6 {\n",
              "  background: yellow;\n",
              "}\n",
              "</style>\n",
              "<table id=\"T_a6583\" class=\"dataframe\">\n",
              "  <thead>\n",
              "    <tr>\n",
              "      <th class=\"blank level0\" >&nbsp;</th>\n",
              "      <th id=\"T_a6583_level0_col0\" class=\"col_heading level0 col0\" >Accuracy</th>\n",
              "      <th id=\"T_a6583_level0_col1\" class=\"col_heading level0 col1\" >AUC</th>\n",
              "      <th id=\"T_a6583_level0_col2\" class=\"col_heading level0 col2\" >Recall</th>\n",
              "      <th id=\"T_a6583_level0_col3\" class=\"col_heading level0 col3\" >Prec.</th>\n",
              "      <th id=\"T_a6583_level0_col4\" class=\"col_heading level0 col4\" >F1</th>\n",
              "      <th id=\"T_a6583_level0_col5\" class=\"col_heading level0 col5\" >Kappa</th>\n",
              "      <th id=\"T_a6583_level0_col6\" class=\"col_heading level0 col6\" >MCC</th>\n",
              "    </tr>\n",
              "    <tr>\n",
              "      <th class=\"index_name level0\" >Fold</th>\n",
              "      <th class=\"blank col0\" >&nbsp;</th>\n",
              "      <th class=\"blank col1\" >&nbsp;</th>\n",
              "      <th class=\"blank col2\" >&nbsp;</th>\n",
              "      <th class=\"blank col3\" >&nbsp;</th>\n",
              "      <th class=\"blank col4\" >&nbsp;</th>\n",
              "      <th class=\"blank col5\" >&nbsp;</th>\n",
              "      <th class=\"blank col6\" >&nbsp;</th>\n",
              "    </tr>\n",
              "  </thead>\n",
              "  <tbody>\n",
              "    <tr>\n",
              "      <th id=\"T_a6583_level0_row0\" class=\"row_heading level0 row0\" >0</th>\n",
              "      <td id=\"T_a6583_row0_col0\" class=\"data row0 col0\" >0.7789</td>\n",
              "      <td id=\"T_a6583_row0_col1\" class=\"data row0 col1\" >0.8687</td>\n",
              "      <td id=\"T_a6583_row0_col2\" class=\"data row0 col2\" >0.7836</td>\n",
              "      <td id=\"T_a6583_row0_col3\" class=\"data row0 col3\" >0.7757</td>\n",
              "      <td id=\"T_a6583_row0_col4\" class=\"data row0 col4\" >0.7796</td>\n",
              "      <td id=\"T_a6583_row0_col5\" class=\"data row0 col5\" >0.5577</td>\n",
              "      <td id=\"T_a6583_row0_col6\" class=\"data row0 col6\" >0.5578</td>\n",
              "    </tr>\n",
              "    <tr>\n",
              "      <th id=\"T_a6583_level0_row1\" class=\"row_heading level0 row1\" >1</th>\n",
              "      <td id=\"T_a6583_row1_col0\" class=\"data row1 col0\" >0.7862</td>\n",
              "      <td id=\"T_a6583_row1_col1\" class=\"data row1 col1\" >0.8673</td>\n",
              "      <td id=\"T_a6583_row1_col2\" class=\"data row1 col2\" >0.8097</td>\n",
              "      <td id=\"T_a6583_row1_col3\" class=\"data row1 col3\" >0.7728</td>\n",
              "      <td id=\"T_a6583_row1_col4\" class=\"data row1 col4\" >0.7908</td>\n",
              "      <td id=\"T_a6583_row1_col5\" class=\"data row1 col5\" >0.5724</td>\n",
              "      <td id=\"T_a6583_row1_col6\" class=\"data row1 col6\" >0.5731</td>\n",
              "    </tr>\n",
              "    <tr>\n",
              "      <th id=\"T_a6583_level0_row2\" class=\"row_heading level0 row2\" >2</th>\n",
              "      <td id=\"T_a6583_row2_col0\" class=\"data row2 col0\" >0.7761</td>\n",
              "      <td id=\"T_a6583_row2_col1\" class=\"data row2 col1\" >0.8629</td>\n",
              "      <td id=\"T_a6583_row2_col2\" class=\"data row2 col2\" >0.7816</td>\n",
              "      <td id=\"T_a6583_row2_col3\" class=\"data row2 col3\" >0.7725</td>\n",
              "      <td id=\"T_a6583_row2_col4\" class=\"data row2 col4\" >0.7770</td>\n",
              "      <td id=\"T_a6583_row2_col5\" class=\"data row2 col5\" >0.5522</td>\n",
              "      <td id=\"T_a6583_row2_col6\" class=\"data row2 col6\" >0.5522</td>\n",
              "    </tr>\n",
              "    <tr>\n",
              "      <th id=\"T_a6583_level0_row3\" class=\"row_heading level0 row3\" >3</th>\n",
              "      <td id=\"T_a6583_row3_col0\" class=\"data row3 col0\" >0.7824</td>\n",
              "      <td id=\"T_a6583_row3_col1\" class=\"data row3 col1\" >0.8679</td>\n",
              "      <td id=\"T_a6583_row3_col2\" class=\"data row3 col2\" >0.7994</td>\n",
              "      <td id=\"T_a6583_row3_col3\" class=\"data row3 col3\" >0.7726</td>\n",
              "      <td id=\"T_a6583_row3_col4\" class=\"data row3 col4\" >0.7857</td>\n",
              "      <td id=\"T_a6583_row3_col5\" class=\"data row3 col5\" >0.5648</td>\n",
              "      <td id=\"T_a6583_row3_col6\" class=\"data row3 col6\" >0.5652</td>\n",
              "    </tr>\n",
              "    <tr>\n",
              "      <th id=\"T_a6583_level0_row4\" class=\"row_heading level0 row4\" >4</th>\n",
              "      <td id=\"T_a6583_row4_col0\" class=\"data row4 col0\" >0.7806</td>\n",
              "      <td id=\"T_a6583_row4_col1\" class=\"data row4 col1\" >0.8677</td>\n",
              "      <td id=\"T_a6583_row4_col2\" class=\"data row4 col2\" >0.7963</td>\n",
              "      <td id=\"T_a6583_row4_col3\" class=\"data row4 col3\" >0.7716</td>\n",
              "      <td id=\"T_a6583_row4_col4\" class=\"data row4 col4\" >0.7838</td>\n",
              "      <td id=\"T_a6583_row4_col5\" class=\"data row4 col5\" >0.5613</td>\n",
              "      <td id=\"T_a6583_row4_col6\" class=\"data row4 col6\" >0.5616</td>\n",
              "    </tr>\n",
              "    <tr>\n",
              "      <th id=\"T_a6583_level0_row5\" class=\"row_heading level0 row5\" >Mean</th>\n",
              "      <td id=\"T_a6583_row5_col0\" class=\"data row5 col0\" >0.7808</td>\n",
              "      <td id=\"T_a6583_row5_col1\" class=\"data row5 col1\" >0.8669</td>\n",
              "      <td id=\"T_a6583_row5_col2\" class=\"data row5 col2\" >0.7941</td>\n",
              "      <td id=\"T_a6583_row5_col3\" class=\"data row5 col3\" >0.7730</td>\n",
              "      <td id=\"T_a6583_row5_col4\" class=\"data row5 col4\" >0.7834</td>\n",
              "      <td id=\"T_a6583_row5_col5\" class=\"data row5 col5\" >0.5617</td>\n",
              "      <td id=\"T_a6583_row5_col6\" class=\"data row5 col6\" >0.5620</td>\n",
              "    </tr>\n",
              "    <tr>\n",
              "      <th id=\"T_a6583_level0_row6\" class=\"row_heading level0 row6\" >Std</th>\n",
              "      <td id=\"T_a6583_row6_col0\" class=\"data row6 col0\" >0.0034</td>\n",
              "      <td id=\"T_a6583_row6_col1\" class=\"data row6 col1\" >0.0020</td>\n",
              "      <td id=\"T_a6583_row6_col2\" class=\"data row6 col2\" >0.0104</td>\n",
              "      <td id=\"T_a6583_row6_col3\" class=\"data row6 col3\" >0.0014</td>\n",
              "      <td id=\"T_a6583_row6_col4\" class=\"data row6 col4\" >0.0048</td>\n",
              "      <td id=\"T_a6583_row6_col5\" class=\"data row6 col5\" >0.0068</td>\n",
              "      <td id=\"T_a6583_row6_col6\" class=\"data row6 col6\" >0.0070</td>\n",
              "    </tr>\n",
              "  </tbody>\n",
              "</table>\n"
            ]
          },
          "metadata": {}
        },
        {
          "output_type": "display_data",
          "data": {
            "text/plain": [
              "Processing:   0%|          | 0/4 [00:00<?, ?it/s]"
            ],
            "application/vnd.jupyter.widget-view+json": {
              "version_major": 2,
              "version_minor": 0,
              "model_id": "b4dfe0da0bf1471891c11368fbb22197"
            }
          },
          "metadata": {
            "application/vnd.jupyter.widget-view+json": {
              "colab": {
                "custom_widget_manager": {
                  "url": "https://ssl.gstatic.com/colaboratory-static/widgets/colab-cdn-widget-manager/2b70e893a8ba7c0f/manager.min.js"
                }
              }
            }
          }
        },
        {
          "output_type": "display_data",
          "data": {
            "text/plain": [
              "<IPython.core.display.HTML object>"
            ],
            "text/html": []
          },
          "metadata": {}
        }
      ]
    },
    {
      "cell_type": "code",
      "source": [
        "# <> -----------------------------\n",
        "# <> Visualizando o modelo\n",
        "print(rf_model)"
      ],
      "metadata": {
        "colab": {
          "base_uri": "https://localhost:8080/"
        },
        "id": "hQyL79u_-plH",
        "outputId": "a441b44c-c7e3-43c5-8a58-f0886c1ef84e"
      },
      "execution_count": 33,
      "outputs": [
        {
          "output_type": "stream",
          "name": "stdout",
          "text": [
            "RandomForestClassifier(bootstrap=True, ccp_alpha=0.0, class_weight=None,\n",
            "                       criterion='gini', max_depth=3, max_features='sqrt',\n",
            "                       max_leaf_nodes=None, max_samples=None,\n",
            "                       min_impurity_decrease=0.0, min_samples_leaf=1,\n",
            "                       min_samples_split=2, min_weight_fraction_leaf=0.0,\n",
            "                       monotonic_cst=None, n_estimators=100, n_jobs=-1,\n",
            "                       oob_score=False, random_state=7637, verbose=0,\n",
            "                       warm_start=False)\n"
          ]
        }
      ]
    },
    {
      "cell_type": "code",
      "source": [
        "# <> -----------------------------------\n",
        "# <> Fazendo predição do modelo\n",
        "rt_testing_pred = predict_model(rf_model, data = df_test)"
      ],
      "metadata": {
        "colab": {
          "base_uri": "https://localhost:8080/",
          "height": 81
        },
        "id": "YU9StDmI-pg2",
        "outputId": "4a46c8eb-3730-49a0-a44f-9af20111d0a5"
      },
      "execution_count": 34,
      "outputs": [
        {
          "output_type": "display_data",
          "data": {
            "text/plain": [
              "<pandas.io.formats.style.Styler at 0x78979ea17700>"
            ],
            "text/html": [
              "<style type=\"text/css\">\n",
              "</style>\n",
              "<table id=\"T_d5a6d\" class=\"dataframe\">\n",
              "  <thead>\n",
              "    <tr>\n",
              "      <th class=\"blank level0\" >&nbsp;</th>\n",
              "      <th id=\"T_d5a6d_level0_col0\" class=\"col_heading level0 col0\" >Model</th>\n",
              "      <th id=\"T_d5a6d_level0_col1\" class=\"col_heading level0 col1\" >Accuracy</th>\n",
              "      <th id=\"T_d5a6d_level0_col2\" class=\"col_heading level0 col2\" >AUC</th>\n",
              "      <th id=\"T_d5a6d_level0_col3\" class=\"col_heading level0 col3\" >Recall</th>\n",
              "      <th id=\"T_d5a6d_level0_col4\" class=\"col_heading level0 col4\" >Prec.</th>\n",
              "      <th id=\"T_d5a6d_level0_col5\" class=\"col_heading level0 col5\" >F1</th>\n",
              "      <th id=\"T_d5a6d_level0_col6\" class=\"col_heading level0 col6\" >Kappa</th>\n",
              "      <th id=\"T_d5a6d_level0_col7\" class=\"col_heading level0 col7\" >MCC</th>\n",
              "    </tr>\n",
              "  </thead>\n",
              "  <tbody>\n",
              "    <tr>\n",
              "      <th id=\"T_d5a6d_level0_row0\" class=\"row_heading level0 row0\" >0</th>\n",
              "      <td id=\"T_d5a6d_row0_col0\" class=\"data row0 col0\" >Random Forest Classifier</td>\n",
              "      <td id=\"T_d5a6d_row0_col1\" class=\"data row0 col1\" >0.7832</td>\n",
              "      <td id=\"T_d5a6d_row0_col2\" class=\"data row0 col2\" >0.8682</td>\n",
              "      <td id=\"T_d5a6d_row0_col3\" class=\"data row0 col3\" >0.7942</td>\n",
              "      <td id=\"T_d5a6d_row0_col4\" class=\"data row0 col4\" >0.7793</td>\n",
              "      <td id=\"T_d5a6d_row0_col5\" class=\"data row0 col5\" >0.7867</td>\n",
              "      <td id=\"T_d5a6d_row0_col6\" class=\"data row0 col6\" >0.5663</td>\n",
              "      <td id=\"T_d5a6d_row0_col7\" class=\"data row0 col7\" >0.5664</td>\n",
              "    </tr>\n",
              "  </tbody>\n",
              "</table>\n"
            ]
          },
          "metadata": {}
        }
      ]
    },
    {
      "cell_type": "code",
      "source": [
        "# <> -------------------------------------------\n",
        "# <> Visualizando em forma de Gráfico\n",
        "plot_model(rf_model, plot = 'boundary')"
      ],
      "metadata": {
        "colab": {
          "base_uri": "https://localhost:8080/",
          "height": 503
        },
        "id": "1xFyIrgJ-peK",
        "outputId": "13f314c8-50f0-4f4b-9bc9-7919c6a1cbef"
      },
      "execution_count": 35,
      "outputs": [
        {
          "output_type": "display_data",
          "data": {
            "text/plain": [
              "<IPython.core.display.HTML object>"
            ],
            "text/html": []
          },
          "metadata": {}
        },
        {
          "output_type": "display_data",
          "data": {
            "text/plain": [
              "<Figure size 800x550 with 1 Axes>"
            ],
            "image/png": "[encoded data removed]"
          },
          "metadata": {}
        }
      ]
    },
    {
      "cell_type": "code",
      "source": [
        "# <> -------------------------------------------\n",
        "# <> Visualizando em forma de Gráfico\n",
        "# <> as variáveis mais importantes\n",
        "plot_model(rf_model, plot = 'feature')"
      ],
      "metadata": {
        "colab": {
          "base_uri": "https://localhost:8080/",
          "height": 485
        },
        "id": "DS8_vyYR-pbq",
        "outputId": "d25f812c-ed20-4506-d455-f3317e0d74db"
      },
      "execution_count": 36,
      "outputs": [
        {
          "output_type": "display_data",
          "data": {
            "text/plain": [
              "<IPython.core.display.HTML object>"
            ],
            "text/html": []
          },
          "metadata": {}
        },
        {
          "output_type": "display_data",
          "data": {
            "text/plain": [
              "<Figure size 800x500 with 1 Axes>"
            ],
            "image/png": "[encoded data removed]"
          },
          "metadata": {}
        }
      ]
    },
    {
      "cell_type": "code",
      "source": [
        "# <> -------------------------------------------\n",
        "# <> Visualizando em forma de Gráfico\n",
        "plot_model(rf_model, plot = 'learning')"
      ],
      "metadata": {
        "id": "E7gvCMF6pnqZ",
        "colab": {
          "base_uri": "https://localhost:8080/",
          "height": 524
        },
        "outputId": "26d5e84a-bcce-41f0-e3fc-de0ede1eb0c7"
      },
      "execution_count": 37,
      "outputs": [
        {
          "output_type": "display_data",
          "data": {
            "text/plain": [
              "<IPython.core.display.HTML object>"
            ],
            "text/html": []
          },
          "metadata": {}
        },
        {
          "output_type": "display_data",
          "data": {
            "text/plain": [
              "<Figure size 800x550 with 1 Axes>"
            ],
            "image/png": "[encoded data removed]"
          },
          "metadata": {}
        }
      ]
    },
    {
      "cell_type": "code",
      "source": [
        "# <> -----------------------------------\n",
        "# <> Fazendo predição do modelo\n",
        "rf_testing_pred = predict_model(rf_model, data = df_test)"
      ],
      "metadata": {
        "id": "lrb3DPTVpnl2",
        "colab": {
          "base_uri": "https://localhost:8080/",
          "height": 81
        },
        "outputId": "5e56e434-6fee-4a39-e286-00b5573e2c5b"
      },
      "execution_count": 38,
      "outputs": [
        {
          "output_type": "display_data",
          "data": {
            "text/plain": [
              "<pandas.io.formats.style.Styler at 0x78979ea163e0>"
            ],
            "text/html": [
              "<style type=\"text/css\">\n",
              "</style>\n",
              "<table id=\"T_9da07\" class=\"dataframe\">\n",
              "  <thead>\n",
              "    <tr>\n",
              "      <th class=\"blank level0\" >&nbsp;</th>\n",
              "      <th id=\"T_9da07_level0_col0\" class=\"col_heading level0 col0\" >Model</th>\n",
              "      <th id=\"T_9da07_level0_col1\" class=\"col_heading level0 col1\" >Accuracy</th>\n",
              "      <th id=\"T_9da07_level0_col2\" class=\"col_heading level0 col2\" >AUC</th>\n",
              "      <th id=\"T_9da07_level0_col3\" class=\"col_heading level0 col3\" >Recall</th>\n",
              "      <th id=\"T_9da07_level0_col4\" class=\"col_heading level0 col4\" >Prec.</th>\n",
              "      <th id=\"T_9da07_level0_col5\" class=\"col_heading level0 col5\" >F1</th>\n",
              "      <th id=\"T_9da07_level0_col6\" class=\"col_heading level0 col6\" >Kappa</th>\n",
              "      <th id=\"T_9da07_level0_col7\" class=\"col_heading level0 col7\" >MCC</th>\n",
              "    </tr>\n",
              "  </thead>\n",
              "  <tbody>\n",
              "    <tr>\n",
              "      <th id=\"T_9da07_level0_row0\" class=\"row_heading level0 row0\" >0</th>\n",
              "      <td id=\"T_9da07_row0_col0\" class=\"data row0 col0\" >Random Forest Classifier</td>\n",
              "      <td id=\"T_9da07_row0_col1\" class=\"data row0 col1\" >0.7832</td>\n",
              "      <td id=\"T_9da07_row0_col2\" class=\"data row0 col2\" >0.8682</td>\n",
              "      <td id=\"T_9da07_row0_col3\" class=\"data row0 col3\" >0.7942</td>\n",
              "      <td id=\"T_9da07_row0_col4\" class=\"data row0 col4\" >0.7793</td>\n",
              "      <td id=\"T_9da07_row0_col5\" class=\"data row0 col5\" >0.7867</td>\n",
              "      <td id=\"T_9da07_row0_col6\" class=\"data row0 col6\" >0.5663</td>\n",
              "      <td id=\"T_9da07_row0_col7\" class=\"data row0 col7\" >0.5664</td>\n",
              "    </tr>\n",
              "  </tbody>\n",
              "</table>\n"
            ]
          },
          "metadata": {}
        }
      ]
    },
    {
      "cell_type": "code",
      "source": [
        "# Supondo que 'true_labels' seja a coluna de rótulos verdadeiros e 'predicted_labels' a coluna de rótulos previstos\n",
        "true_labels = rf_testing_pred['inadimplente']\n",
        "predicted_labels = rf_testing_pred['prediction_label']\n",
        "\n",
        "# Calcular a matriz de confusão\n",
        "conf_matrix = confusion_matrix(true_labels, predicted_labels)\n",
        "\n",
        "# Plotar a matriz de confusão\n",
        "plt.figure(figsize=(10,7))\n",
        "sns.heatmap(conf_matrix, annot=True, fmt='d', cmap='Blues')\n",
        "plt.xlabel('Predicted Labels')\n",
        "plt.ylabel('True Labels')\n",
        "plt.title('Confusion Matrix')\n",
        "plt.show()\n",
        "\n",
        "# Calcular acurácia\n",
        "accuracy = accuracy_score(true_labels, predicted_labels)\n",
        "\n",
        "# Calcular coeficiente Kappa\n",
        "kappa = cohen_kappa_score(true_labels, predicted_labels)\n",
        "\n",
        "# Gerar relatório de classificação\n",
        "classification_rep = classification_report(true_labels, predicted_labels)\n",
        "\n",
        "# Exibir as métricas\n",
        "print(f'Accuracy: {accuracy}')\n",
        "print(f'Kappa: {kappa}')\n",
        "print('Classification Report:')\n",
        "print(classification_rep)"
      ],
      "metadata": {
        "colab": {
          "base_uri": "https://localhost:8080/",
          "height": 847
        },
        "id": "ZrfX9u7gAFvX",
        "outputId": "1c396e40-ceb6-492b-ce48-774fb72d207f"
      },
      "execution_count": 39,
      "outputs": [
        {
          "output_type": "display_data",
          "data": {
            "text/plain": [
              "<Figure size 1000x700 with 2 Axes>"
            ],
            "image/png": "[encoded data removed]"
          },
          "metadata": {}
        },
        {
          "output_type": "stream",
          "name": "stdout",
          "text": [
            "Accuracy: 0.783185706023803\n",
            "Kappa: 0.5662972073422121\n",
            "Classification Report:\n",
            "              precision    recall  f1-score   support\n",
            "\n",
            "           0       0.79      0.77      0.78     16318\n",
            "           1       0.78      0.79      0.79     16535\n",
            "\n",
            "    accuracy                           0.78     32853\n",
            "   macro avg       0.78      0.78      0.78     32853\n",
            "weighted avg       0.78      0.78      0.78     32853\n",
            "\n"
          ]
        }
      ]
    }
  ]
}